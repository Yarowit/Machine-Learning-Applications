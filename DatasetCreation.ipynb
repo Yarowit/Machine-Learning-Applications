{
 "cells": [
  {
   "cell_type": "markdown",
   "metadata": {},
   "source": [
    "Code below gathers the data incrementally, saving it to csv on the fly so we can prevent timeout"
   ]
  },
  {
   "cell_type": "code",
   "execution_count": 1,
   "metadata": {},
   "outputs": [
    {
     "name": "stdout",
     "output_type": "stream",
     "text": [
      "Physics 500\n",
      "Chemistry 489\n",
      "Biology 500\n",
      "Mathematics 500\n"
     ]
    }
   ],
   "source": [
    "import wikipedia\n",
    "import random\n",
    "import pandas as pd\n",
    "import time\n",
    "import os\n",
    "\n",
    "def fetch_links(category):\n",
    "    try:\n",
    "        return wikipedia.page(category, auto_suggest=False).links\n",
    "    except wikipedia.exceptions.DisambiguationError:\n",
    "        return []\n",
    "    except wikipedia.exceptions.PageError:\n",
    "        return []\n",
    "\n",
    "def fetch_article_data(title, category):\n",
    "    try:\n",
    "        page = wikipedia.page(title)\n",
    "        return {\n",
    "            \"title\": title,\n",
    "            \"summary\": page.summary,\n",
    "            \"category\": category,\n",
    "            \"content\": page.content\n",
    "        }\n",
    "    except wikipedia.exceptions.DisambiguationError:\n",
    "        return None\n",
    "    except wikipedia.exceptions.PageError:\n",
    "        return None\n",
    "\n",
    "def random_data(num, categories, output_file,just_data_from_csv):\n",
    "    wikipedia.set_lang(\"en\")\n",
    "    data = []\n",
    "    visited_links = set()\n",
    "    category_nums = { }\n",
    "    for category in categories:\n",
    "        category_nums[category] = 0\n",
    "\n",
    "    if os.path.exists(output_file):\n",
    "        existing_data = pd.read_csv(output_file)\n",
    "        data.extend(existing_data.to_dict('records'))\n",
    "        visited_links.update(existing_data['title'])\n",
    "        database_categories = set(existing_data['category'].values)\n",
    "\n",
    "        for category in database_categories:\n",
    "            category_nums[category] = existing_data.loc[existing_data['category'] == category].count()['category']\n",
    "\n",
    "\n",
    "    if not just_data_from_csv:\n",
    "        for category in categories:\n",
    "            links = fetch_links(category)\n",
    "            print(category, len(links),\"links available\")\n",
    "            random.shuffle(links)\n",
    "            articles_in_category = category_nums[category]\n",
    "            print(\"Entries in category already in database\",category,\":\",articles_in_category)\n",
    "\n",
    "            for link in links:\n",
    "                if articles_in_category >= num:\n",
    "                    break\n",
    "                \n",
    "                if link not in visited_links:\n",
    "                    visited_links.add(link)\n",
    "                    article_data = fetch_article_data(link, category)\n",
    "                    if article_data:\n",
    "                        data.append(article_data)\n",
    "                        articles_in_category += 1\n",
    "                        # Save to file after every iteration\n",
    "                        pd.DataFrame(data).to_csv(output_file, index=False)\n",
    "            print(\"Updated entries in category\",category,\":\",articles_in_category)\n",
    "    pandas_data = pd.DataFrame(data)\n",
    "\n",
    "    return pandas_data\n",
    "\n",
    "\n",
    "categories = [\n",
    "    'Physics',\n",
    "    'Chemistry',\n",
    "    'Biology',\n",
    "    'Mathematics'\n",
    "]\n",
    "\n",
    "\n",
    "num_articles_per_category = 500\n",
    "output_file = 'random_data.csv'\n",
    "random_dataset = random_data(num_articles_per_category, categories, output_file,True)\n",
    "for category in categories:\n",
    "    print(category,random_dataset.loc[random_dataset['category'] == category].count()['category'])\n",
    "#print(random_dataset)\n"
   ]
  },
  {
   "cell_type": "markdown",
   "metadata": {},
   "source": [
    "Text lemmatization and cleaning"
   ]
  },
  {
   "cell_type": "code",
   "execution_count": 2,
   "metadata": {},
   "outputs": [
    {
     "name": "stderr",
     "output_type": "stream",
     "text": [
      "[nltk_data] Downloading package wordnet to\n",
      "[nltk_data]     /Users/adamousherovitch/nltk_data...\n",
      "[nltk_data]   Package wordnet is already up-to-date!\n",
      "[nltk_data] Downloading package stopwords to\n",
      "[nltk_data]     /Users/adamousherovitch/nltk_data...\n",
      "[nltk_data]   Package stopwords is already up-to-date!\n"
     ]
    }
   ],
   "source": [
    "import re\n",
    "import contractions\n",
    "import nltk\n",
    "from bs4 import BeautifulSoup\n",
    "from nltk.tokenize import wordpunct_tokenize\n",
    "from nltk.stem import WordNetLemmatizer\n",
    "from nltk.corpus import stopwords\n",
    "nltk.download('wordnet')\n",
    "nltk.download('stopwords')\n",
    "\n",
    "def wrangle_text(text):\n",
    "    soup = BeautifulSoup(text, 'html')\n",
    "    text = soup.get_text()\n",
    "    text = re.sub(r'https://\\S+|www\\.\\S+', '', text)\n",
    "    text = contractions.fix(text)\n",
    "    return text\n",
    "\n",
    "def prepare_data(text):\n",
    "    text = wrangle_text(text)\n",
    "    review_tokens = wordpunct_tokenize(text)\n",
    "    review_tokens_filtered = [token.lower() for token in review_tokens if token.isalnum()]\n",
    "    stopwords_en = stopwords.words('english')\n",
    "    clean_review = [token for token in review_tokens_filtered if token not in stopwords_en]\n",
    "    clean_review = [token for token in clean_review if token not in ['also']]\n",
    "    wnl = WordNetLemmatizer()\n",
    "    lemmatized_review = [wnl.lemmatize(el) for el in clean_review]\n",
    "    return lemmatized_review\n"
   ]
  },
  {
   "cell_type": "code",
   "execution_count": 3,
   "metadata": {},
   "outputs": [],
   "source": [
    "import gensim\n",
    "from gensim import corpora, models\n",
    "\n",
    "# content model\n",
    "\n",
    "# Here you can either choose to train with summary or content of wikipedia page\n",
    "c_processed_corpus = random_dataset['content'].apply(prepare_data)\n",
    "\n",
    "c_dictionary = corpora.Dictionary(c_processed_corpus)\n",
    "\n",
    "# c_dictionary.filter_extremes(no_below=20, no_above=0.5)\n",
    "\n",
    "c_bow_corpus = [c_dictionary.doc2bow(doc) for doc in c_processed_corpus]\n",
    "c_tfidf = models.TfidfModel(c_bow_corpus)\n",
    "c_corpus_tfidf = c_tfidf[c_bow_corpus]"
   ]
  },
  {
   "cell_type": "code",
   "execution_count": 4,
   "metadata": {},
   "outputs": [
    {
     "name": "stderr",
     "output_type": "stream",
     "text": [
      "/var/folders/6j/b_0507411fbfr6xghch8pd1m0000gn/T/ipykernel_66700/2495836372.py:12: MarkupResemblesLocatorWarning: The input looks more like a filename than markup. You may want to open this file and pass the filehandle into Beautiful Soup.\n",
      "  soup = BeautifulSoup(text, 'html')\n"
     ]
    }
   ],
   "source": [
    "import gensim\n",
    "from gensim import corpora, models\n",
    "\n",
    "# summary model\n",
    "s_processed_corpus = random_dataset['summary'].apply(prepare_data)\n",
    "\n",
    "s_dictionary = corpora.Dictionary(s_processed_corpus)\n",
    "\n",
    "# s_dictionary.filter_extremes(no_below=20, no_above=0.5)\n",
    "\n",
    "s_bow_corpus = [s_dictionary.doc2bow(doc) for doc in s_processed_corpus]\n",
    "s_tfidf = models.TfidfModel(s_bow_corpus)\n",
    "s_corpus_tfidf = s_tfidf[s_bow_corpus]"
   ]
  },
  {
   "cell_type": "code",
   "execution_count": 5,
   "metadata": {},
   "outputs": [
    {
     "name": "stdout",
     "output_type": "stream",
     "text": [
      "Topic: 0 \n",
      "Words: 0.008*\"theory\" + 0.005*\"science\" + 0.004*\"chemical\" + 0.003*\"known\" + 0.003*\"cell\" + 0.003*\"used\" + 0.003*\"physic\" + 0.003*\"century\" + 0.003*\"field\" + 0.003*\"energy\"\n",
      "Topic: 1 \n",
      "Words: 0.005*\"field\" + 0.005*\"chemical\" + 0.005*\"science\" + 0.005*\"theory\" + 0.004*\"system\" + 0.004*\"one\" + 0.003*\"used\" + 0.003*\"university\" + 0.003*\"chemistry\" + 0.003*\"may\"\n",
      "Topic: 2 \n",
      "Words: 0.005*\"cell\" + 0.005*\"system\" + 0.005*\"used\" + 0.005*\"science\" + 0.004*\"one\" + 0.004*\"energy\" + 0.004*\"number\" + 0.004*\"field\" + 0.004*\"chemistry\" + 0.004*\"called\"\n",
      "Topic: 3 \n",
      "Words: 0.005*\"number\" + 0.005*\"physic\" + 0.005*\"one\" + 0.004*\"theory\" + 0.004*\"system\" + 0.004*\"study\" + 0.004*\"energy\" + 0.004*\"electron\" + 0.004*\"atom\" + 0.004*\"field\"\n"
     ]
    },
    {
     "data": {
      "text/plain": [
       "[(0,\n",
       "  '0.008*\"theory\" + 0.005*\"science\" + 0.004*\"chemical\" + 0.003*\"known\" + 0.003*\"cell\" + 0.003*\"used\" + 0.003*\"physic\" + 0.003*\"century\" + 0.003*\"field\" + 0.003*\"energy\"'),\n",
       " (1,\n",
       "  '0.005*\"field\" + 0.005*\"chemical\" + 0.005*\"science\" + 0.005*\"theory\" + 0.004*\"system\" + 0.004*\"one\" + 0.003*\"used\" + 0.003*\"university\" + 0.003*\"chemistry\" + 0.003*\"may\"'),\n",
       " (2,\n",
       "  '0.005*\"cell\" + 0.005*\"system\" + 0.005*\"used\" + 0.005*\"science\" + 0.004*\"one\" + 0.004*\"energy\" + 0.004*\"number\" + 0.004*\"field\" + 0.004*\"chemistry\" + 0.004*\"called\"'),\n",
       " (3,\n",
       "  '0.005*\"number\" + 0.005*\"physic\" + 0.005*\"one\" + 0.004*\"theory\" + 0.004*\"system\" + 0.004*\"study\" + 0.004*\"energy\" + 0.004*\"electron\" + 0.004*\"atom\" + 0.004*\"field\"')]"
      ]
     },
     "execution_count": 5,
     "metadata": {},
     "output_type": "execute_result"
    }
   ],
   "source": [
    "s_lda_model = models.LdaModel(s_bow_corpus,id2word=s_dictionary, num_topics=4)\n",
    "for idx, topic in s_lda_model.print_topics():\n",
    "   print(f'Topic: {idx} \\nWords: {topic}')\n",
    "s_lda_model.show_topics(num_topics=-1, num_words=10, log=False, formatted=True)"
   ]
  },
  {
   "cell_type": "code",
   "execution_count": 6,
   "metadata": {},
   "outputs": [],
   "source": [
    "s_document_topic_distributions = [s_lda_model[doc] for doc in s_bow_corpus]\n",
    "\n",
    "s_document_vectors = []\n",
    "for doc_topics in s_document_topic_distributions:\n",
    "    vector = [0] * s_lda_model.num_topics\n",
    "    for topic_id, prob in doc_topics:\n",
    "        vector[topic_id] = prob\n",
    "    s_document_vectors.append(vector)"
   ]
  },
  {
   "cell_type": "code",
   "execution_count": 8,
   "metadata": {},
   "outputs": [
    {
     "name": "stdout",
     "output_type": "stream",
     "text": [
      "Topic: 0 \n",
      "Words: 0.004*\"1\" + 0.004*\"one\" + 0.004*\"number\" + 0.004*\"displaystyle\" + 0.003*\"cell\" + 0.003*\"two\" + 0.003*\"example\" + 0.003*\"field\" + 0.003*\"theory\" + 0.003*\"2\"\n",
      "Topic: 1 \n",
      "Words: 0.006*\"displaystyle\" + 0.006*\"1\" + 0.006*\"2\" + 0.004*\"one\" + 0.004*\"theory\" + 0.004*\"x\" + 0.003*\"time\" + 0.003*\"used\" + 0.003*\"two\" + 0.003*\"0\"\n",
      "Topic: 2 \n",
      "Words: 0.004*\"one\" + 0.003*\"system\" + 0.003*\"used\" + 0.003*\"first\" + 0.003*\"energy\" + 0.003*\"two\" + 0.003*\"2\" + 0.003*\"number\" + 0.003*\"1\" + 0.002*\"theory\"\n",
      "Topic: 3 \n",
      "Words: 0.005*\"2\" + 0.004*\"theory\" + 0.004*\"1\" + 0.004*\"one\" + 0.003*\"time\" + 0.003*\"used\" + 0.003*\"n\" + 0.003*\"system\" + 0.003*\"x\" + 0.003*\"0\"\n"
     ]
    },
    {
     "data": {
      "text/plain": [
       "[(0,\n",
       "  '0.004*\"1\" + 0.004*\"one\" + 0.004*\"number\" + 0.004*\"displaystyle\" + 0.003*\"cell\" + 0.003*\"two\" + 0.003*\"example\" + 0.003*\"field\" + 0.003*\"theory\" + 0.003*\"2\"'),\n",
       " (1,\n",
       "  '0.006*\"displaystyle\" + 0.006*\"1\" + 0.006*\"2\" + 0.004*\"one\" + 0.004*\"theory\" + 0.004*\"x\" + 0.003*\"time\" + 0.003*\"used\" + 0.003*\"two\" + 0.003*\"0\"'),\n",
       " (2,\n",
       "  '0.004*\"one\" + 0.003*\"system\" + 0.003*\"used\" + 0.003*\"first\" + 0.003*\"energy\" + 0.003*\"two\" + 0.003*\"2\" + 0.003*\"number\" + 0.003*\"1\" + 0.002*\"theory\"'),\n",
       " (3,\n",
       "  '0.005*\"2\" + 0.004*\"theory\" + 0.004*\"1\" + 0.004*\"one\" + 0.003*\"time\" + 0.003*\"used\" + 0.003*\"n\" + 0.003*\"system\" + 0.003*\"x\" + 0.003*\"0\"')]"
      ]
     },
     "execution_count": 8,
     "metadata": {},
     "output_type": "execute_result"
    }
   ],
   "source": [
    "c_lda_model = models.LdaModel(c_bow_corpus,id2word=c_dictionary, num_topics=4)\n",
    "for idx, topic in c_lda_model.print_topics():\n",
    "   print(f'Topic: {idx} \\nWords: {topic}')\n",
    "c_lda_model.show_topics(num_topics=-1, num_words=10, log=False, formatted=True)"
   ]
  },
  {
   "cell_type": "code",
   "execution_count": 9,
   "metadata": {},
   "outputs": [],
   "source": [
    "c_document_topic_distributions = [c_lda_model[doc] for doc in c_bow_corpus]\n",
    "\n",
    "c_document_vectors = []\n",
    "for doc_topics in c_document_topic_distributions:\n",
    "    vector = [0] * c_lda_model.num_topics\n",
    "    for topic_id, prob in doc_topics:\n",
    "        vector[topic_id] = prob\n",
    "    c_document_vectors.append(vector)"
   ]
  },
  {
   "cell_type": "code",
   "execution_count": 10,
   "metadata": {},
   "outputs": [],
   "source": [
    "s_assigned_topics = []\n",
    "\n",
    "for doc in s_processed_corpus:\n",
    "    s_bow_vector = s_dictionary.doc2bow(doc)\n",
    "    s_topic_distribution = s_lda_model.get_document_topics(s_bow_vector)\n",
    "    s_dominant_topic = max(s_topic_distribution, key=lambda item: item[1])[0]\n",
    "    s_assigned_topics.append(s_dominant_topic)"
   ]
  },
  {
   "cell_type": "code",
   "execution_count": 11,
   "metadata": {},
   "outputs": [],
   "source": [
    "c_assigned_topics = []\n",
    "\n",
    "for doc in c_processed_corpus:\n",
    "    c_bow_vector = c_dictionary.doc2bow(doc)\n",
    "    c_topic_distribution = c_lda_model.get_document_topics(c_bow_vector)\n",
    "    c_dominant_topic = max(c_topic_distribution, key=lambda item: item[1])[0]\n",
    "    c_assigned_topics.append(c_dominant_topic)"
   ]
  },
  {
   "cell_type": "code",
   "execution_count": null,
   "metadata": {},
   "outputs": [
    {
     "name": "stdout",
     "output_type": "stream",
     "text": [
      "Physics : 0 with 36.80% accuracy.\n",
      "Mathematics : 2 with 31.80% accuracy.\n",
      "Biology : 1 with 33.20% accuracy.\n",
      "Chemistry : 1 with 36.61% accuracy.\n"
     ]
    }
   ],
   "source": [
    "dic = {\"Physics\": {1:0, 2:0, 3:0, 0:0}, \"Mathematics\": {1:0, 2:0, 3:0, 0:0},\n",
    "        \"Biology\": {1:0, 2:0, 3:0, 0:0}, \"Chemistry\": {1:0, 2:0, 3:0, 0:0}}\n",
    "for i in range(len(s_assigned_topics)):\n",
    "    dic[random_dataset[\"category\"][i]][s_assigned_topics[i]] += 1\n",
    "for category, nested_dict in dic.items():\n",
    "    max_key = max(nested_dict, key=nested_dict.get)\n",
    "    max_value = nested_dict[max_key]\n",
    "    total_sum = sum(nested_dict.values())\n",
    "    percent = (max_value / total_sum) * 100\n",
    "    print(f\"{category} : {max_key} \"\n",
    "          f\"with {percent:.2f}% accuracy.\")"
   ]
  },
  {
   "cell_type": "code",
   "execution_count": null,
   "metadata": {},
   "outputs": [
    {
     "name": "stdout",
     "output_type": "stream",
     "text": [
      "Physics : 0 with 36.80% accuracy.\n",
      "Mathematics : 1 with 45.40% accuracy.\n",
      "Biology : 0 with 53.80% accuracy.\n",
      "Chemistry : 3 with 45.81% accuracy.\n"
     ]
    }
   ],
   "source": [
    "dic = {\"Physics\": {1:0, 2:0, 3:0, 0:0}, \"Mathematics\": {1:0, 2:0, 3:0, 0:0},\n",
    "        \"Biology\": {1:0, 2:0, 3:0, 0:0}, \"Chemistry\": {1:0, 2:0, 3:0, 0:0}}\n",
    "for i in range(len(c_assigned_topics)):\n",
    "    dic[random_dataset[\"category\"][i]][c_assigned_topics[i]] += 1\n",
    "for category, nested_dict in dic.items():\n",
    "    max_key = max(nested_dict, key=nested_dict.get)\n",
    "    max_value = nested_dict[max_key]\n",
    "    total_sum = sum(nested_dict.values())\n",
    "    percent = (max_value / total_sum) * 100\n",
    "    print(f\"{category} : {max_key} \"\n",
    "          f\"with {percent:.2f}% accuracy.\")"
   ]
  },
  {
   "cell_type": "code",
   "execution_count": null,
   "metadata": {},
   "outputs": [
    {
     "data": {
      "image/png": "[encoded data removed]",
      "text/plain": [
       "<Figure size 640x480 with 1 Axes>"
      ]
     },
     "metadata": {},
     "output_type": "display_data"
    }
   ],
   "source": [
    "import matplotlib.pyplot as plt\n",
    "for cat in dic:\n",
    "    plt.plot(range(4),[dic[cat][i]/total_sum for i in range(4)])"
   ]
  },
  {
   "cell_type": "code",
   "execution_count": null,
   "metadata": {},
   "outputs": [
    {
     "name": "stderr",
     "output_type": "stream",
     "text": [
      "/Users/adamousherovitch/opt/anaconda3/lib/python3.8/site-packages/pyLDAvis/_prepare.py:243: FutureWarning: In a future version of pandas all arguments of DataFrame.drop except for the argument 'labels' will be keyword-only.\n",
      "  default_term_info = default_term_info.sort_values(\n"
     ]
    },
    {
     "data": {
      "text/html": [
       "\n",
       "<link rel=\"stylesheet\" type=\"text/css\" href=\"https://cdn.jsdelivr.net/gh/bmabey/pyLDAvis@3.4.0/pyLDAvis/js/ldavis.v1.0.0.css\">\n",
       "\n",
       "\n",
       "<div id=\"ldavis_el635361403560804311687272707684\" style=\"background-color:white;\"></div>\n",
       "<script type=\"text/javascript\">\n",
       "\n",
       "var ldavis_el635361403560804311687272707684_data = {\"mdsDat\": {\"x\": [0.02441856288789438, -0.0037526208305041003, -0.009162036633887163, -0.011503905423503095], \"y\": [-0.0037042789684353446, 0.01588101122703271, 0.004256688615115293, -0.016433420873712655], \"topics\": [1, 2, 3, 4], \"cluster\": [1, 1, 1, 1], \"Freq\": [31.259793102186123, 25.54528191640239, 24.03762204007738, 19.157302941334105]}, \"tinfo\": {\"Term\": [\"science\", \"chemical\", \"cell\", \"mathematics\", \"system\", \"physic\", \"chemistry\", \"reaction\", \"theory\", \"education\", \"university\", \"mathematical\", \"state\", \"number\", \"receptor\", \"work\", \"model\", \"form\", \"example\", \"group\", \"study\", \"year\", \"mass\", \"computer\", \"problem\", \"ring\", \"quantum\", \"life\", \"often\", \"compound\", \"arity\", \"napier\", \"merchiston\", \"mv\", \"3i\", \"omics\", \"sharaf\", \"d\\u012bn\", \"bloch\", \"chatelier\", \"est\", \"spirochaete\", \"rarefied\", \"brout\", \"screw\", \"spectrophotometry\", \"hydrostatics\", \"desargues\", \"cauchy\", \"resting\", \"z0\", \"angel\", \"permic\", \"englert\", \"bx\", \"bouguer\", \"wien\", \"reproducing\", \"mu\\u1e93affar\", \"\\u0645\\u0638\\u0641\\u0631\", \"mathbf\", \"carboxylic\", \"higgs\", \"boson\", \"filter\", \"jesus\", \"gated\", \"charge\", \"channel\", \"displaystyle\", \"manifold\", \"naturalism\", \"number\", \"real\", \"coefficient\", \"sequence\", \"n\", \"particle\", \"equation\", \"motion\", \"gravitational\", \"base\", \"potential\", \"calculus\", \"used\", \"complex\", \"value\", \"geometry\", \"called\", \"ion\", \"vector\", \"one\", \"field\", \"proton\", \"electron\", \"law\", \"acid\", \"1\", \"often\", \"may\", \"many\", \"group\", \"c\", \"2\", \"known\", \"use\", \"study\", \"function\", \"two\", \"physic\", \"energy\", \"first\", \"form\", \"theory\", \"atom\", \"system\", \"example\", \"cell\", \"mathematics\", \"term\", \"issn\", \"lynch\", \"weakless\", \"recessive\", \"rr\", \"photosystem\", \"punnett\", \"excellence\", \"philpapers\", \"thompson\", \"feit\", \"atkins\", \"7li\", \"3he\", \"polypropylene\", \"nrc\", \"3297\", \"issns\", \"nucleosynthesis\", \"imperative\", \"philadelphia\", \"anxiety\", \"phobia\", \"pp\", \"\\u03bceff\", \"education\", \"sorbonne\", \"serial\", \"standardizing\", \"colinvaux\", \"academy\", \"der\", \"waals\", \"erd\\u0151s\", \"lymphatic\", \"circulatory\", \"system\", \"onion\", \"curriculum\", \"university\", \"national\", \"decision\", \"space\", \"material\", \"food\", \"theory\", \"element\", \"time\", \"state\", \"f\", \"first\", \"energy\", \"including\", \"mathematical\", \"chemistry\", \"general\", \"science\", \"society\", \"substance\", \"molecule\", \"problem\", \"research\", \"one\", \"property\", \"many\", \"known\", \"analysis\", \"century\", \"two\", \"chemical\", \"reaction\", \"study\", \"electron\", \"physic\", \"number\", \"used\", \"work\", \"field\", \"may\", \"spindle\", \"aragon\", \"livestock\", \"blindness\", \"protocell\", \"webster\", \"sperm\", \"permutation\", \"spain\", \"bioorganic\", \"merriam\", \"interrogative\", \"spermatozoon\", \"plo\", \"rubik\", \"immerman\", \"phlox\", \"louisa\", \"isomeric\", \"clause\", \"oceanographer\", \"phospholipid\", \"bilayers\", \"oceanography\", \"interpreter\", \"thermochemistry\", \"disproven\", \"microtubule\", \"metamorphic\", \"haloarchaea\", \"ring\", \"homomorphism\", \"hess\", \"noncommutative\", \"oxidation\", \"phosphorus\", \"chemical\", \"egg\", \"cube\", \"cyanobacteria\", \"cell\", \"algorithm\", \"bond\", \"model\", \"organelle\", \"chemistry\", \"structure\", \"group\", \"convex\", \"earth\", \"reaction\", \"biochemistry\", \"atom\", \"theory\", \"within\", \"molecular\", \"form\", \"state\", \"change\", \"interaction\", \"process\", \"organic\", \"specie\", \"greek\", \"molecule\", \"may\", \"used\", \"type\", \"compound\", \"include\", \"science\", \"field\", \"scientific\", \"many\", \"study\", \"physic\", \"energy\", \"called\", \"number\", \"one\", \"system\", \"term\", \"two\", \"known\", \"first\", \"lazy\", \"wolfram\", \"kluwer\", \"jabre\", \"saliba\", \"dordrecht\", \"pinhole\", \"anabolism\", \"disjoining\", \"sarcomere\", \"myoblasts\", \"stm\", \"wolters\", \"reuben\", \"myofibril\", \"fermionic\", \"eigenstate\", \"quaternary\", \"zemansky\", \"hersh\", \"carnegie\", \"cardiac\", \"fodor\", \"antibody\", \"determiner\", \"sears\", \"1842\", \"mellon\", \"interface\", \"situs\", \"condensate\", \"stimulation\", \"receptor\", \"springer\", \"mathematics\", \"muscle\", \"science\", \"physic\", \"arithmetic\", \"axon\", \"antigen\", \"immune\", \"phrase\", \"example\", \"speciation\", \"mathematical\", \"signal\", \"study\", \"cell\", \"life\", \"object\", \"year\", \"computer\", \"quantum\", \"work\", \"nuclear\", \"term\", \"known\", \"reaction\", \"form\", \"unit\", \"often\", \"world\", \"theory\", \"matter\", \"field\", \"system\", \"problem\", \"energy\", \"area\", \"organism\", \"scientific\", \"one\", \"time\", \"chemistry\", \"called\", \"process\", \"used\", \"two\", \"chemical\", \"many\"], \"Freq\": [984.0, 916.0, 849.0, 639.0, 1001.0, 868.0, 684.0, 518.0, 1189.0, 141.0, 395.0, 526.0, 475.0, 842.0, 78.0, 483.0, 396.0, 680.0, 525.0, 414.0, 787.0, 314.0, 345.0, 264.0, 303.0, 85.0, 510.0, 389.0, 453.0, 361.0, 7.008905880812923, 6.747707950688071, 4.199643294619525, 12.524508509900375, 4.127502071462874, 4.038128175638194, 3.218870422048597, 3.2160137208748796, 6.445000683937405, 4.7902842258088, 3.1748481960648443, 7.114692282068162, 3.095662409075861, 3.8531977830018853, 14.510982758720687, 3.817293638176993, 4.576878141975897, 4.563614334431871, 9.866453272454615, 6.7702798691313255, 3.7563845552399986, 6.750146982053946, 7.46543987858796, 5.240111173598965, 3.750911907044994, 2.99135288139064, 4.469155401734886, 3.72110047402291, 2.2285403825586836, 2.226779241600601, 17.00176052244759, 5.92634753449491, 30.28310504551967, 50.355069012669716, 14.871101732094155, 17.125087338004462, 11.192151556108819, 111.79744787544035, 35.84183845180292, 174.0238115751637, 50.708364423644475, 21.75475590921592, 437.3956308899743, 96.20804797084048, 25.29134680939452, 96.4940810802042, 108.7172512726487, 255.4546456353893, 158.50473822003173, 76.93701610083795, 62.07530864730043, 72.82780018037954, 90.00310637264776, 43.413567424026226, 398.6572720735074, 147.61868853559568, 98.79381512795932, 167.56423052203303, 296.22211365600316, 129.48115355219065, 76.3414756365704, 374.296089380927, 377.27829417706795, 73.9135424359524, 190.6252926979167, 157.2818972098234, 136.1498912781689, 181.82999444133077, 186.85627699467713, 238.70827917899243, 265.32110234309937, 167.54435184385855, 127.35736870798245, 131.90577516655978, 253.70394785385906, 160.03495672676803, 241.16799536298657, 161.5076095129291, 198.7552690012978, 241.16359823601712, 221.66583950665154, 190.60896836404257, 201.31663210373608, 255.2768734562863, 169.68505646621801, 221.02963019825702, 169.99335003086466, 187.37566929658286, 168.22878297801822, 165.05427716241272, 12.397069298395088, 3.6439850980468114, 2.810736945479711, 5.6344284899275205, 4.854935747091815, 4.088400410490672, 5.430760840208775, 8.06599239918082, 1.9998751053774744, 1.9952045158007967, 1.995648765718458, 2.6698760343834818, 1.9918486626839702, 1.9898758561775778, 3.3388689207906457, 3.3178970027450445, 1.9666005759996468, 1.9672642605791124, 5.238009246128744, 4.561473936553953, 19.347405346166312, 3.8701466721114772, 1.9446347686569498, 2.5967231152141004, 2.5814862086121386, 99.5938189880754, 4.994513035598151, 10.532389338576273, 3.0842208442385037, 7.308118883249151, 37.18255122117097, 21.49601223598373, 17.883247450080948, 6.048053469873831, 8.260091481162762, 17.71613649211222, 415.5594298352721, 10.684158585328445, 9.050333247282675, 173.15288411166947, 50.75420232977515, 25.047586099051934, 177.54687746683715, 164.89222930570327, 66.18486271994426, 378.63565617961933, 162.79953567777127, 190.15377963997997, 169.5744952393532, 60.355416704023874, 195.65924090499547, 240.85257775885486, 152.51065705393566, 172.60363307076253, 212.76259043011467, 102.40248534060028, 277.3640350886105, 62.525429936371935, 80.56714757825061, 151.66491375834477, 105.01256192055901, 135.93896636655955, 245.6977549798459, 137.77402030764605, 199.80859034552722, 203.1213144919377, 93.70163618125518, 143.74740423264424, 163.97870736864624, 209.7954220701055, 142.2939738374669, 176.27216888371666, 123.4604199021177, 178.99848126730305, 168.98300793876527, 177.0036302331376, 129.1394376088994, 170.64818857168413, 135.30205375158937, 4.345675703579792, 7.931709310445483, 2.0821989380974246, 2.049282158799741, 2.667762624721414, 4.646179227373653, 4.588620871192208, 4.533538559827527, 3.8676040169859904, 3.8994034062152267, 4.5257758247263205, 3.8114025544968038, 3.8775773177033006, 5.053854899391269, 4.400532599769122, 3.711743511678113, 2.4523095233537378, 1.8373015297793305, 1.8487575296310037, 3.0345245618845005, 6.050923454297776, 7.946444947006133, 1.825041497771431, 12.113530635008653, 3.0345991866349347, 5.959255643603744, 1.8049630372645096, 1.8042435357990407, 1.7905725676911193, 4.853769873840871, 52.83282640970772, 5.8824687565951, 4.110970957524163, 9.188953645694436, 40.90544028049875, 16.030215284315563, 440.51267547589737, 18.862400228632122, 19.549426939873648, 19.730474068915065, 342.8232611498679, 51.49382504699201, 99.68420478763983, 155.12669438141387, 20.165479569888127, 236.70650325500225, 175.00243796450735, 150.9394807032028, 18.76337076335397, 153.35774879283417, 172.48894605173797, 33.83266580992611, 167.89973258518242, 331.6873851877885, 112.5243321829727, 96.57172840016469, 202.8100625610119, 150.44901954698088, 123.60877826395054, 114.00869815689394, 165.74425632466682, 80.57269613545826, 113.11003829500534, 123.0163026524331, 145.5621453413722, 180.58154808517546, 237.81602492498476, 112.0373297408476, 114.89110699348446, 123.8561573304516, 237.83222664071323, 232.99160481139722, 130.20677906566095, 173.708484415741, 178.8988097127197, 187.66855893291645, 171.46368739199195, 161.0564237188945, 174.46211778918712, 182.72244280153544, 179.55314770142297, 138.00965215652803, 143.55299170655738, 143.77289829856232, 134.56805552458962, 2.8008074732315964, 2.802018177533903, 2.540347977727571, 1.8934473180830065, 1.8833774723296668, 2.50067806968106, 3.101346526767046, 5.595422301851858, 1.8542072355024641, 1.8463423066700622, 1.8434012478490407, 2.4419361916731295, 2.4347937205014865, 3.0250389977572096, 1.8120057431808791, 4.2375496196547155, 3.0165021376861705, 3.6001914362325915, 2.405419448157173, 3.5091901920893847, 2.9144140281054525, 5.880585007238392, 1.7587461574121575, 25.00159366835067, 1.750371753823358, 2.314461186560563, 2.872836572184868, 2.8468777456248326, 26.80138131564319, 1.6924475968345627, 11.217236238192138, 5.524612679149178, 43.65216765522518, 11.623613935517074, 241.8168962707756, 21.475539932000114, 344.02466224366106, 260.7408603066822, 30.333141730670086, 13.454335682997964, 8.853519684816025, 23.3268954071151, 11.080889284584043, 141.76070254516057, 11.08069630172177, 139.3018510547314, 37.627660941595565, 191.3096068205625, 202.7884015039398, 107.71359650724456, 88.71264143211774, 90.52305366317314, 78.74277904708732, 132.36606663384907, 126.80756511145118, 89.15427043169903, 132.6978455776901, 173.14196718335404, 126.61568821641922, 152.62612892016372, 63.99153958213077, 110.94943208897291, 91.55422495607459, 223.58390912762263, 89.06102672669623, 188.16405634111933, 185.5407581888236, 80.78064438839553, 149.92417797076462, 76.84122837861753, 106.52521505893378, 101.10502119602467, 153.5116774504625, 109.46921002648514, 122.31471074398269, 122.8920368712431, 109.66000902451184, 125.62888473618784, 104.97277389709289, 115.02159223775936, 101.74459587533947], \"Total\": [984.0, 916.0, 849.0, 639.0, 1001.0, 868.0, 684.0, 518.0, 1189.0, 141.0, 395.0, 526.0, 475.0, 842.0, 78.0, 483.0, 396.0, 680.0, 525.0, 414.0, 787.0, 314.0, 345.0, 264.0, 303.0, 85.0, 510.0, 389.0, 453.0, 361.0, 7.836895600266404, 7.810953664812149, 4.87592728047839, 14.635417872400648, 4.875205042261554, 4.873974098750603, 3.893571924640894, 3.891375225736623, 7.8022617815849555, 5.827720100264887, 3.890826895532143, 8.76507815718167, 3.8819699254231073, 4.8448194746900395, 18.37107283085512, 4.84391582374387, 5.814783214621119, 5.803652065280284, 12.632900174861318, 8.700603785970353, 4.829737814728494, 8.697728717757759, 9.629003963151906, 6.763089540924973, 4.84853929970113, 3.8736592251991495, 5.79865825399902, 4.839952206877301, 2.9022004912938906, 2.9009413490034897, 22.279035979626695, 7.753985711866541, 40.417210074266684, 70.1696405559989, 20.22088597489195, 24.030753912212443, 15.375460474199606, 179.97502511315727, 53.4406120155551, 299.055220064089, 78.79157323435949, 31.59485953244689, 842.3415288529878, 167.84955093952425, 38.15043586038956, 172.43451095883862, 197.59891001067868, 516.5508205139583, 302.43278820073135, 135.50283660339113, 106.70840913205335, 128.33995030091495, 163.50587848815906, 72.04972188173589, 939.1058119678175, 299.0561014566593, 187.6428409293945, 353.55587081318356, 694.5873740108427, 262.19205215068416, 141.29278302823002, 956.2279646127708, 969.0821439012686, 136.53320153855097, 440.2542339735298, 349.17003041887233, 293.8898578866655, 425.1814689667178, 453.5541312955863, 641.4232048044416, 740.582772979707, 414.91545511267816, 287.5526905315927, 303.8975292692925, 773.7401278277131, 402.8797914194197, 787.6485807799854, 427.4850699991444, 611.2597419735943, 868.5714987429188, 783.9062826282629, 599.9207371913857, 680.9543019447295, 1189.1838239513168, 515.3522697059365, 1001.6829659237757, 525.0231297834923, 849.422286803917, 639.5608761909749, 542.7289204212198, 14.358726120562478, 4.490471819454301, 3.583352820721861, 7.235398605659056, 6.332427595201385, 5.358385504897812, 7.216517406704988, 10.776458161436489, 2.698866682229817, 2.6976717180374834, 2.6986386321013103, 3.6127835787495854, 2.6978827385781576, 2.6970505946749777, 4.527563772637088, 4.528501254390073, 2.696499032956064, 2.6980803292160047, 7.221629568352847, 6.293899493543522, 26.79397775943407, 5.370564771167784, 2.7000721661680394, 3.6233871094039323, 3.6057766099806314, 141.96892680854964, 7.144812984913575, 15.324442117527632, 4.496897820111915, 10.666323768986715, 58.918839734509525, 34.1557061992048, 28.738753586153138, 9.014802084478147, 12.749545547006676, 29.260041068875477, 1001.6829659237757, 17.147674707231175, 14.446911285885136, 395.799811960529, 102.06751562275221, 46.70655968286301, 461.41981279055784, 435.0904616297985, 149.04032094322588, 1189.1838239513168, 444.941653094323, 545.491977085037, 475.1781757895896, 141.18414248356333, 599.9207371913857, 783.9062826282629, 448.2538135514026, 526.2646953145829, 684.8614666610185, 280.61409579157174, 984.8754594586359, 153.4136058582506, 213.91761155593696, 481.7231560762937, 303.16883180488844, 428.4076924273096, 956.2279646127708, 445.90020874309175, 740.582772979707, 773.7401278277131, 265.23663903353776, 496.4766826965018, 611.2597419735943, 916.0476199783361, 518.93317544025, 787.6485807799854, 440.2542339735298, 868.5714987429188, 842.3415288529878, 939.1058119678175, 483.72321693095626, 969.0821439012686, 641.4232048044416, 5.535520127769816, 10.117738262876243, 2.7730319829832237, 2.7722256082623193, 3.684932707973246, 6.493877851899218, 6.477810778863563, 6.452471813773071, 5.511700111812246, 5.592525735917429, 6.495841649955509, 5.488790350066161, 5.586021988159938, 7.332628410798663, 6.42567406359027, 5.501699777800198, 3.6750704130784304, 2.766829111205944, 2.784351320860122, 4.575358145554628, 9.17336737585065, 12.059460901703767, 2.7704017743184406, 18.41711986612714, 4.6155632180974475, 9.158007885597764, 2.774404395492768, 2.7733323778537957, 2.755631161921083, 7.480836748592012, 85.47610130160602, 9.169452269885994, 6.437614625292046, 14.760703553152448, 70.32267444882407, 26.71041206010911, 916.0476199783361, 32.40769373412152, 33.906988356148545, 34.30087425506315, 849.422286803917, 107.84849186026725, 237.51441214269394, 396.1630498347908, 37.85706894616703, 684.8614666610185, 488.29384070923953, 414.91545511267816, 36.11782004369431, 443.88994690692044, 518.93317544025, 73.23664445268426, 515.3522697059365, 1189.1838239513168, 318.47516232845635, 268.48180617228667, 680.9543019447295, 475.1781757895896, 376.9814825197721, 341.96879557878793, 547.721852289754, 221.93952500353043, 342.2122530329352, 384.34883457686794, 481.7231560762937, 641.4232048044416, 939.1058119678175, 345.7836931380787, 361.89265048318873, 401.84329670880635, 984.8754594586359, 969.0821439012686, 452.25206426548783, 740.582772979707, 787.6485807799854, 868.5714987429188, 783.9062826282629, 694.5873740108427, 842.3415288529878, 956.2279646127708, 1001.6829659237757, 542.7289204212198, 611.2597419735943, 773.7401278277131, 599.9207371913857, 3.5082817323238453, 3.510104811708726, 3.520912683224289, 2.646980946941167, 2.6484137424797827, 3.522835195538603, 4.387174457335703, 7.915636535368494, 2.6481530445281183, 2.6523087961823175, 2.6535818015871775, 3.523332428848713, 3.5244864353255085, 4.430246882940107, 2.6547729634951267, 6.221439377444107, 4.4444604063427935, 5.308038867452468, 3.546692975081533, 5.298623194501241, 4.406012522283908, 8.891983092492232, 2.6597340910433838, 38.05807259208294, 2.6720348586737663, 3.5545044286220975, 4.41974754672196, 4.415755875967778, 41.66550240754579, 2.6535584574052384, 17.917069636482182, 8.902417660315928, 78.69294753773369, 19.63312286537568, 639.5608761909749, 42.412623146137946, 984.8754594586359, 868.5714987429188, 72.94155561111118, 27.79293205589646, 17.02064129252237, 55.64195285753168, 22.538552937573076, 525.0231297834923, 22.57575584175614, 526.2646953145829, 103.1317456025064, 787.6485807799854, 849.422286803917, 389.0976547508586, 305.5129537375838, 314.60965360631053, 264.02487159266224, 510.5166558608576, 483.72321693095626, 312.35221301612114, 542.7289204212198, 773.7401278277131, 518.93317544025, 680.9543019447295, 216.62747344170762, 453.5541312955863, 351.2484327762771, 1189.1838239513168, 342.7014728303288, 969.0821439012686, 1001.6829659237757, 303.16883180488844, 783.9062826282629, 286.8297408076827, 475.94618154364514, 452.25206426548783, 956.2279646127708, 545.491977085037, 684.8614666610185, 694.5873740108427, 547.721852289754, 939.1058119678175, 611.2597419735943, 916.0476199783361, 740.582772979707], \"Category\": [\"Default\", \"Default\", \"Default\", \"Default\", \"Default\", \"Default\", \"Default\", \"Default\", \"Default\", \"Default\", \"Default\", \"Default\", \"Default\", \"Default\", \"Default\", \"Default\", \"Default\", \"Default\", \"Default\", \"Default\", \"Default\", \"Default\", \"Default\", \"Default\", \"Default\", \"Default\", \"Default\", \"Default\", \"Default\", \"Default\", \"Topic1\", \"Topic1\", \"Topic1\", \"Topic1\", \"Topic1\", \"Topic1\", \"Topic1\", \"Topic1\", \"Topic1\", \"Topic1\", \"Topic1\", \"Topic1\", \"Topic1\", \"Topic1\", \"Topic1\", \"Topic1\", \"Topic1\", \"Topic1\", \"Topic1\", \"Topic1\", \"Topic1\", \"Topic1\", \"Topic1\", \"Topic1\", \"Topic1\", \"Topic1\", \"Topic1\", \"Topic1\", \"Topic1\", \"Topic1\", \"Topic1\", \"Topic1\", \"Topic1\", \"Topic1\", \"Topic1\", \"Topic1\", \"Topic1\", \"Topic1\", \"Topic1\", \"Topic1\", \"Topic1\", \"Topic1\", \"Topic1\", \"Topic1\", \"Topic1\", \"Topic1\", \"Topic1\", \"Topic1\", \"Topic1\", \"Topic1\", \"Topic1\", \"Topic1\", \"Topic1\", \"Topic1\", \"Topic1\", \"Topic1\", \"Topic1\", \"Topic1\", \"Topic1\", \"Topic1\", \"Topic1\", \"Topic1\", \"Topic1\", \"Topic1\", \"Topic1\", \"Topic1\", \"Topic1\", \"Topic1\", \"Topic1\", \"Topic1\", \"Topic1\", \"Topic1\", \"Topic1\", \"Topic1\", \"Topic1\", \"Topic1\", \"Topic1\", \"Topic1\", \"Topic1\", \"Topic1\", \"Topic1\", \"Topic1\", \"Topic1\", \"Topic1\", \"Topic1\", \"Topic1\", \"Topic1\", \"Topic1\", \"Topic1\", \"Topic1\", \"Topic2\", \"Topic2\", \"Topic2\", \"Topic2\", \"Topic2\", \"Topic2\", \"Topic2\", \"Topic2\", \"Topic2\", \"Topic2\", \"Topic2\", \"Topic2\", \"Topic2\", \"Topic2\", \"Topic2\", \"Topic2\", \"Topic2\", \"Topic2\", \"Topic2\", \"Topic2\", \"Topic2\", \"Topic2\", \"Topic2\", \"Topic2\", \"Topic2\", \"Topic2\", \"Topic2\", \"Topic2\", \"Topic2\", \"Topic2\", \"Topic2\", \"Topic2\", \"Topic2\", \"Topic2\", \"Topic2\", \"Topic2\", \"Topic2\", \"Topic2\", \"Topic2\", \"Topic2\", \"Topic2\", \"Topic2\", \"Topic2\", \"Topic2\", \"Topic2\", \"Topic2\", \"Topic2\", \"Topic2\", \"Topic2\", \"Topic2\", \"Topic2\", \"Topic2\", \"Topic2\", \"Topic2\", \"Topic2\", \"Topic2\", \"Topic2\", \"Topic2\", \"Topic2\", \"Topic2\", \"Topic2\", \"Topic2\", \"Topic2\", \"Topic2\", \"Topic2\", \"Topic2\", \"Topic2\", \"Topic2\", \"Topic2\", \"Topic2\", \"Topic2\", \"Topic2\", \"Topic2\", \"Topic2\", \"Topic2\", \"Topic2\", \"Topic2\", \"Topic2\", \"Topic2\", \"Topic3\", \"Topic3\", \"Topic3\", \"Topic3\", \"Topic3\", \"Topic3\", \"Topic3\", \"Topic3\", \"Topic3\", \"Topic3\", \"Topic3\", \"Topic3\", \"Topic3\", \"Topic3\", \"Topic3\", \"Topic3\", \"Topic3\", \"Topic3\", \"Topic3\", \"Topic3\", \"Topic3\", \"Topic3\", \"Topic3\", \"Topic3\", \"Topic3\", \"Topic3\", \"Topic3\", \"Topic3\", \"Topic3\", \"Topic3\", \"Topic3\", \"Topic3\", \"Topic3\", \"Topic3\", \"Topic3\", \"Topic3\", \"Topic3\", \"Topic3\", \"Topic3\", \"Topic3\", \"Topic3\", \"Topic3\", \"Topic3\", \"Topic3\", \"Topic3\", \"Topic3\", \"Topic3\", \"Topic3\", \"Topic3\", \"Topic3\", \"Topic3\", \"Topic3\", \"Topic3\", \"Topic3\", \"Topic3\", \"Topic3\", \"Topic3\", \"Topic3\", \"Topic3\", \"Topic3\", \"Topic3\", \"Topic3\", \"Topic3\", \"Topic3\", \"Topic3\", \"Topic3\", \"Topic3\", \"Topic3\", \"Topic3\", \"Topic3\", \"Topic3\", \"Topic3\", \"Topic3\", \"Topic3\", \"Topic3\", \"Topic3\", \"Topic3\", \"Topic3\", \"Topic3\", \"Topic3\", \"Topic3\", \"Topic3\", \"Topic3\", \"Topic3\", \"Topic3\", \"Topic4\", \"Topic4\", \"Topic4\", \"Topic4\", \"Topic4\", \"Topic4\", \"Topic4\", \"Topic4\", \"Topic4\", \"Topic4\", \"Topic4\", \"Topic4\", \"Topic4\", \"Topic4\", \"Topic4\", \"Topic4\", \"Topic4\", \"Topic4\", \"Topic4\", \"Topic4\", \"Topic4\", \"Topic4\", \"Topic4\", \"Topic4\", \"Topic4\", \"Topic4\", \"Topic4\", \"Topic4\", \"Topic4\", \"Topic4\", \"Topic4\", \"Topic4\", \"Topic4\", \"Topic4\", \"Topic4\", \"Topic4\", \"Topic4\", \"Topic4\", \"Topic4\", \"Topic4\", \"Topic4\", \"Topic4\", \"Topic4\", \"Topic4\", \"Topic4\", \"Topic4\", \"Topic4\", \"Topic4\", \"Topic4\", \"Topic4\", \"Topic4\", \"Topic4\", \"Topic4\", \"Topic4\", \"Topic4\", \"Topic4\", \"Topic4\", \"Topic4\", \"Topic4\", \"Topic4\", \"Topic4\", \"Topic4\", \"Topic4\", \"Topic4\", \"Topic4\", \"Topic4\", \"Topic4\", \"Topic4\", \"Topic4\", \"Topic4\", \"Topic4\", \"Topic4\", \"Topic4\", \"Topic4\", \"Topic4\", \"Topic4\", \"Topic4\", \"Topic4\", \"Topic4\", \"Topic4\", \"Topic4\"], \"logprob\": [30.0, 29.0, 28.0, 27.0, 26.0, 25.0, 24.0, 23.0, 22.0, 21.0, 20.0, 19.0, 18.0, 17.0, 16.0, 15.0, 14.0, 13.0, 12.0, 11.0, 10.0, 9.0, 8.0, 7.0, 6.0, 5.0, 4.0, 3.0, 2.0, 1.0, -9.3261, -9.3641, -9.8383, -8.7456, -9.8556, -9.8775, -10.1042, -10.1051, -9.41, -9.7067, -10.118, -9.3111, -10.1433, -9.9244, -8.5984, -9.9337, -9.7522, -9.7552, -8.9841, -9.3607, -9.9498, -9.3637, -9.263, -9.6169, -9.9513, -10.1775, -9.7761, -9.9592, -10.4719, -10.4727, -8.44, -9.4939, -7.8627, -7.3542, -8.5738, -8.4327, -8.8581, -6.5566, -7.6942, -6.1141, -7.3472, -8.1934, -5.1924, -6.7068, -8.0428, -6.7038, -6.5845, -5.7302, -6.2075, -6.9303, -7.1449, -6.9852, -6.7734, -7.5025, -5.2852, -6.2786, -6.6802, -6.1519, -5.5822, -6.4097, -6.9381, -5.3482, -5.3403, -6.9704, -6.023, -6.2152, -6.3595, -6.0702, -6.0429, -5.798, -5.6923, -6.152, -6.4263, -6.3912, -5.7371, -6.1979, -5.7878, -6.1887, -5.9812, -5.7878, -5.8721, -6.023, -5.9684, -5.7309, -6.1393, -5.875, -6.1375, -6.0402, -6.1479, -6.167, -8.5539, -9.7783, -10.0379, -9.3425, -9.4914, -9.6632, -9.3793, -8.9837, -10.3783, -10.3806, -10.3804, -10.0894, -10.3823, -10.3833, -9.8658, -9.8721, -10.3951, -10.3947, -9.4154, -9.5537, -8.1088, -9.7181, -10.4063, -10.1171, -10.123, -6.4703, -9.463, -8.7169, -9.9451, -9.0824, -7.4555, -8.0035, -8.1875, -9.2717, -8.96, -8.1969, -5.0418, -8.7026, -8.8686, -5.9172, -7.1444, -7.8506, -5.8922, -5.9661, -6.8789, -5.1348, -5.9789, -5.8236, -5.9381, -6.9711, -5.795, -5.5872, -6.0442, -5.9204, -5.7112, -6.4425, -5.4461, -6.9358, -6.6823, -6.0497, -6.4173, -6.1592, -5.5673, -6.1458, -5.774, -5.7576, -6.5313, -6.1033, -5.9717, -5.7253, -6.1135, -5.8994, -6.2555, -5.884, -5.9416, -5.8952, -6.2105, -5.9318, -6.1639, -9.5414, -8.9397, -10.2771, -10.2931, -10.0293, -9.4745, -9.487, -9.4991, -9.6579, -9.6497, -9.5008, -9.6726, -9.6553, -9.3904, -9.5288, -9.6991, -10.1135, -10.4023, -10.396, -9.9005, -9.2103, -8.9378, -10.409, -8.5162, -9.9005, -9.2256, -10.42, -10.4204, -10.428, -9.4308, -7.0434, -9.2386, -9.5969, -8.7926, -7.2993, -8.2361, -4.9226, -8.0734, -8.0376, -8.0284, -5.1733, -7.0691, -6.4085, -5.9663, -8.0066, -5.5437, -5.8458, -5.9937, -8.0786, -5.9778, -5.8602, -7.4891, -5.8872, -5.2064, -6.2874, -6.4403, -5.6983, -5.9969, -6.1934, -6.2743, -5.9001, -6.6214, -6.2822, -6.1982, -6.03, -5.8144, -5.5391, -6.2917, -6.2666, -6.1914, -5.539, -5.5596, -6.1414, -5.8532, -5.8237, -5.7759, -5.8662, -5.9288, -5.8488, -5.8026, -5.8201, -6.0832, -6.0439, -6.0423, -6.1085, -9.7537, -9.7533, -9.8513, -10.1452, -10.1506, -9.8671, -9.6518, -9.0617, -10.1662, -10.1704, -10.172, -9.8908, -9.8938, -9.6767, -10.1892, -9.3396, -9.6795, -9.5026, -9.9059, -9.5282, -9.7139, -9.012, -10.219, -7.5647, -10.2238, -9.9444, -9.7283, -9.7374, -7.4952, -10.2574, -8.3662, -9.0744, -7.0074, -8.3306, -5.2954, -7.7167, -4.9429, -5.2201, -7.3714, -8.1843, -8.6028, -7.634, -8.3784, -5.8295, -8.3784, -5.847, -7.1559, -5.5297, -5.4715, -6.1041, -6.2982, -6.278, -6.4174, -5.898, -5.9409, -6.2932, -5.8955, -5.6295, -5.9425, -5.7556, -6.6249, -6.0745, -6.2667, -5.3738, -6.2943, -5.5463, -5.5603, -6.3919, -5.7735, -6.4419, -6.1152, -6.1675, -5.7498, -6.088, -5.977, -5.9723, -6.0862, -5.9503, -6.1299, -6.0385, -6.1612], \"loglift\": [30.0, 29.0, 28.0, 27.0, 26.0, 25.0, 24.0, 23.0, 22.0, 21.0, 20.0, 19.0, 18.0, 17.0, 16.0, 15.0, 14.0, 13.0, 12.0, 11.0, 10.0, 9.0, 8.0, 7.0, 6.0, 5.0, 4.0, 3.0, 2.0, 1.0, 1.0512, 1.0165, 1.0135, 1.0071, 0.9963, 0.9747, 0.9725, 0.9722, 0.9717, 0.9668, 0.9595, 0.9542, 0.9365, 0.9338, 0.927, 0.9247, 0.9235, 0.9225, 0.9157, 0.912, 0.9115, 0.9093, 0.9083, 0.9077, 0.9062, 0.9044, 0.9024, 0.9, 0.8987, 0.8984, 0.8925, 0.894, 0.8742, 0.831, 0.8555, 0.824, 0.8453, 0.6867, 0.7634, 0.6214, 0.7221, 0.7897, 0.5075, 0.6063, 0.7518, 0.5823, 0.5653, 0.4587, 0.5168, 0.5968, 0.6211, 0.5963, 0.5658, 0.6563, 0.306, 0.4568, 0.5213, 0.4162, 0.3106, 0.4573, 0.5472, 0.2249, 0.2195, 0.5492, 0.3258, 0.3653, 0.3934, 0.3134, 0.2761, 0.1744, 0.1363, 0.256, 0.3484, 0.3282, 0.0478, 0.2396, -0.0207, 0.1895, 0.0394, -0.1185, -0.1003, 0.0163, -0.0558, -0.3758, 0.0519, -0.3483, 0.0352, -0.3486, -0.1726, -0.0275, 1.2178, 1.1558, 1.1219, 1.1146, 1.099, 1.0942, 1.0804, 1.075, 1.065, 1.0631, 1.0629, 1.0623, 1.0613, 1.0606, 1.0602, 1.0537, 1.0491, 1.0488, 1.0436, 1.0428, 1.0391, 1.0371, 1.0365, 1.0316, 1.0305, 1.0102, 1.0067, 0.9897, 0.9876, 0.9866, 0.9044, 0.9017, 0.8903, 0.9656, 0.9307, 0.863, 0.4849, 0.8916, 0.897, 0.538, 0.6661, 0.7416, 0.4096, 0.3945, 0.553, 0.2203, 0.3593, 0.3109, 0.3343, 0.5149, 0.2443, 0.1846, 0.2866, 0.2499, 0.1957, 0.3566, 0.0975, 0.4672, 0.3882, 0.209, 0.3045, 0.2168, 0.0058, 0.1902, 0.0546, 0.0273, 0.3242, 0.1252, 0.0489, -0.1092, 0.0708, -0.1323, 0.0933, -0.2148, -0.2417, -0.304, 0.0441, -0.372, -0.1915, 1.1835, 1.1821, 1.139, 1.1234, 1.1025, 1.0907, 1.0807, 1.0726, 1.0713, 1.0649, 1.0642, 1.0608, 1.0605, 1.0534, 1.047, 1.032, 1.021, 1.0161, 1.016, 1.0149, 1.0095, 1.0084, 1.0082, 1.0066, 1.0062, 0.9959, 0.9957, 0.9956, 0.9944, 0.993, 0.9444, 0.9816, 0.9771, 0.9516, 0.8837, 0.915, 0.6934, 0.8843, 0.8749, 0.8725, 0.5182, 0.6863, 0.5573, 0.488, 0.7957, 0.3632, 0.3994, 0.4144, 0.7707, 0.3627, 0.3241, 0.6533, 0.3041, 0.1487, 0.3852, 0.4031, 0.2143, 0.2755, 0.3105, 0.3271, 0.2302, 0.4123, 0.3185, 0.2863, 0.2288, 0.158, 0.0521, 0.2986, 0.2782, 0.2486, 0.0046, 0.0002, 0.1804, -0.0245, -0.0567, -0.1066, -0.0944, -0.036, -0.1489, -0.2295, -0.2934, 0.0563, -0.0233, -0.2575, -0.0692, 1.4273, 1.4272, 1.3261, 1.3175, 1.3116, 1.3098, 1.3056, 1.3056, 1.2961, 1.2903, 1.2882, 1.2859, 1.2826, 1.271, 1.2706, 1.2685, 1.2649, 1.2643, 1.2642, 1.2404, 1.2392, 1.239, 1.2389, 1.2323, 1.2295, 1.2234, 1.2217, 1.2135, 1.2113, 1.2028, 1.1842, 1.1754, 1.0632, 1.1283, 0.6799, 0.972, 0.6007, 0.4492, 0.7751, 0.927, 0.9989, 0.7832, 0.9425, 0.3432, 0.9408, 0.3233, 0.6442, 0.2373, 0.2201, 0.3681, 0.4159, 0.4068, 0.4426, 0.3026, 0.3136, 0.3987, 0.244, 0.1554, 0.2419, 0.157, 0.4331, 0.2444, 0.3079, -0.0187, 0.3049, 0.0135, -0.0337, 0.3299, -0.0017, 0.3353, 0.1556, 0.1544, -0.1767, 0.0464, -0.0701, -0.0795, 0.0441, -0.3591, -0.1093, -0.4225, -0.3325]}, \"token.table\": {\"Topic\": [1, 2, 3, 4, 2, 3, 4, 1, 2, 3, 4, 2, 2, 1, 2, 1, 2, 3, 4, 1, 2, 3, 4, 1, 2, 3, 4, 2, 3, 4, 1, 2, 3, 4, 1, 2, 1, 2, 3, 4, 1, 2, 3, 4, 2, 4, 2, 3, 1, 2, 3, 4, 1, 2, 3, 4, 1, 2, 1, 2, 3, 4, 1, 2, 3, 4, 1, 2, 3, 4, 3, 1, 2, 3, 4, 1, 3, 3, 1, 3, 1, 2, 3, 4, 1, 2, 3, 4, 1, 1, 1, 3, 1, 2, 3, 4, 1, 2, 3, 4, 1, 2, 3, 4, 1, 2, 3, 1, 3, 4, 2, 3, 4, 1, 3, 4, 1, 2, 3, 4, 1, 2, 3, 4, 1, 2, 3, 4, 1, 2, 3, 4, 1, 2, 3, 4, 1, 2, 1, 2, 3, 4, 1, 2, 3, 4, 1, 2, 3, 4, 2, 3, 4, 1, 2, 3, 4, 1, 2, 4, 1, 2, 3, 4, 1, 2, 3, 4, 1, 2, 3, 4, 1, 2, 3, 4, 1, 2, 3, 4, 1, 2, 3, 4, 1, 2, 3, 4, 1, 2, 3, 4, 1, 2, 3, 4, 1, 2, 3, 4, 1, 4, 4, 4, 1, 2, 3, 4, 3, 4, 1, 1, 2, 3, 4, 1, 2, 3, 4, 1, 2, 3, 4, 1, 4, 1, 2, 3, 4, 1, 2, 3, 4, 1, 2, 3, 4, 1, 4, 1, 2, 3, 4, 1, 2, 3, 4, 1, 1, 2, 3, 4, 1, 2, 3, 4, 1, 2, 3, 4, 2, 1, 3, 4, 1, 2, 3, 4, 1, 2, 3, 4, 1, 2, 3, 4, 4, 1, 2, 3, 4, 1, 2, 3, 4, 1, 2, 3, 4, 1, 3, 4, 1, 2, 3, 4, 1, 2, 3, 4, 1, 2, 3, 4, 1, 2, 3, 4, 1, 2, 3, 4, 1, 3, 4, 1, 2, 4, 1, 2, 3, 4, 1, 2, 3, 4, 1, 2, 3, 4, 1, 2, 3, 1, 2, 3, 4, 2, 3, 1, 2, 3, 4, 1, 2, 3, 4, 1, 2, 3, 4, 1, 2, 3, 4, 1, 2, 3, 2, 3, 4, 1, 2, 3, 4, 3, 1, 2, 2, 4, 1, 2, 3, 4, 4, 1, 2, 3, 4, 1, 2, 3, 4, 4, 1, 2, 3, 4, 3, 3, 1, 2, 3, 4, 2, 1, 2, 3, 4, 1, 2, 3, 4, 1, 2, 3, 4, 1, 2, 3, 4, 1, 2, 3, 4, 1, 2, 3, 4, 1, 2, 3, 4, 1, 2, 3, 4, 1, 2, 3, 4, 2, 3, 4, 1, 1, 3, 4, 3, 3, 1, 2, 3, 4, 1, 2, 3, 4, 1, 2, 3, 4, 1, 2, 3, 4, 1, 2, 3, 4, 1, 1, 2, 3, 4, 4, 4, 1, 2, 3, 4, 1, 1, 2, 3, 4, 1, 2, 3, 4, 1, 2, 3, 4, 1, 2, 1, 2, 3, 4, 1, 2, 4, 1, 2, 3, 4, 1, 2, 3, 4, 1, 2, 3, 4, 1, 2, 3, 4, 1, 2, 3, 4, 1, 1, 2, 3, 4, 1, 2, 3, 4, 1, 2, 3, 4, 1, 2, 3, 4, 1, 2, 3, 4, 1, 2, 3, 4, 1, 2, 3, 4, 1, 4, 1, 3, 4, 1, 2, 3, 4, 2, 3, 4, 2, 1, 2, 3, 4, 1, 2, 3, 4, 2, 4, 1, 2, 3, 4, 1, 2, 3, 4, 2, 4, 2, 3, 4, 1, 2, 1, 2, 3, 4, 1, 2, 1, 2, 3, 4, 1, 2, 3, 4, 1, 2, 3, 4, 3, 1, 2, 3, 4, 1, 2, 3, 1, 2, 3, 4, 1, 2, 4, 1, 1, 2, 3, 4, 1, 2, 3, 4, 1, 2, 3, 4, 1, 2, 1, 1, 2, 3, 4, 1, 3, 4, 1, 2, 4, 1, 2, 3, 4, 1, 2, 1, 3, 4, 4, 4, 1, 2, 3, 4, 1, 2, 3, 4, 1, 2, 4, 4, 1, 2, 3, 4, 1, 2, 3, 4, 1, 1, 2, 3, 4, 4, 1, 2, 3, 4, 2, 3, 4, 1, 2, 3, 4, 2, 3, 1, 2, 3, 4, 1, 2, 3, 4, 1, 1, 2, 3, 1, 3, 3, 1, 2, 3, 1, 2, 3, 4, 1, 2, 4, 1, 2, 3, 4, 1, 3, 4, 2, 4, 1, 2, 3, 4, 1, 2, 3, 4, 1, 2, 3, 4, 1, 2, 3, 4, 1, 2, 3, 4, 1, 2, 3, 4, 1, 2, 3, 4, 2, 1, 2, 3, 4, 1, 2, 3, 4, 1, 2, 3, 4, 1, 2, 3, 4, 1, 2, 3, 4, 1, 2, 3, 4, 1, 2, 3, 4, 1, 2, 3, 4, 1, 2, 3, 4, 1, 2, 3, 4, 2, 1, 3, 4, 1, 2, 1, 2, 3, 4, 4, 4, 1, 2, 3, 4, 1, 2, 3, 4, 1, 2, 3, 4, 1, 4, 2, 1], \"Freq\": [0.42805252176746805, 0.24460144100998174, 0.21402626088373403, 0.11289297277383772, 0.2262572668300207, 0.2262572668300207, 0.6787718004900621, 0.4343569370813507, 0.22705021711070603, 0.17440089140387566, 0.16452914283384495, 0.741702472560311, 0.7415507903147144, 0.8204783112351812, 0.7413220639285617, 0.16972499874505964, 0.6279824953567207, 0.11880749912154176, 0.08486249937252982, 0.46275839859858825, 0.21096338759641522, 0.17693703475828373, 0.14971595248777855, 0.21326213842470515, 0.1576285370965212, 0.4728856112895636, 0.14835627020849054, 0.12633222805668495, 0.12633222805668495, 0.7579933683401097, 0.38833247312780267, 0.3544005094564413, 0.14326829105685923, 0.11687676375691149, 0.8048078098490721, 0.11497254426415315, 0.10510253745304231, 0.10510253745304231, 0.1313781718163029, 0.6568908590815145, 0.1175043857412502, 0.1175043857412502, 0.2350087714825004, 0.5287697358356259, 0.7448006253409796, 0.1862001563352449, 0.19767263671351837, 0.7906905468540735, 0.23010166175289518, 0.2823974939694623, 0.21964249530958177, 0.268451938711711, 0.3016113354819751, 0.10967684926617277, 0.16451527389925916, 0.4112881847481479, 0.8932108269710834, 0.8303846423699492, 0.32987144909054766, 0.21732707234200785, 0.3259906085130118, 0.1280677390586832, 0.14392148305746577, 0.1799018538218322, 0.21588222458619866, 0.46774481993676376, 0.5688018409609714, 0.15583612081122505, 0.10908528456785753, 0.1636279268517863, 0.7219169502921753, 0.16385240052543365, 0.19116113394633927, 0.46424846815539533, 0.19116113394633927, 0.1788100846058877, 0.7152403384235508, 0.7214420045898198, 0.7690077785087027, 0.1281679630847838, 0.20209299960779875, 0.2736676036355608, 0.42102708251624743, 0.10104649980389938, 0.712558873094091, 0.08550706477129093, 0.09975824223317274, 0.09975824223317274, 0.7744615170287124, 0.8256241581129111, 0.824990734889282, 0.2062476837223205, 0.4416581871142215, 0.2295231523585718, 0.17388117602922107, 0.15301543490571454, 0.5968100761107893, 0.12491373686039776, 0.12491373686039776, 0.15267234505159727, 0.42615228994268955, 0.16412621977522504, 0.2317922928404494, 0.17708355291537436, 0.7737955966075257, 0.12896593276792095, 0.12896593276792095, 0.11246085261276868, 0.11246085261276868, 0.6747651156766121, 0.22696258690650256, 0.22696258690650256, 0.6808877607195076, 0.7915838692289657, 0.15831677384579315, 0.07915838692289658, 0.2201496274645871, 0.1365634052721503, 0.40380386214092717, 0.238985959226263, 0.3202567321720471, 0.2900438329105332, 0.2074619082623953, 0.1832915888531842, 0.3183180224076555, 0.18833816325786282, 0.3289286231545773, 0.16446431157728866, 0.6736449797678474, 0.0748494421964275, 0.09356180274553437, 0.16841124494196186, 0.6223085671446983, 0.13890816230908445, 0.14446448880144783, 0.09445755037017742, 0.8579684531816714, 0.17159369063633426, 0.16483859212861776, 0.22924572415238234, 0.4814160207200029, 0.12553932513106653, 0.16499687236153246, 0.31101180365492404, 0.346055387165338, 0.1781382161779377, 0.27341041597203253, 0.6151734359370732, 0.06835260399300813, 0.06835260399300813, 0.21856212523419394, 0.6556863757025818, 0.21856212523419394, 0.6553005080069542, 0.13106010160139084, 0.0786360609608345, 0.13106010160139084, 0.09375301384602527, 0.656271096922177, 0.18750602769205055, 0.49489042115881693, 0.2206943770032562, 0.100315625910571, 0.18725583503306586, 0.21829677915404322, 0.22658653026115877, 0.31777379243943, 0.23763953173731286, 0.24240140564764387, 0.16665096638275514, 0.28785166920657707, 0.2992142350963104, 0.22325079274432935, 0.05581269818608234, 0.11162539637216468, 0.6139396800469057, 0.24918447428754162, 0.08306149142918054, 0.5260561123848101, 0.13843581904863422, 0.11796978127297046, 0.11796978127297046, 0.5898489063648523, 0.17695467190945569, 0.13843789585349167, 0.6229705313407126, 0.13843789585349167, 0.13843789585349167, 0.20407643105384496, 0.14576887932417495, 0.5830755172966998, 0.08746132759450498, 0.27833349508655414, 0.5352567213202964, 0.08564107541124744, 0.08564107541124744, 0.11711073917403372, 0.614831380663677, 0.08783305438052529, 0.14638842396754215, 0.8615264912092087, 0.17230529824184174, 0.7484932292360426, 0.7552433588128913, 0.5818323450856699, 0.1805686588196907, 0.16050547450639172, 0.08025273725319586, 0.7208754438427047, 0.8515868138819741, 0.7709356785125009, 0.24105073959342652, 0.23879792894302065, 0.34468002951209586, 0.17346642008125085, 0.0915693334607719, 0.7043794881597838, 0.11270071810556541, 0.09861312834236972, 0.18514122137863515, 0.15428435114886263, 0.586280534365678, 0.06171374045954505, 0.2249991919317982, 0.6749975757953945, 0.4338402342576536, 0.2793840252025727, 0.18398460196266986, 0.1022136677570388, 0.23373851217735528, 0.3663401681241241, 0.2786882260576159, 0.1213642274767037, 0.2831971179714028, 0.30743470914913545, 0.21813832059959404, 0.1913494040347316, 0.7393070829158593, 0.14786141658317187, 0.5257366469619298, 0.2777476625459252, 0.08596951459754827, 0.11242167293525544, 0.11092866938496837, 0.6655720163098102, 0.22185733876993674, 0.11092866938496837, 0.7710443256791805, 0.32379525844909757, 0.1885631210968274, 0.2171332909599831, 0.2704642747045403, 0.09279486683096826, 0.742358934647746, 0.09279486683096826, 0.09279486683096826, 0.2549861433920677, 0.4249769056534462, 0.2124884528267231, 0.11332717484091899, 0.7411144182882643, 0.16073450842027173, 0.16073450842027173, 0.6429380336810869, 0.38902790890594435, 0.17645562976900925, 0.24043369436362078, 0.19399800231914466, 0.741807259020467, 0.09890763453606226, 0.09890763453606226, 0.04945381726803113, 0.31837539221296746, 0.32670982656409225, 0.22502972748036967, 0.1316840627477719, 0.7519548689979841, 0.22141659244393827, 0.44283318488787654, 0.2147069987335159, 0.11406309307718031, 0.29517399247785997, 0.1820973883943017, 0.29811104712938097, 0.22468468084135612, 0.3789606032330538, 0.219890720394488, 0.18714103863360682, 0.21521219442864783, 0.7154257277990643, 0.06503870252718767, 0.13007740505437534, 0.28152541581046536, 0.3634885115527528, 0.1532353529094938, 0.20312593292653833, 0.4751724235651853, 0.192331695252575, 0.12162151317442244, 0.21213054623445773, 0.5810226251548181, 0.18742665327574778, 0.0843419939740865, 0.14056998995681083, 0.30961457221799005, 0.2393658877651688, 0.32002178472951914, 0.13009015639411348, 0.40490176475681394, 0.14460777312743353, 0.3639295623707078, 0.08676466387646013, 0.2673497721195995, 0.6683744302989987, 0.13367488605979974, 0.18872827209864088, 0.18872827209864088, 0.7549130883945635, 0.1553370399140092, 0.1553370399140092, 0.6213481596560368, 0.1553370399140092, 0.7422580614761621, 0.04948387076507747, 0.07422580614761622, 0.12370967691269369, 0.10905776818143939, 0.10905776818143939, 0.6543466090886364, 0.10905776818143939, 0.8598772844063441, 0.1817620081770148, 0.7270480327080592, 0.1437764059159387, 0.25160871035289273, 0.17972050739492337, 0.41335716700832376, 0.7944200578876666, 0.15888401157753332, 0.30111240125446714, 0.23392203072661086, 0.3085779979797845, 0.1567775312316647, 0.2877833854395244, 0.34132448040501734, 0.20077910612059843, 0.17177767968095645, 0.26025766429760355, 0.26903039455482614, 0.3333637497744585, 0.13743944069648725, 0.12000335315996286, 0.14400402379195543, 0.09600268252797028, 0.6480181070637995, 0.21665828258597739, 0.21665828258597739, 0.6499748477579322, 0.18218950555980812, 0.7287580222392325, 0.18218950555980812, 0.4920057604410622, 0.15255992571815882, 0.15255992571815882, 0.19832790343360646, 0.7183001602621663, 0.06964406115163277, 0.8357287338195932, 0.7412677741070631, 0.755577784687565, 0.7074268273939001, 0.08322668557575294, 0.12484002836362942, 0.08322668557575294, 0.8520518030151031, 0.328275593916925, 0.2623619904139204, 0.18610899812613071, 0.22358928247097648, 0.4496376731177622, 0.2462983432364812, 0.20047539565760097, 0.1031016320524805, 0.8551194655660778, 0.25700489010665084, 0.23130440109598577, 0.23387444999705229, 0.27756528131518293, 0.7212322152333789, 0.7228491242555578, 0.23530250462176958, 0.6274733456580522, 0.07843416820725653, 0.07843416820725653, 0.8907749922114186, 0.6472773407925796, 0.164992263339285, 0.03807513769368115, 0.1523005507747246, 0.3578263087781295, 0.2700575915306638, 0.23495010463167748, 0.1377293716806385, 0.3707533721079682, 0.2867545612397567, 0.09268834302699205, 0.24909992188504115, 0.2344340062476199, 0.3792314806946792, 0.27350634062222323, 0.11262025790326838, 0.7630491739205338, 0.08977049104947457, 0.13465573657421184, 0.044885245524737286, 0.20141955358916266, 0.32873191293325604, 0.20712010699262953, 0.26412564102729824, 0.2626802330382615, 0.18293801943736068, 0.17668372817454495, 0.3783846214003529, 0.3355690276152866, 0.23343932355846025, 0.17216150112436446, 0.25970124745878703, 0.37260890814336345, 0.21046946694290405, 0.282184989012338, 0.13563587869653815, 0.22646179455761584, 0.22646179455761584, 0.6793853836728475, 0.8203567793175844, 0.15394463933812935, 0.7697231966906468, 0.15394463933812935, 0.7257865376314383, 0.721154094608647, 0.2700908124688092, 0.1539770052392277, 0.39125304609967687, 0.1842675636469446, 0.2532760076724302, 0.2681745963590438, 0.36129077565037837, 0.11918870949290834, 0.22211927878147028, 0.3155339287362942, 0.30307864207565105, 0.1619187265883615, 0.568253786637504, 0.14759838613961146, 0.16973814406055315, 0.11069878960470858, 0.21220097537917862, 0.0707336584597262, 0.21220097537917862, 0.4951356092180835, 0.6891322656720861, 0.8882561545793164, 0.06832739650610126, 0.06832739650610126, 0.06832739650610126, 0.7536982650407638, 0.7533600904865744, 0.5516224760253455, 0.1872479964489705, 0.16194421314505555, 0.10121513321565972, 0.8961773811992454, 0.2253410388179664, 0.49966925998766465, 0.13716411058484912, 0.13716411058484912, 0.6963158034428581, 0.06330143667662347, 0.12660287335324694, 0.12660287335324694, 0.13549489648634394, 0.06774744824317197, 0.6097270341885477, 0.13549489648634394, 0.2208236111297459, 0.6624708333892377, 0.3201514054739186, 0.19529235733909037, 0.19849387139382954, 0.28493475087178755, 0.1384729015155074, 0.692364507577537, 0.1384729015155074, 0.5187919448718866, 0.20063120980171362, 0.20656704441123178, 0.0736043491580251, 0.3011328942831738, 0.24221558887994415, 0.16365918167563795, 0.29131334338263554, 0.10901122336303135, 0.10901122336303135, 0.654067340178188, 0.2180224467260627, 0.10859461275909975, 0.054297306379549874, 0.6515676765545986, 0.16289191913864964, 0.41229918789589864, 0.20945680668508218, 0.134493317976737, 0.24473374254783287, 0.8206855266271034, 0.3911201239041917, 0.25726083016158063, 0.19137695902263926, 0.16104946278407894, 0.058316944837908544, 0.641486393216994, 0.29158472418954273, 0.058316944837908544, 0.21132116729311626, 0.10566058364655813, 0.5283029182327906, 0.1584908754698372, 0.2838611103587693, 0.22078086361237614, 0.36496428474698916, 0.1351719573136997, 0.3256670733175873, 0.18909701031343779, 0.26053365865406986, 0.22481533448375382, 0.08532098710731459, 0.19908230325040072, 0.5830267452333163, 0.14220164517885764, 0.4936590745249031, 0.17229669659888774, 0.21488689126378135, 0.11809099429811407, 0.7269703104067119, 0.10385290148667313, 0.15497936742094062, 0.7748968371047031, 0.15497936742094062, 0.037321819439366494, 0.7091145693479634, 0.11196545831809948, 0.11196545831809948, 0.7410517952474741, 0.5442072600521131, 0.27210363002605653, 0.7407209425955505, 0.1658448927611216, 0.0829224463805608, 0.6633795710444864, 0.0829224463805608, 0.14975433516332134, 0.112315751372491, 0.5990173406532854, 0.14975433516332134, 0.7464935093497501, 0.18662337733743753, 0.22184210378762648, 0.13310526227257588, 0.1774736830301012, 0.48805262833277824, 0.2774670828467186, 0.20608550966623498, 0.2164473509343697, 0.30049339677590686, 0.22793714034506213, 0.6838114210351863, 0.13637674568744182, 0.6818837284372091, 0.13637674568744182, 0.22086933508118164, 0.6626080052435449, 0.550438925084383, 0.1406677252993423, 0.171247665581808, 0.1406677252993423, 0.27598486438411646, 0.8279545931523494, 0.21440198721296094, 0.34634167165170615, 0.17482008188133738, 0.267177860988459, 0.2884675850333161, 0.2099605840432364, 0.30307353870588905, 0.20083186299787828, 0.2713611647347645, 0.3094862870528719, 0.23772135092466973, 0.18165499457451179, 0.8141261286831024, 0.541992710682212, 0.24169945206098645, 0.10253916148041849, 0.11718761312047828, 0.13857099534893147, 0.6928549767446573, 0.13857099534893147, 0.28402599275726675, 0.21742679445556284, 0.2389735939061141, 0.2585615934066153, 0.18839349616140594, 0.18839349616140594, 0.7535739846456238, 0.772803514100646, 0.1503083705022843, 0.2736383155297996, 0.33144922726144743, 0.24473285966397573, 0.5719407616085226, 0.16085833920239698, 0.18468920426941873, 0.0834080277345762, 0.12707619059770187, 0.07624571435862113, 0.25415238119540373, 0.5591352386298882, 0.13820938617229261, 0.8292563170337557, 0.8264544419087907, 0.25209631364946833, 0.3174546171882194, 0.273104339786924, 0.15639308346772574, 0.8045418653918522, 0.11493455219883604, 0.11493455219883604, 0.22572105492603065, 0.22572105492603065, 0.6771631647780919, 0.19888600136329082, 0.10529258895703632, 0.6200563571914361, 0.07019505930469087, 0.15791732080091755, 0.7895866040045878, 0.15562569624660696, 0.6225027849864279, 0.15562569624660696, 0.7551690160493372, 0.7540600109907118, 0.12793495745061959, 0.28125383503033036, 0.2416549196289481, 0.34928274097629475, 0.3228288194485562, 0.16583672231946378, 0.28745031868707055, 0.22332678605687792, 0.8165010360639778, 0.10886680480853038, 0.05443340240426519, 0.5626663407408665, 0.5567331009679142, 0.12178536583673122, 0.18557770032263807, 0.1333839721068961, 0.13051046065242797, 0.7178075335883539, 0.06525523032621398, 0.06525523032621398, 0.7705007273691731, 0.30058639867767944, 0.1648377025006629, 0.17453403794187838, 0.3684607467661877, 0.7537048955596345, 0.2737697205214425, 0.4106545807821637, 0.21510478040970482, 0.10429322686531142, 0.6998083799474677, 0.13996167598949355, 0.13996167598949355, 0.31641467477745816, 0.3857658363725175, 0.14520399458965547, 0.15387288978903788, 0.1814322223113841, 0.7257288892455364, 0.22147652707830914, 0.08859061083132366, 0.22147652707830914, 0.48724835957228013, 0.3448152395310154, 0.18994059804674576, 0.3302044242966503, 0.13734166320303154, 0.8257781814442006, 0.15437314150374665, 0.15437314150374665, 0.7718657075187332, 0.1790182713422159, 0.7160730853688636, 0.7226059896220709, 0.7986237971266175, 0.11408911387523107, 0.11408911387523107, 0.15280299627170876, 0.05093433209056959, 0.20373732836227837, 0.611211985086835, 0.222375521971525, 0.667126565914575, 0.222375521971525, 0.15994000539631906, 0.3577605383865031, 0.3156710632822086, 0.16625342666196322, 0.11232903669052437, 0.22465807338104873, 0.6739742201431462, 0.2838222109875567, 0.5676444219751134, 0.26008929339664494, 0.21093856078625534, 0.3583907586174241, 0.17202756413636358, 0.30597401668818436, 0.22344990430340436, 0.2272587094903942, 0.24249393023835358, 0.2384095429499693, 0.3786504505675983, 0.27580711831467036, 0.10751802917351556, 0.2206286894338755, 0.41530106246376564, 0.17969757510451398, 0.18568749427466444, 0.3040191775148837, 0.1971518302672276, 0.25427058483063003, 0.24505788248169413, 0.2144327856333499, 0.3187059833530965, 0.27918307776577317, 0.18836448620341323, 0.10919405317095637, 0.10919405317095637, 0.6551643190257382, 0.10919405317095637, 0.7413800525198709, 0.25114943162334175, 0.3483094307185032, 0.19981962078061496, 0.19981962078061496, 0.32555718352640434, 0.26829838240366993, 0.2355790674763931, 0.1717764033682033, 0.32100993251777016, 0.20533067755641154, 0.3239019138918041, 0.1503830314497662, 0.3000542773605808, 0.14310280920273855, 0.2631245201469709, 0.2954380577088796, 0.14148566600527993, 0.4370896467663112, 0.21475502875801417, 0.20717543950773132, 0.3971407933773261, 0.22835595619196253, 0.22339169627474595, 0.1514099274751056, 0.4248722507253245, 0.18847716385559507, 0.25343257060808827, 0.13417018443957615, 0.5275980661433884, 0.16520747525702062, 0.17586602204779614, 0.13323183488469406, 0.5378901764912887, 0.11324003715606078, 0.24771258127888293, 0.09200753018929937, 0.06959244053519555, 0.6263319648167599, 0.1391848810703911, 0.1391848810703911, 0.8372047493206808, 0.15399119336800232, 0.7699559668400116, 0.15399119336800232, 0.6898147510661483, 0.17245368776653708, 0.24491705861682062, 0.24177709632686137, 0.35481573876539396, 0.16013807678792116, 0.8546753333384349, 0.5674585607577427, 0.22326817531153414, 0.2666814316221102, 0.2460084524265978, 0.26254683578300775, 0.29893371813812, 0.216371072176163, 0.22491203555153788, 0.2619228768448289, 0.20660523049727617, 0.29878294871913785, 0.20660523049727617, 0.28924732269618664, 0.8282023069247832, 0.5639055915050056, 0.831998297314407, 0.6894313808471259], \"Term\": [\"1\", \"1\", \"1\", \"1\", \"1842\", \"1842\", \"1842\", \"2\", \"2\", \"2\", \"2\", \"3297\", \"3he\", \"3i\", \"7li\", \"academy\", \"academy\", \"academy\", \"academy\", \"acid\", \"acid\", \"acid\", \"acid\", \"algorithm\", \"algorithm\", \"algorithm\", \"algorithm\", \"anabolism\", \"anabolism\", \"anabolism\", \"analysis\", \"analysis\", \"analysis\", \"analysis\", \"angel\", \"angel\", \"antibody\", \"antibody\", \"antibody\", \"antibody\", \"antigen\", \"antigen\", \"antigen\", \"antigen\", \"anxiety\", \"anxiety\", \"aragon\", \"aragon\", \"area\", \"area\", \"area\", \"area\", \"arithmetic\", \"arithmetic\", \"arithmetic\", \"arithmetic\", \"arity\", \"atkins\", \"atom\", \"atom\", \"atom\", \"atom\", \"axon\", \"axon\", \"axon\", \"axon\", \"base\", \"base\", \"base\", \"base\", \"bilayers\", \"biochemistry\", \"biochemistry\", \"biochemistry\", \"biochemistry\", \"bioorganic\", \"bioorganic\", \"blindness\", \"bloch\", \"bloch\", \"bond\", \"bond\", \"bond\", \"bond\", \"boson\", \"boson\", \"boson\", \"boson\", \"bouguer\", \"brout\", \"bx\", \"bx\", \"c\", \"c\", \"c\", \"c\", \"calculus\", \"calculus\", \"calculus\", \"calculus\", \"called\", \"called\", \"called\", \"called\", \"carboxylic\", \"carboxylic\", \"carboxylic\", \"cardiac\", \"cardiac\", \"cardiac\", \"carnegie\", \"carnegie\", \"carnegie\", \"cauchy\", \"cauchy\", \"cauchy\", \"cell\", \"cell\", \"cell\", \"cell\", \"century\", \"century\", \"century\", \"century\", \"change\", \"change\", \"change\", \"change\", \"channel\", \"channel\", \"channel\", \"channel\", \"charge\", \"charge\", \"charge\", \"charge\", \"chatelier\", \"chatelier\", \"chemical\", \"chemical\", \"chemical\", \"chemical\", \"chemistry\", \"chemistry\", \"chemistry\", \"chemistry\", \"circulatory\", \"circulatory\", \"circulatory\", \"circulatory\", \"clause\", \"clause\", \"clause\", \"coefficient\", \"coefficient\", \"coefficient\", \"coefficient\", \"colinvaux\", \"colinvaux\", \"colinvaux\", \"complex\", \"complex\", \"complex\", \"complex\", \"compound\", \"compound\", \"compound\", \"compound\", \"computer\", \"computer\", \"computer\", \"computer\", \"condensate\", \"condensate\", \"condensate\", \"condensate\", \"convex\", \"convex\", \"convex\", \"convex\", \"cube\", \"cube\", \"cube\", \"cube\", \"curriculum\", \"curriculum\", \"curriculum\", \"curriculum\", \"cyanobacteria\", \"cyanobacteria\", \"cyanobacteria\", \"cyanobacteria\", \"decision\", \"decision\", \"decision\", \"decision\", \"der\", \"der\", \"der\", \"der\", \"desargues\", \"desargues\", \"determiner\", \"disjoining\", \"displaystyle\", \"displaystyle\", \"displaystyle\", \"displaystyle\", \"disproven\", \"dordrecht\", \"d\\u012bn\", \"earth\", \"earth\", \"earth\", \"earth\", \"education\", \"education\", \"education\", \"education\", \"egg\", \"egg\", \"egg\", \"egg\", \"eigenstate\", \"eigenstate\", \"electron\", \"electron\", \"electron\", \"electron\", \"element\", \"element\", \"element\", \"element\", \"energy\", \"energy\", \"energy\", \"energy\", \"englert\", \"englert\", \"equation\", \"equation\", \"equation\", \"equation\", \"erd\\u0151s\", \"erd\\u0151s\", \"erd\\u0151s\", \"erd\\u0151s\", \"est\", \"example\", \"example\", \"example\", \"example\", \"excellence\", \"excellence\", \"excellence\", \"excellence\", \"f\", \"f\", \"f\", \"f\", \"feit\", \"fermionic\", \"fermionic\", \"fermionic\", \"field\", \"field\", \"field\", \"field\", \"filter\", \"filter\", \"filter\", \"filter\", \"first\", \"first\", \"first\", \"first\", \"fodor\", \"food\", \"food\", \"food\", \"food\", \"form\", \"form\", \"form\", \"form\", \"function\", \"function\", \"function\", \"function\", \"gated\", \"gated\", \"gated\", \"general\", \"general\", \"general\", \"general\", \"geometry\", \"geometry\", \"geometry\", \"geometry\", \"gravitational\", \"gravitational\", \"gravitational\", \"gravitational\", \"greek\", \"greek\", \"greek\", \"greek\", \"group\", \"group\", \"group\", \"group\", \"haloarchaea\", \"haloarchaea\", \"haloarchaea\", \"hersh\", \"hersh\", \"hersh\", \"hess\", \"hess\", \"hess\", \"hess\", \"higgs\", \"higgs\", \"higgs\", \"higgs\", \"homomorphism\", \"homomorphism\", \"homomorphism\", \"homomorphism\", \"hydrostatics\", \"immerman\", \"immerman\", \"immune\", \"immune\", \"immune\", \"immune\", \"imperative\", \"imperative\", \"include\", \"include\", \"include\", \"include\", \"including\", \"including\", \"including\", \"including\", \"interaction\", \"interaction\", \"interaction\", \"interaction\", \"interface\", \"interface\", \"interface\", \"interface\", \"interpreter\", \"interpreter\", \"interpreter\", \"interrogative\", \"interrogative\", \"interrogative\", \"ion\", \"ion\", \"ion\", \"ion\", \"isomeric\", \"issn\", \"issn\", \"issns\", \"jabre\", \"jesus\", \"jesus\", \"jesus\", \"jesus\", \"kluwer\", \"known\", \"known\", \"known\", \"known\", \"law\", \"law\", \"law\", \"law\", \"lazy\", \"life\", \"life\", \"life\", \"life\", \"livestock\", \"louisa\", \"lymphatic\", \"lymphatic\", \"lymphatic\", \"lymphatic\", \"lynch\", \"manifold\", \"manifold\", \"manifold\", \"manifold\", \"many\", \"many\", \"many\", \"many\", \"mass\", \"mass\", \"mass\", \"mass\", \"material\", \"material\", \"material\", \"material\", \"mathbf\", \"mathbf\", \"mathbf\", \"mathbf\", \"mathematical\", \"mathematical\", \"mathematical\", \"mathematical\", \"mathematics\", \"mathematics\", \"mathematics\", \"mathematics\", \"matter\", \"matter\", \"matter\", \"matter\", \"may\", \"may\", \"may\", \"may\", \"mellon\", \"mellon\", \"mellon\", \"merchiston\", \"merriam\", \"merriam\", \"merriam\", \"metamorphic\", \"microtubule\", \"model\", \"model\", \"model\", \"model\", \"molecular\", \"molecular\", \"molecular\", \"molecular\", \"molecule\", \"molecule\", \"molecule\", \"molecule\", \"motion\", \"motion\", \"motion\", \"motion\", \"muscle\", \"muscle\", \"muscle\", \"muscle\", \"mu\\u1e93affar\", \"mv\", \"mv\", \"mv\", \"mv\", \"myoblasts\", \"myofibril\", \"n\", \"n\", \"n\", \"n\", \"napier\", \"national\", \"national\", \"national\", \"national\", \"naturalism\", \"naturalism\", \"naturalism\", \"naturalism\", \"noncommutative\", \"noncommutative\", \"noncommutative\", \"noncommutative\", \"nrc\", \"nrc\", \"nuclear\", \"nuclear\", \"nuclear\", \"nuclear\", \"nucleosynthesis\", \"nucleosynthesis\", \"nucleosynthesis\", \"number\", \"number\", \"number\", \"number\", \"object\", \"object\", \"object\", \"object\", \"oceanographer\", \"oceanographer\", \"oceanographer\", \"oceanographer\", \"oceanography\", \"oceanography\", \"oceanography\", \"oceanography\", \"often\", \"often\", \"often\", \"often\", \"omics\", \"one\", \"one\", \"one\", \"one\", \"onion\", \"onion\", \"onion\", \"onion\", \"organelle\", \"organelle\", \"organelle\", \"organelle\", \"organic\", \"organic\", \"organic\", \"organic\", \"organism\", \"organism\", \"organism\", \"organism\", \"oxidation\", \"oxidation\", \"oxidation\", \"oxidation\", \"particle\", \"particle\", \"particle\", \"particle\", \"permic\", \"permic\", \"permutation\", \"permutation\", \"permutation\", \"philadelphia\", \"philadelphia\", \"philadelphia\", \"philadelphia\", \"philpapers\", \"phlox\", \"phlox\", \"phobia\", \"phospholipid\", \"phospholipid\", \"phospholipid\", \"phospholipid\", \"phosphorus\", \"phosphorus\", \"phosphorus\", \"phosphorus\", \"photosystem\", \"photosystem\", \"phrase\", \"phrase\", \"phrase\", \"phrase\", \"physic\", \"physic\", \"physic\", \"physic\", \"pinhole\", \"pinhole\", \"plo\", \"plo\", \"plo\", \"polypropylene\", \"polypropylene\", \"potential\", \"potential\", \"potential\", \"potential\", \"pp\", \"pp\", \"problem\", \"problem\", \"problem\", \"problem\", \"process\", \"process\", \"process\", \"process\", \"property\", \"property\", \"property\", \"property\", \"protocell\", \"proton\", \"proton\", \"proton\", \"proton\", \"punnett\", \"punnett\", \"punnett\", \"quantum\", \"quantum\", \"quantum\", \"quantum\", \"quaternary\", \"quaternary\", \"quaternary\", \"rarefied\", \"reaction\", \"reaction\", \"reaction\", \"reaction\", \"real\", \"real\", \"real\", \"real\", \"receptor\", \"receptor\", \"receptor\", \"receptor\", \"recessive\", \"recessive\", \"reproducing\", \"research\", \"research\", \"research\", \"research\", \"resting\", \"resting\", \"resting\", \"reuben\", \"reuben\", \"reuben\", \"ring\", \"ring\", \"ring\", \"ring\", \"rr\", \"rr\", \"rubik\", \"rubik\", \"rubik\", \"saliba\", \"sarcomere\", \"science\", \"science\", \"science\", \"science\", \"scientific\", \"scientific\", \"scientific\", \"scientific\", \"screw\", \"screw\", \"screw\", \"sears\", \"sequence\", \"sequence\", \"sequence\", \"sequence\", \"serial\", \"serial\", \"serial\", \"serial\", \"sharaf\", \"signal\", \"signal\", \"signal\", \"signal\", \"situs\", \"society\", \"society\", \"society\", \"society\", \"sorbonne\", \"sorbonne\", \"sorbonne\", \"space\", \"space\", \"space\", \"space\", \"spain\", \"spain\", \"speciation\", \"speciation\", \"speciation\", \"speciation\", \"specie\", \"specie\", \"specie\", \"specie\", \"spectrophotometry\", \"sperm\", \"sperm\", \"sperm\", \"spermatozoon\", \"spermatozoon\", \"spindle\", \"spirochaete\", \"spirochaete\", \"spirochaete\", \"springer\", \"springer\", \"springer\", \"springer\", \"standardizing\", \"standardizing\", \"standardizing\", \"state\", \"state\", \"state\", \"state\", \"stimulation\", \"stimulation\", \"stimulation\", \"stm\", \"stm\", \"structure\", \"structure\", \"structure\", \"structure\", \"study\", \"study\", \"study\", \"study\", \"substance\", \"substance\", \"substance\", \"substance\", \"system\", \"system\", \"system\", \"system\", \"term\", \"term\", \"term\", \"term\", \"theory\", \"theory\", \"theory\", \"theory\", \"thermochemistry\", \"thermochemistry\", \"thermochemistry\", \"thermochemistry\", \"thompson\", \"time\", \"time\", \"time\", \"time\", \"two\", \"two\", \"two\", \"two\", \"type\", \"type\", \"type\", \"type\", \"unit\", \"unit\", \"unit\", \"unit\", \"university\", \"university\", \"university\", \"university\", \"use\", \"use\", \"use\", \"use\", \"used\", \"used\", \"used\", \"used\", \"value\", \"value\", \"value\", \"value\", \"vector\", \"vector\", \"vector\", \"vector\", \"waals\", \"waals\", \"waals\", \"waals\", \"weakless\", \"webster\", \"webster\", \"webster\", \"wien\", \"wien\", \"within\", \"within\", \"within\", \"within\", \"wolfram\", \"wolters\", \"work\", \"work\", \"work\", \"work\", \"world\", \"world\", \"world\", \"world\", \"year\", \"year\", \"year\", \"year\", \"z0\", \"zemansky\", \"\\u03bceff\", \"\\u0645\\u0638\\u0641\\u0631\"]}, \"R\": 30, \"lambda.step\": 0.01, \"plot.opts\": {\"xlab\": \"PC1\", \"ylab\": \"PC2\"}, \"topic.order\": [1, 4, 2, 3]};\n",
       "\n",
       "function LDAvis_load_lib(url, callback){\n",
       "  var s = document.createElement('script');\n",
       "  s.src = url;\n",
       "  s.async = true;\n",
       "  s.onreadystatechange = s.onload = callback;\n",
       "  s.onerror = function(){console.warn(\"failed to load library \" + url);};\n",
       "  document.getElementsByTagName(\"head\")[0].appendChild(s);\n",
       "}\n",
       "\n",
       "if(typeof(LDAvis) !== \"undefined\"){\n",
       "   // already loaded: just create the visualization\n",
       "   !function(LDAvis){\n",
       "       new LDAvis(\"#\" + \"ldavis_el635361403560804311687272707684\", ldavis_el635361403560804311687272707684_data);\n",
       "   }(LDAvis);\n",
       "}else if(typeof define === \"function\" && define.amd){\n",
       "   // require.js is available: use it to load d3/LDAvis\n",
       "   require.config({paths: {d3: \"https://d3js.org/d3.v5\"}});\n",
       "   require([\"d3\"], function(d3){\n",
       "      window.d3 = d3;\n",
       "      LDAvis_load_lib(\"https://cdn.jsdelivr.net/gh/bmabey/pyLDAvis@3.4.0/pyLDAvis/js/ldavis.v3.0.0.js\", function(){\n",
       "        new LDAvis(\"#\" + \"ldavis_el635361403560804311687272707684\", ldavis_el635361403560804311687272707684_data);\n",
       "      });\n",
       "    });\n",
       "}else{\n",
       "    // require.js not available: dynamically load d3 & LDAvis\n",
       "    LDAvis_load_lib(\"https://d3js.org/d3.v5.js\", function(){\n",
       "         LDAvis_load_lib(\"https://cdn.jsdelivr.net/gh/bmabey/pyLDAvis@3.4.0/pyLDAvis/js/ldavis.v3.0.0.js\", function(){\n",
       "                 new LDAvis(\"#\" + \"ldavis_el635361403560804311687272707684\", ldavis_el635361403560804311687272707684_data);\n",
       "            })\n",
       "         });\n",
       "}\n",
       "</script>"
      ],
      "text/plain": [
       "<IPython.core.display.HTML object>"
      ]
     },
     "execution_count": 13,
     "metadata": {},
     "output_type": "execute_result"
    }
   ],
   "source": [
    "import pyLDAvis.gensim as gensimvis\n",
    "import pyLDAvis\n",
    "\n",
    "s_vis_data = gensimvis.prepare(s_lda_model, s_bow_corpus, s_dictionary)\n",
    "pyLDAvis.display(s_vis_data)"
   ]
  },
  {
   "cell_type": "code",
   "execution_count": null,
   "metadata": {},
   "outputs": [
    {
     "name": "stderr",
     "output_type": "stream",
     "text": [
      "/Users/adamousherovitch/opt/anaconda3/lib/python3.8/site-packages/pyLDAvis/_prepare.py:243: FutureWarning: In a future version of pandas all arguments of DataFrame.drop except for the argument 'labels' will be keyword-only.\n",
      "  default_term_info = default_term_info.sort_values(\n"
     ]
    },
    {
     "data": {
      "text/html": [
       "\n",
       "<link rel=\"stylesheet\" type=\"text/css\" href=\"https://cdn.jsdelivr.net/gh/bmabey/pyLDAvis@3.4.0/pyLDAvis/js/ldavis.v1.0.0.css\">\n",
       "\n",
       "\n",
       "<div id=\"ldavis_el635361403582969977763946181799\" style=\"background-color:white;\"></div>\n",
       "<script type=\"text/javascript\">\n",
       "\n",
       "var ldavis_el635361403582969977763946181799_data = {\"mdsDat\": {\"x\": [-0.009974197156784432, 0.006563611052598633, 0.0011752955080959356, 0.002235290596089856], \"y\": [0.0014574757254075096, 0.0021064788689443585, -0.008186374199376454, 0.004622419605024588], \"topics\": [1, 2, 3, 4], \"cluster\": [1, 1, 1, 1], \"Freq\": [31.822553034182064, 24.650649153643556, 21.82341875211349, 21.703379060060893]}, \"tinfo\": {\"Term\": [\"displaystyle\", \"x\", \"2\", \"field\", \"number\", \"1\", \"0\", \"study\", \"n\", \"b\", \"function\", \"chemical\", \"term\", \"two\", \"f\", \"one\", \"c\", \"form\", \"system\", \"3\", \"p\", \"r\", \"h\", \"base\", \"space\", \"called\", \"equation\", \"plant\", \"century\", \"gas\", \"bqp\", \"experimentalism\", \"qubit\", \"cryochemistry\", \"sarcomere\", \"efus\", \"21d\", \"arnone\", \"fcic\", \"chlorophyllide\", \"iyc\", \"seipel\", \"ihc\", \"meristematic\", \"ellsberg\", \"allais\", \"steinmetz\", \"cnot\", \"helion\", \"myoblasts\", \"chuang\", \"orthologues\", \"31t\", \"\\u03bcci\", \"sarcoplasmic\", \"metalloenzymes\", \"recessional\", \"busch\", \"dillinger\", \"deferment\", \"kinase\", \"grover\", \"insulin\", \"hubble\", \"fuming\", \"methanobacterium\", \"speedup\", \"tropical\", \"appliance\", \"nm\", \"quantum\", \"fusion\", \"nucleon\", \"muscle\", \"chlorophyll\", \"cell\", \"einstein\", \"transcription\", \"enzyme\", \"nucleus\", \"industrial\", \"temperature\", \"replication\", \"microscopic\", \"light\", \"dna\", \"neutron\", \"atp\", \"energy\", \"black\", \"microscope\", \"material\", \"carbon\", \"used\", \"reaction\", \"may\", \"radiation\", \"process\", \"work\", \"much\", \"protein\", \"factor\", \"nuclear\", \"theory\", \"principle\", \"physic\", \"object\", \"time\", \"would\", \"group\", \"often\", \"chemical\", \"high\", \"first\", \"year\", \"early\", \"many\", \"one\", \"electron\", \"element\", \"1\", \"example\", \"called\", \"system\", \"science\", \"two\", \"2\", \"e\", \"known\", \"number\", \"displaystyle\", \"state\", \"calorimetric\", \"jerusalempost\", \"scull\", \"klaus\", \"wwv\", \"othello\", \"wwvv\", \"hawkins\", \"2709\", \"cheeger\", \"2pq\", \"ew\", \"colinvaux\", \"limh\", \"rowed\", \"sculler\", \"waltershausen\", \"\\u03b8w\", \"wolchover\", \"beukers\", \"recapture\", \"046\", \"snapper\", \"mehrshad\", \"huffingtonpost\", \"leveque\", \"bj\\u00f6rner\", \"kinski\", \"berntsen\", \"hargreeves\", \"semifinite\", \"varrho\", \"00286\", \"ap\\u00e9ry\", \"knoll\", \"calorimetry\", \"aa\", \"\\u03bc\", \"zeta\", \"bose\", \"displaystyle\", \"geneticist\", \"\\u03b6\", \"born\", \"numerator\", \"2\", \"p\", \"topological\", \"manifold\", \"1\", \"f\", \"v\", \"prize\", \"0\", \"space\", \"mathrm\", \"w\", \"integer\", \"system\", \"german\", \"3\", \"partial\", \"euler\", \"fermi\", \"frac\", \"c\", \"b\", \"h\", \"x\", \"field\", \"function\", \"n\", \"physic\", \"one\", \"set\", \"number\", \"time\", \"many\", \"state\", \"known\", \"science\", \"university\", \"theory\", \"equation\", \"two\", \"example\", \"first\", \"used\", \"form\", \"cell\", \"study\", \"work\", \"watoc\", \"probabilists\", \"unrooted\", \"hox\", \"antp\", \"me3b\", \"bifurcating\", \"transect\", \"andrej\", \"multifurcating\", \"outgroup\", \"textsf\", \"hox10\", \"hirst\", \"todhunter\", \"kaminsky\", \"transects\", \"phylogram\", \"inhabitation\", \"ubx\", \"quadrat\", \"cloudflare\", \"bool\", \"dahlgrenogram\", \"odoacer\", \"homeodomain\", \"cot\", \"triacidic\", \"megafaunal\", \"hoskinson\", \"arity\", \"extinction\", \"gospel\", \"cengage\", \"rayon\", \"roman\", \"triangle\", \"emperor\", \"jesus\", \"napier\", \"simulator\", \"polynomial\", \"tree\", \"eclipse\", \"linnaeus\", \"lyell\", \"plant\", \"egypt\", \"base\", \"term\", \"function\", \"weapon\", \"century\", \"world\", \"human\", \"method\", \"network\", \"pythagorean\", \"2\", \"large\", \"number\", \"r\", \"one\", \"form\", \"called\", \"gene\", \"b\", \"used\", \"mathematical\", \"n\", \"c\", \"x\", \"e\", \"history\", \"theory\", \"example\", \"group\", \"1\", \"known\", \"two\", \"displaystyle\", \"may\", \"first\", \"system\", \"state\", \"work\", \"time\", \"science\", \"energy\", \"0\", \"dywity\", \"cuperman\", \"olsztyn\", \"overrightarrow\", \"grapheme\", \"muon\", \"s\\u0119tal\", \"voivodeship\", \"gmina\", \"warmia\", \"g75\", \"astrophys\", \"\\u02c8s\\u025bntal\", \"warmian\", \"g60\", \"schoolgirl\", \"geostatistics\", \"cnh2n\", \"mhd\", \"glyph\", \"switchbacks\", \"bitmap\", \"geoethics\", \"hypergraph\", \"mesotron\", \"rbrace\", \"muonic\", \"hydrogeology\", \"4640\", \"hyperedges\", \"liberal\", \"metroid\", \"acyclicity\", \"vphantom\", \"voyager\", \"samus\", \"mammalogy\", \"sequencing\", \"nabla\", \"mathbf\", \"antimuon\", \"gas\", \"field\", \"study\", \"chemical\", \"rock\", \"euclidean\", \"x\", \"feynman\", \"sodium\", \"sequence\", \"boolean\", \"property\", \"effect\", \"oxygen\", \"atmosphere\", \"two\", \"solar\", \"number\", \"ion\", \"h\", \"surface\", \"mass\", \"0\", \"displaystyle\", \"compound\", \"particle\", \"electron\", \"small\", \"science\", \"one\", \"chemistry\", \"e\", \"n\", \"atom\", \"form\", \"1\", \"time\", \"system\", \"called\", \"2\", \"theory\", \"energy\", \"first\", \"3\", \"example\", \"many\", \"state\", \"university\", \"may\", \"used\", \"new\"], \"Freq\": [14779.0, 10596.0, 16453.0, 8742.0, 11361.0, 17622.0, 9760.0, 7744.0, 8666.0, 6150.0, 6093.0, 6780.0, 5644.0, 11036.0, 5053.0, 15636.0, 7806.0, 8707.0, 11572.0, 7170.0, 6216.0, 5670.0, 3911.0, 2090.0, 6035.0, 7472.0, 5168.0, 4815.0, 6123.0, 3407.0, 32.40088178169877, 11.001091658323412, 83.3086797273502, 5.299021056799961, 9.871304411148426, 9.752410305409253, 39.3538617787746, 6.704168869467511, 5.122955160415575, 5.953523619862624, 7.278671227694034, 4.3768180278604065, 10.257107077220965, 12.326483484651344, 3.623887590895204, 3.614391341130188, 8.526453303139473, 17.65173637498539, 4.917174910828099, 6.315451822568247, 2.8172053245211854, 3.5246786388701663, 13.943027068517905, 2.78758330515853, 8.363515053228243, 1.3935844277712555, 8.926106045277097, 3.4536871490910848, 2.0849493968665582, 3.4228133595529058, 191.3969086001956, 21.528890276480276, 256.84284596851836, 192.58407516358548, 17.39602396951845, 30.953277245086557, 34.76012870184612, 238.27228862985623, 22.409080204975623, 301.55432018993963, 2744.8881662150166, 408.3642396752743, 169.32448419419927, 312.4081120034567, 143.59906117206526, 4031.070137869942, 1004.2289985342695, 398.9209961514242, 753.6173766770952, 1090.612454097361, 398.0864089142056, 2015.8336555216154, 266.7868649331978, 266.55193395782413, 2412.0569780690516, 1572.4080899463358, 807.1749404978258, 433.4313458745268, 3964.859062748968, 753.8632216928652, 263.497253815511, 2168.474845172031, 1603.9336902304053, 5037.994962128344, 2457.3891666831705, 3777.489897024973, 1115.0648322646973, 2510.2799538560566, 3166.4092719636615, 1395.232137485028, 1878.6984877083198, 1073.3618026917059, 1332.5612921871377, 5070.470218668132, 1336.4658623217224, 2398.2901191558944, 1502.857433956584, 3667.56476008331, 2119.9370469786545, 2317.200377408729, 1971.862276431054, 2419.138669635122, 1724.0280179966344, 3268.8828333881856, 2232.3811521432835, 1694.0105956545954, 2882.4347952761277, 4337.001123000039, 2161.5566909731688, 2046.106085283708, 4397.891844037171, 2820.666331307653, 2383.884817752676, 3006.379796681157, 2672.4512758810256, 2884.8006974510668, 3222.3572223674164, 2348.0769098935684, 2255.094213396669, 2396.393116494278, 2268.4934982085783, 2188.1559975525724, 27.412454782635407, 2.9361116871389727, 5.772633447975135, 63.25371797240619, 2.744658100899595, 3.9274077607431983, 2.600216083538562, 7.737581200617921, 1.9218723557108184, 3.817921606221018, 6.138477740252131, 1.8397251810722457, 12.386280180918193, 3.5500240428074847, 1.7966087799223103, 1.789869876486445, 14.23189307843571, 1.742120697641706, 6.933079841965018, 3.4413083482217752, 15.384682866634192, 3.9557295604762164, 19.15776892327128, 8.666359820532254, 1.1161774481451432, 10.389586310385074, 1.6752782308702783, 1.1076393681566945, 1.1059604085158798, 1.105417685074087, 26.91082595447281, 6.728957583223236, 2.7219827683635223, 20.716205052596656, 26.73742843582835, 37.53826561840525, 99.64212094462742, 429.7565603558979, 131.14478933757525, 140.72210725170171, 5861.285461858532, 192.73788121416848, 57.82934453059828, 642.4308265415274, 50.984663259173054, 5797.686041052097, 2363.2292851763023, 307.6465062096773, 560.3356107705182, 5992.588184533093, 1889.7798528253752, 1372.144394477579, 769.9710618178826, 3370.0218629453016, 2165.239807384217, 462.7806716182519, 885.0110643277595, 549.0995007674188, 3686.1953379322727, 710.0801519481844, 2388.8901124566582, 545.3325401817976, 233.38227598611698, 210.77098458319682, 926.4516864595149, 2456.8248272203696, 1994.245478857026, 1334.4666772415221, 3109.2109411019364, 2626.154891459317, 1918.3854688445404, 2529.598218631752, 1976.6631087625221, 3887.715174516994, 1626.3724544365543, 2957.034298105678, 2913.417022977956, 2411.40778004699, 2231.9454095313813, 2144.346562892889, 2450.73771378652, 1923.2899908109553, 3355.0282158714012, 1567.7370788103988, 2672.1709878912657, 2361.7582625843716, 2409.103909600951, 2779.100922690894, 2119.306256170693, 2170.782265518459, 1960.6267915235173, 1954.038919669223, 5.182295041533179, 1.9762391068083398, 11.148294482873778, 75.47760068221893, 4.714021042436324, 3.9650401360655327, 6.926554604934149, 2.9058496253362294, 2.849054695551752, 3.9721807796222666, 3.288065050304708, 5.910389049856131, 2.196870760926155, 2.6763608506056684, 10.631180709432645, 4.17576419881282, 1.0918849434787758, 2.116381352501862, 4.700632026380813, 4.77253801823626, 2.124013508294173, 4.562628673630194, 6.585492965242991, 1.557844421152411, 23.978526922757965, 6.287807744421508, 8.350279300647605, 2.5213688714196394, 5.731470345795599, 1.4885642968047856, 12.349071043597503, 569.132699252022, 67.99603450352261, 15.217434971611725, 52.295822724869254, 549.8169407941115, 227.7815627730055, 243.957899958544, 224.56877314127902, 70.28244629455091, 42.71951266369762, 411.5367505317457, 335.18980475380727, 118.2244251731034, 122.9794288068785, 83.66645606177775, 1604.7672474510446, 323.33169317499784, 737.3562356715993, 1816.5106030335253, 1884.1784599944224, 263.4616070851284, 1870.5143620931935, 1475.1541071529439, 1546.4787128426906, 1774.8840518756704, 385.5089884380768, 196.28034682493748, 4144.629785060035, 1179.8855078196236, 2899.776713836469, 1593.4895881028103, 3795.685115791303, 2287.7423482700237, 2005.2487669999975, 983.9843320551573, 1674.1176924934032, 3113.32272921626, 1362.0906932834007, 2194.295505771844, 2011.4350476635263, 2588.5664557437717, 2075.556300838081, 1432.300332239697, 3131.4074093738104, 2205.4439058586895, 1608.404987464984, 3472.3470863780017, 1863.1233513202494, 2404.315193327863, 2961.014133751214, 2145.8724942018453, 2150.3458784440286, 2295.263885552017, 1825.462018092647, 1810.672815476682, 2007.9680692718628, 1781.1429880717446, 1781.3710926506662, 1678.938725010498, 1.8041587617302168, 4.392037207097104, 2.1861417145785524, 24.515173995464885, 9.145000236056598, 118.26560391779552, 1.0163427670567897, 1.0160848245866485, 1.0113730412781945, 1.0099168714209117, 1.0077936407979036, 3.488097666160046, 1.0062583959328757, 1.0049210949912564, 1.0040309627056276, 2.9555238993401, 3.476845836134494, 2.4690370162170754, 35.20984336255364, 18.097796717360172, 1.9527849053407824, 1.4787373106605246, 1.4442784530052497, 57.813935032313594, 1.9370304151465851, 11.643173161936767, 5.269129808569323, 9.91361423429673, 1.8838042171965679, 10.101791009666998, 116.16934289794781, 67.9275411404141, 8.98201915809579, 5.5622213760573755, 53.133337840273455, 26.59203692106501, 5.556295775995792, 181.66850716549183, 57.582792323292686, 583.2744415321954, 3.7702397552734324, 1216.62043004083, 2911.872283015816, 2566.410777453053, 2262.0053211349264, 403.0326993977599, 422.65962584621576, 3390.4778702680633, 223.6453989262617, 434.5014526579601, 744.6029416751076, 107.51123876587144, 1427.2521281811632, 1284.4013917572893, 856.5912756903891, 479.2842990178172, 3075.1962220052765, 510.7727966202885, 3108.277657434328, 1098.8336658067703, 1194.8433657236696, 1080.1278969437396, 1491.5705834064722, 2617.066988011531, 3688.7573293272862, 1001.012632532691, 1581.810944502514, 1718.837940141188, 952.8100765937872, 2456.2885988516828, 3615.797783711645, 1421.8167628093597, 2154.459569153742, 2183.841460961293, 1449.7139430919813, 2159.664723896512, 3759.711353879049, 2563.06558176146, 2585.156140023723, 1849.121927824986, 3288.436798902826, 2928.082598066592, 2179.25909318484, 2238.7021661925455, 1746.4476722068093, 2037.1869980035087, 1908.7897502606709, 1765.5605105945358, 1627.1869088037336, 1852.0125835519543, 2052.7010099199365, 1583.1889525607016], \"Total\": [14779.0, 10596.0, 16453.0, 8742.0, 11361.0, 17622.0, 9760.0, 7744.0, 8666.0, 6150.0, 6093.0, 6780.0, 5644.0, 11036.0, 5053.0, 15636.0, 7806.0, 8707.0, 11572.0, 7170.0, 6216.0, 5670.0, 3911.0, 2090.0, 6035.0, 7472.0, 5168.0, 4815.0, 6123.0, 3407.0, 45.4192551714814, 15.437438581943251, 119.43584804434128, 7.682217448353187, 14.333465675159426, 14.270191378767885, 57.80713247530472, 9.852028190120285, 7.556721361660993, 8.805915516253622, 10.771311780005892, 6.548123208844383, 15.41633360204063, 18.541265199744462, 5.464553809200534, 5.450495798505545, 13.02476619215499, 27.167005058947627, 7.5831410330321285, 9.743051014644315, 4.347844836589714, 5.45204650269365, 21.665827238079505, 4.334027437895346, 13.006181987003385, 2.1696641062652926, 13.914972148137245, 5.386286426757081, 3.261861083744361, 5.406699664682893, 306.717810157417, 34.4195807709766, 422.7002882066849, 319.0979763305774, 27.899288517405804, 50.33057609026106, 56.80261001363419, 415.59867957668445, 36.41161213739871, 564.4530074275116, 5811.373665360397, 783.3106632173709, 309.71394688006353, 595.8614547926879, 262.224424128797, 9236.82486729733, 2083.612282871462, 782.3991603000165, 1552.6048249879777, 2310.542273361577, 782.8145628586672, 4482.061187942274, 509.7563327073592, 511.22470494661053, 5462.9082081838715, 3481.170160219533, 1687.6519179084812, 868.378001925791, 9650.3674927114, 1591.8064602411446, 508.9066403257876, 5044.604389278074, 3628.6493621697637, 12983.119623955434, 5906.526411748835, 9527.1117868482, 2470.911651914038, 6139.129069080561, 8004.171292510793, 3198.5604313975455, 4524.093796782041, 2403.372869464916, 3105.092200651469, 14484.988441979936, 3242.350349759682, 6574.288416768313, 3752.259773998175, 11152.01543409459, 5727.263914254508, 6399.734635050464, 5250.125331882404, 6780.492824457744, 4451.314579509884, 10067.034787625711, 6229.441273004251, 4376.045322314173, 8818.47447275736, 15636.19919701998, 6117.352225749986, 5694.874418100402, 17622.538468827315, 9425.055497754223, 7472.178058087704, 11572.99516018917, 9360.620576590973, 11036.483100675472, 16453.109847382373, 8505.875401565621, 7768.538943864735, 11361.481785870752, 14779.55042314561, 8011.1239357711365, 33.9213760687887, 3.764599338164387, 7.466792977110407, 86.50467083514135, 3.7792520655959607, 5.622491346418035, 3.772913556416448, 11.240929385996909, 2.8582781949601395, 5.7501845284911, 9.435096924261256, 2.8469563985441795, 19.356255744349635, 5.575839698527202, 2.851239915030858, 2.847386134850351, 22.87551427879623, 2.837638711137286, 11.325700137000572, 5.670409492092051, 25.475730253669134, 6.595874870455729, 32.462716644195076, 14.729080079267668, 1.9104291156579944, 17.930495173347225, 2.894000183976345, 1.926993614500749, 1.9268949955674322, 1.9264309761402727, 47.70703121345894, 11.786307898277157, 4.74906037556107, 36.92749135540602, 48.10132121743308, 68.73646769136782, 192.85092462125957, 889.9837781929377, 259.2945667167073, 281.7307243341553, 14779.55042314561, 399.3172740096818, 111.88323026534947, 1492.4200534305114, 97.99771351961078, 16453.109847382373, 6216.90651876648, 680.5204071380886, 1307.2251325407744, 17622.538468827315, 5053.460199041482, 3609.8704691646276, 1918.2611120977106, 9760.006376686437, 6035.440840722417, 1120.1469870345902, 2305.5190247173173, 1358.2144060861033, 11572.99516018917, 1827.8521215533788, 7170.425234092179, 1366.1817910879324, 529.744532254375, 473.0024769247534, 2545.6785613179586, 7806.69556795952, 6150.864550461663, 3911.649510757219, 10596.03822482508, 8742.807251200877, 6093.026433228108, 8666.484403875635, 6574.288416768313, 15636.19919701998, 5324.684330465231, 11361.481785870752, 11152.01543409459, 8818.47447275736, 8011.1239357711365, 7768.538943864735, 9360.620576590973, 6750.059676375726, 14484.988441979936, 5168.10360029437, 11036.483100675472, 9425.055497754223, 10067.034787625711, 12983.119623955434, 8707.593629637704, 9236.82486729733, 7744.962209635961, 8004.171292510793, 6.674689053666384, 2.912220549629195, 17.94937246408636, 121.9887525307548, 7.705348517213738, 6.542823706356087, 11.476161044720682, 4.889943454728918, 4.802418981436033, 6.708318566474211, 5.718891495852934, 10.346596919593726, 3.867875125828359, 4.76670888812356, 18.935377489143256, 7.4517731516230015, 1.9569127974555494, 3.8226118220688683, 8.505381714105903, 8.660048752554971, 3.903938107217804, 8.416418481292435, 12.15945175554674, 2.885956033119328, 44.513011895599135, 11.67420167340876, 15.533446895941964, 4.708372582129032, 10.738111264746873, 2.8137834946212688, 24.371828784387546, 1240.9640604390224, 139.16268363685282, 30.584843978500864, 112.2499728153766, 1354.2785547015635, 530.8909478187811, 574.0722587002315, 525.7161954697278, 154.01634025105778, 90.77284149668719, 1027.6681426612797, 831.3825927117964, 271.84731256577743, 286.94546591933505, 191.15050609815083, 4815.68420081905, 840.4478721883069, 2090.8040833902055, 5644.854587479251, 6093.026433228108, 692.343987647716, 6123.375819566539, 4877.421168305213, 5146.430230396019, 6140.291264415213, 1090.5249616710446, 509.2863817195303, 16453.109847382373, 3998.809551031154, 11361.481785870752, 5670.452350125876, 15636.19919701998, 8707.593629637704, 7472.178058087704, 3278.9940174582157, 6150.864550461663, 12983.119623955434, 4892.652198841088, 8666.484403875635, 7806.69556795952, 10596.03822482508, 8505.875401565621, 5364.085795427384, 14484.988441979936, 9425.055497754223, 6399.734635050464, 17622.538468827315, 7768.538943864735, 11036.483100675472, 14779.55042314561, 9527.1117868482, 10067.034787625711, 11572.99516018917, 8011.1239357711365, 8004.171292510793, 11152.01543409459, 9360.620576590973, 9650.3674927114, 9760.006376686437, 2.6079358519747533, 7.044311368263789, 3.522676502754754, 40.27610607473032, 15.092764060996167, 202.4901918638777, 1.8104561169417468, 1.8105243162535496, 1.8065482970933229, 1.8058464514579078, 1.804476916580958, 6.253351111264575, 1.804320862205075, 1.8030393170911125, 1.802748069088471, 5.308230003957428, 6.288686023975656, 4.470387950741609, 64.31051943756529, 33.28931428477494, 3.615539677325068, 2.739057511803749, 2.6912782292892805, 108.10337797968282, 3.661281855888022, 22.013565281530443, 9.985539454956408, 18.80419033381061, 3.610372580419498, 19.410911027817868, 224.47917522639545, 139.71596108147185, 17.654958778921362, 10.782710353179358, 113.30143340944082, 55.54309284831727, 10.870499659605752, 438.25987367792334, 129.15016574720772, 1554.875556126925, 7.295267361930691, 3407.145004279768, 8742.807251200877, 7744.962209635961, 6780.492824457744, 1063.1114692884257, 1120.3804794076202, 10596.03822482508, 569.4639916253667, 1181.405176344212, 2184.4777402000122, 263.0583461253934, 4528.722271254289, 4058.9482277479183, 2616.404693807339, 1378.6866451232258, 11036.483100675472, 1483.6333151966728, 11361.481785870752, 3543.95260284504, 3911.649510757219, 3524.842312346209, 5113.647878018117, 9760.006376686437, 14779.55042314561, 3243.9527545122783, 5532.701001178203, 6117.352225749986, 3064.4892203896434, 9360.620576590973, 15636.19919701998, 5089.828964141419, 8505.875401565621, 8666.484403875635, 5263.577111420476, 8707.593629637704, 17622.538468827315, 11152.01543409459, 11572.99516018917, 7472.178058087704, 16453.109847382373, 14484.988441979936, 9650.3674927114, 10067.034787625711, 7170.425234092179, 9425.055497754223, 8818.47447275736, 8011.1239357711365, 6750.059676375726, 9527.1117868482, 12983.119623955434, 6922.581252385982], \"Category\": [\"Default\", \"Default\", \"Default\", \"Default\", \"Default\", \"Default\", \"Default\", \"Default\", \"Default\", \"Default\", \"Default\", \"Default\", \"Default\", \"Default\", \"Default\", \"Default\", \"Default\", \"Default\", \"Default\", \"Default\", \"Default\", \"Default\", \"Default\", \"Default\", \"Default\", \"Default\", \"Default\", \"Default\", \"Default\", \"Default\", \"Topic1\", \"Topic1\", \"Topic1\", \"Topic1\", \"Topic1\", \"Topic1\", \"Topic1\", \"Topic1\", \"Topic1\", \"Topic1\", \"Topic1\", \"Topic1\", \"Topic1\", \"Topic1\", \"Topic1\", \"Topic1\", \"Topic1\", \"Topic1\", \"Topic1\", \"Topic1\", \"Topic1\", \"Topic1\", \"Topic1\", \"Topic1\", \"Topic1\", \"Topic1\", \"Topic1\", \"Topic1\", \"Topic1\", \"Topic1\", \"Topic1\", \"Topic1\", \"Topic1\", \"Topic1\", \"Topic1\", \"Topic1\", \"Topic1\", \"Topic1\", \"Topic1\", \"Topic1\", \"Topic1\", \"Topic1\", \"Topic1\", \"Topic1\", \"Topic1\", \"Topic1\", \"Topic1\", \"Topic1\", \"Topic1\", \"Topic1\", \"Topic1\", \"Topic1\", \"Topic1\", \"Topic1\", \"Topic1\", \"Topic1\", \"Topic1\", \"Topic1\", \"Topic1\", \"Topic1\", \"Topic1\", \"Topic1\", \"Topic1\", \"Topic1\", \"Topic1\", \"Topic1\", \"Topic1\", \"Topic1\", \"Topic1\", \"Topic1\", \"Topic1\", \"Topic1\", \"Topic1\", \"Topic1\", \"Topic1\", \"Topic1\", \"Topic1\", \"Topic1\", \"Topic1\", \"Topic1\", \"Topic1\", \"Topic1\", \"Topic1\", \"Topic1\", \"Topic1\", \"Topic1\", \"Topic1\", \"Topic1\", \"Topic1\", \"Topic1\", \"Topic1\", \"Topic1\", \"Topic1\", \"Topic1\", \"Topic1\", \"Topic1\", \"Topic1\", \"Topic1\", \"Topic1\", \"Topic1\", \"Topic1\", \"Topic1\", \"Topic2\", \"Topic2\", \"Topic2\", \"Topic2\", \"Topic2\", \"Topic2\", \"Topic2\", \"Topic2\", \"Topic2\", \"Topic2\", \"Topic2\", \"Topic2\", \"Topic2\", \"Topic2\", \"Topic2\", \"Topic2\", \"Topic2\", \"Topic2\", \"Topic2\", \"Topic2\", \"Topic2\", \"Topic2\", \"Topic2\", \"Topic2\", \"Topic2\", \"Topic2\", \"Topic2\", \"Topic2\", \"Topic2\", \"Topic2\", \"Topic2\", \"Topic2\", \"Topic2\", \"Topic2\", \"Topic2\", \"Topic2\", \"Topic2\", \"Topic2\", \"Topic2\", \"Topic2\", \"Topic2\", \"Topic2\", \"Topic2\", \"Topic2\", \"Topic2\", \"Topic2\", \"Topic2\", \"Topic2\", \"Topic2\", \"Topic2\", \"Topic2\", \"Topic2\", \"Topic2\", \"Topic2\", \"Topic2\", \"Topic2\", \"Topic2\", \"Topic2\", \"Topic2\", \"Topic2\", \"Topic2\", \"Topic2\", \"Topic2\", \"Topic2\", \"Topic2\", \"Topic2\", \"Topic2\", \"Topic2\", \"Topic2\", \"Topic2\", \"Topic2\", \"Topic2\", \"Topic2\", \"Topic2\", \"Topic2\", \"Topic2\", \"Topic2\", \"Topic2\", \"Topic2\", \"Topic2\", \"Topic2\", \"Topic2\", \"Topic2\", \"Topic2\", \"Topic2\", \"Topic2\", \"Topic2\", \"Topic2\", \"Topic2\", \"Topic2\", \"Topic2\", \"Topic2\", \"Topic3\", \"Topic3\", \"Topic3\", \"Topic3\", \"Topic3\", \"Topic3\", \"Topic3\", \"Topic3\", \"Topic3\", \"Topic3\", \"Topic3\", \"Topic3\", \"Topic3\", \"Topic3\", \"Topic3\", \"Topic3\", \"Topic3\", \"Topic3\", \"Topic3\", \"Topic3\", \"Topic3\", \"Topic3\", \"Topic3\", \"Topic3\", \"Topic3\", \"Topic3\", \"Topic3\", \"Topic3\", \"Topic3\", \"Topic3\", \"Topic3\", \"Topic3\", \"Topic3\", \"Topic3\", \"Topic3\", \"Topic3\", \"Topic3\", \"Topic3\", \"Topic3\", \"Topic3\", \"Topic3\", \"Topic3\", \"Topic3\", \"Topic3\", \"Topic3\", \"Topic3\", \"Topic3\", \"Topic3\", \"Topic3\", \"Topic3\", \"Topic3\", \"Topic3\", \"Topic3\", \"Topic3\", \"Topic3\", \"Topic3\", \"Topic3\", \"Topic3\", \"Topic3\", \"Topic3\", \"Topic3\", \"Topic3\", \"Topic3\", \"Topic3\", \"Topic3\", \"Topic3\", \"Topic3\", \"Topic3\", \"Topic3\", \"Topic3\", \"Topic3\", \"Topic3\", \"Topic3\", \"Topic3\", \"Topic3\", \"Topic3\", \"Topic3\", \"Topic3\", \"Topic3\", \"Topic3\", \"Topic3\", \"Topic3\", \"Topic3\", \"Topic3\", \"Topic3\", \"Topic3\", \"Topic3\", \"Topic3\", \"Topic3\", \"Topic3\", \"Topic4\", \"Topic4\", \"Topic4\", \"Topic4\", \"Topic4\", \"Topic4\", \"Topic4\", \"Topic4\", \"Topic4\", \"Topic4\", \"Topic4\", \"Topic4\", \"Topic4\", \"Topic4\", \"Topic4\", \"Topic4\", \"Topic4\", \"Topic4\", \"Topic4\", \"Topic4\", \"Topic4\", \"Topic4\", \"Topic4\", \"Topic4\", \"Topic4\", \"Topic4\", \"Topic4\", \"Topic4\", \"Topic4\", \"Topic4\", \"Topic4\", \"Topic4\", \"Topic4\", \"Topic4\", \"Topic4\", \"Topic4\", \"Topic4\", \"Topic4\", \"Topic4\", \"Topic4\", \"Topic4\", \"Topic4\", \"Topic4\", \"Topic4\", \"Topic4\", \"Topic4\", \"Topic4\", \"Topic4\", \"Topic4\", \"Topic4\", \"Topic4\", \"Topic4\", \"Topic4\", \"Topic4\", \"Topic4\", \"Topic4\", \"Topic4\", \"Topic4\", \"Topic4\", \"Topic4\", \"Topic4\", \"Topic4\", \"Topic4\", \"Topic4\", \"Topic4\", \"Topic4\", \"Topic4\", \"Topic4\", \"Topic4\", \"Topic4\", \"Topic4\", \"Topic4\", \"Topic4\", \"Topic4\", \"Topic4\", \"Topic4\", \"Topic4\", \"Topic4\", \"Topic4\", \"Topic4\", \"Topic4\", \"Topic4\", \"Topic4\", \"Topic4\", \"Topic4\", \"Topic4\", \"Topic4\", \"Topic4\", \"Topic4\", \"Topic4\", \"Topic4\", \"Topic4\"], \"logprob\": [30.0, 29.0, 28.0, 27.0, 26.0, 25.0, 24.0, 23.0, 22.0, 21.0, 20.0, 19.0, 18.0, 17.0, 16.0, 15.0, 14.0, 13.0, 12.0, 11.0, 10.0, 9.0, 8.0, 7.0, 6.0, 5.0, 4.0, 3.0, 2.0, 1.0, -10.617, -11.6972, -9.6727, -12.4277, -11.8056, -11.8177, -10.4226, -12.1925, -12.4615, -12.3113, -12.1103, -12.6189, -11.7673, -11.5835, -12.8077, -12.8103, -11.9521, -11.2244, -12.5025, -12.2522, -13.0595, -12.8354, -11.4603, -13.0701, -11.9714, -13.7634, -11.9063, -12.8558, -13.3605, -12.8648, -8.8409, -11.0258, -8.5468, -8.8347, -11.239, -10.6628, -10.5468, -8.6218, -10.9858, -8.3863, -6.1777, -8.0831, -8.9634, -8.3509, -9.1282, -5.7934, -7.1833, -8.1065, -7.4703, -7.1007, -8.1086, -6.4864, -8.5088, -8.5097, -6.307, -6.7349, -7.4017, -8.0235, -5.81, -7.47, -8.5212, -6.4135, -6.715, -5.5705, -6.2884, -5.8584, -7.0786, -6.2671, -6.0349, -6.8544, -6.5569, -7.1167, -6.9004, -5.564, -6.8974, -6.3127, -6.7801, -5.888, -6.4361, -6.3471, -6.5085, -6.3041, -6.6428, -6.003, -6.3844, -6.6604, -6.1288, -5.7203, -6.4167, -6.4715, -5.7064, -6.1505, -6.3187, -6.0867, -6.2045, -6.128, -6.0174, -6.3339, -6.3743, -6.3135, -6.3684, -6.4044, -10.5289, -12.7628, -12.0867, -9.6927, -12.8302, -12.4719, -12.8843, -11.7938, -13.1866, -12.5002, -12.0253, -13.2302, -11.3233, -12.5729, -13.254, -13.2577, -11.1844, -13.2848, -11.9036, -12.604, -11.1065, -12.4647, -10.8872, -11.6804, -13.73, -11.4991, -13.3239, -13.7376, -13.7391, -13.7396, -10.5473, -11.9334, -12.8385, -10.8089, -10.5538, -10.2145, -9.2383, -7.7766, -8.9636, -8.8931, -5.1637, -8.5785, -9.7824, -7.3746, -9.9083, -5.1746, -6.0721, -8.1109, -7.5113, -5.1416, -6.2956, -6.6157, -7.1935, -5.7172, -6.1596, -7.7026, -7.0543, -7.5316, -5.6275, -7.2745, -6.0613, -7.5385, -8.3872, -8.4891, -7.0085, -6.0332, -6.2418, -6.6436, -5.7977, -5.9666, -6.2806, -6.004, -6.2507, -5.5743, -6.4458, -5.8479, -5.8628, -6.0519, -6.1292, -6.1693, -6.0357, -6.2781, -5.7216, -6.4825, -5.9492, -6.0727, -6.0529, -5.91, -6.181, -6.157, -6.2588, -6.2622, -12.0728, -13.0368, -11.3068, -9.3942, -12.1675, -12.3405, -11.7827, -12.6513, -12.6711, -12.3387, -12.5277, -11.9413, -12.931, -12.7336, -11.3543, -12.2887, -13.6301, -12.9683, -12.1703, -12.1552, -12.9647, -12.2001, -11.8332, -13.2747, -10.5409, -11.8794, -11.5957, -12.7932, -11.9721, -13.3202, -11.2045, -7.3739, -9.4986, -10.9956, -9.7611, -7.4085, -8.2897, -8.221, -8.3039, -9.4655, -9.9634, -7.6981, -7.9033, -8.9455, -8.906, -9.2912, -6.3373, -7.9394, -7.115, -6.2134, -6.1768, -8.1441, -6.1841, -6.4215, -6.3743, -6.2366, -7.7635, -8.4385, -5.3885, -6.6449, -5.7457, -6.3444, -5.4764, -5.9827, -6.1145, -6.8264, -6.295, -5.6746, -6.5013, -6.0244, -6.1114, -5.8592, -6.0801, -6.451, -5.6688, -6.0194, -6.335, -5.5655, -6.188, -5.933, -5.7248, -6.0467, -6.0447, -5.9794, -6.2085, -6.2166, -6.1132, -6.233, -6.2329, -6.2921, -13.1224, -12.2327, -12.9304, -10.5132, -11.4993, -8.9396, -13.6963, -13.6966, -13.7012, -13.7027, -13.7048, -12.4632, -13.7063, -13.7076, -13.7085, -12.6289, -12.4664, -12.8087, -10.1512, -10.8167, -13.0433, -13.3213, -13.3449, -9.6553, -13.0514, -11.2578, -12.0507, -11.4186, -13.0792, -11.3998, -8.9575, -9.4941, -11.5173, -11.9965, -9.7397, -10.4319, -11.9976, -8.5103, -9.6593, -7.3439, -12.3854, -6.6087, -5.736, -5.8623, -5.9885, -7.7135, -7.666, -5.5838, -8.3025, -7.6383, -7.0997, -9.0349, -6.449, -6.5545, -6.9596, -7.5402, -5.6814, -7.4766, -5.6707, -6.7105, -6.6268, -6.7277, -6.4049, -5.8427, -5.4995, -6.8038, -6.3462, -6.2631, -6.8531, -5.9061, -5.5195, -6.4528, -6.0372, -6.0237, -6.4334, -6.0348, -5.4804, -5.8636, -5.855, -6.1901, -5.6144, -5.7304, -6.0258, -5.9989, -6.2472, -6.0932, -6.1583, -6.2363, -6.3179, -6.1885, -6.0856, -6.3453], \"loglift\": [30.0, 29.0, 28.0, 27.0, 26.0, 25.0, 24.0, 23.0, 22.0, 21.0, 20.0, 19.0, 18.0, 17.0, 16.0, 15.0, 14.0, 13.0, 12.0, 11.0, 10.0, 9.0, 8.0, 7.0, 6.0, 5.0, 4.0, 3.0, 2.0, 1.0, 0.8072, 0.8062, 0.7848, 0.7736, 0.772, 0.7643, 0.7605, 0.76, 0.7563, 0.7536, 0.7531, 0.7421, 0.7375, 0.7367, 0.7343, 0.7342, 0.7213, 0.7138, 0.7118, 0.7114, 0.7111, 0.7088, 0.7042, 0.7037, 0.7034, 0.7023, 0.701, 0.7006, 0.6974, 0.6878, 0.6734, 0.6758, 0.6468, 0.64, 0.6726, 0.6589, 0.6539, 0.5887, 0.6596, 0.5181, 0.3949, 0.4936, 0.5412, 0.4993, 0.5428, 0.3158, 0.4151, 0.4714, 0.4222, 0.3943, 0.4688, 0.3459, 0.4975, 0.4938, 0.3275, 0.3502, 0.4074, 0.4501, 0.2555, 0.3976, 0.4868, 0.3007, 0.3286, 0.1984, 0.268, 0.2199, 0.3493, 0.2507, 0.2176, 0.3154, 0.2662, 0.3389, 0.2991, 0.0953, 0.2587, 0.1366, 0.23, 0.0329, 0.1511, 0.1291, 0.1657, 0.1144, 0.1965, 0.0202, 0.1188, 0.1959, 0.0268, -0.1374, 0.1047, 0.1214, -0.2431, -0.0614, 0.0025, -0.2029, -0.1085, -0.1968, -0.4854, -0.1422, -0.0919, -0.4113, -0.7291, -0.1528, 1.1873, 1.1518, 1.143, 1.0873, 1.0805, 1.0416, 1.0281, 1.0269, 1.0034, 0.9908, 0.9705, 0.9637, 0.9539, 0.9489, 0.9385, 0.9361, 0.9258, 0.9125, 0.9096, 0.901, 0.896, 0.8891, 0.873, 0.87, 0.8629, 0.8547, 0.8537, 0.8466, 0.8452, 0.8449, 0.8278, 0.8398, 0.8438, 0.8223, 0.8131, 0.7954, 0.74, 0.6724, 0.7187, 0.7062, 0.4755, 0.6719, 0.7404, 0.5575, 0.7469, 0.3573, 0.4331, 0.6065, 0.5532, 0.3217, 0.4168, 0.4331, 0.4875, 0.337, 0.3752, 0.5164, 0.4429, 0.4947, 0.2563, 0.4548, 0.3012, 0.482, 0.5806, 0.592, 0.3896, 0.2443, 0.274, 0.3249, 0.1743, 0.1977, 0.2447, 0.169, 0.1986, 0.0086, 0.2144, 0.0543, 0.0581, 0.1037, 0.1224, 0.1131, 0.0602, 0.1449, -0.0623, 0.2075, -0.0179, 0.0164, -0.0296, -0.1412, -0.0127, -0.0477, 0.0266, -0.0097, 1.2691, 1.1345, 1.0459, 1.0421, 1.0308, 1.0213, 1.0173, 1.0017, 1.0001, 0.9982, 0.9687, 0.9622, 0.9565, 0.945, 0.9449, 0.943, 0.9387, 0.931, 0.9292, 0.9263, 0.9135, 0.9099, 0.9089, 0.9056, 0.9036, 0.9034, 0.9015, 0.8976, 0.8944, 0.8855, 0.8423, 0.7427, 0.806, 0.8241, 0.7584, 0.6207, 0.676, 0.6664, 0.6716, 0.7376, 0.7685, 0.607, 0.6138, 0.6895, 0.6749, 0.696, 0.4233, 0.5669, 0.48, 0.3884, 0.3485, 0.556, 0.3363, 0.3263, 0.3199, 0.281, 0.4823, 0.5687, 0.1435, 0.3016, 0.1566, 0.2528, 0.1065, 0.1856, 0.2068, 0.3185, 0.2209, 0.0942, 0.2435, 0.1486, 0.1661, 0.1128, 0.1117, 0.2017, -0.0094, 0.0697, 0.1412, -0.1022, 0.0944, -0.0018, -0.0855, 0.0316, -0.0215, -0.0956, 0.0432, 0.0359, -0.1923, -0.1371, -0.1674, -0.2379, 1.1592, 1.0553, 1.0506, 1.0312, 1.0267, 0.9899, 0.9503, 0.95, 0.9476, 0.9465, 0.9452, 0.9439, 0.9438, 0.9431, 0.9424, 0.9421, 0.9351, 0.9341, 0.9253, 0.9183, 0.9117, 0.9113, 0.9053, 0.9018, 0.891, 0.8908, 0.8884, 0.8875, 0.8772, 0.8746, 0.869, 0.8065, 0.8519, 0.8658, 0.7705, 0.7912, 0.8566, 0.6471, 0.72, 0.5472, 0.8676, 0.4979, 0.4283, 0.4232, 0.4299, 0.5578, 0.5528, 0.3882, 0.5931, 0.5274, 0.4514, 0.6329, 0.373, 0.3771, 0.4111, 0.4711, 0.2499, 0.4614, 0.2315, 0.3567, 0.3418, 0.3449, 0.2956, 0.2115, 0.1397, 0.3519, 0.2756, 0.2582, 0.3595, 0.1898, 0.0634, 0.2524, 0.1545, 0.1493, 0.2383, 0.1335, -0.0171, 0.0573, 0.0288, 0.1312, -0.0824, -0.0711, 0.0397, 0.0243, 0.1153, -0.0041, -0.0027, 0.0153, 0.105, -0.1102, -0.3168, 0.0524]}, \"token.table\": {\"Topic\": [1, 2, 3, 4, 1, 2, 3, 1, 2, 3, 4, 1, 2, 3, 4, 1, 2, 3, 4, 1, 2, 3, 4, 2, 1, 2, 3, 4, 1, 2, 3, 4, 1, 2, 3, 4, 1, 3, 4, 1, 2, 3, 4, 1, 2, 3, 4, 1, 3, 4, 1, 2, 3, 4, 1, 2, 3, 4, 1, 2, 3, 4, 1, 2, 3, 4, 1, 2, 3, 4, 1, 2, 3, 4, 1, 2, 3, 4, 1, 2, 3, 4, 1, 2, 3, 4, 1, 2, 3, 4, 1, 2, 3, 4, 1, 2, 3, 4, 1, 2, 3, 4, 2, 1, 2, 3, 4, 1, 2, 3, 4, 1, 4, 1, 2, 1, 2, 3, 4, 1, 2, 3, 4, 1, 2, 3, 4, 1, 2, 3, 4, 1, 2, 3, 4, 1, 2, 3, 4, 1, 2, 4, 1, 2, 3, 4, 1, 2, 3, 4, 1, 2, 3, 4, 1, 2, 3, 4, 1, 2, 3, 4, 1, 2, 3, 4, 1, 2, 3, 4, 1, 2, 3, 4, 1, 2, 3, 1, 2, 3, 4, 1, 2, 3, 4, 1, 2, 3, 4, 1, 2, 3, 4, 1, 2, 3, 1, 2, 3, 4, 1, 2, 3, 4, 1, 2, 3, 4, 1, 2, 3, 4, 1, 2, 3, 4, 1, 2, 3, 4, 1, 2, 3, 4, 1, 2, 3, 4, 1, 3, 1, 2, 3, 4, 1, 2, 1, 2, 3, 4, 1, 2, 3, 4, 4, 1, 2, 3, 4, 1, 2, 3, 4, 1, 2, 3, 4, 1, 2, 3, 4, 1, 2, 3, 4, 1, 2, 3, 4, 1, 2, 3, 4, 1, 2, 3, 4, 1, 2, 3, 4, 1, 3, 4, 1, 2, 3, 4, 1, 2, 3, 4, 1, 2, 3, 4, 1, 2, 3, 4, 1, 2, 3, 4, 1, 2, 3, 4, 2, 1, 2, 3, 4, 1, 2, 3, 4, 1, 2, 3, 4, 1, 2, 3, 4, 1, 2, 3, 4, 1, 2, 3, 4, 1, 2, 3, 4, 1, 2, 3, 4, 1, 2, 3, 4, 1, 2, 3, 4, 1, 2, 3, 4, 1, 2, 3, 4, 1, 2, 3, 4, 1, 2, 3, 4, 1, 2, 3, 4, 4, 4, 1, 2, 3, 4, 1, 2, 3, 4, 1, 2, 3, 4, 4, 1, 2, 3, 4, 1, 2, 3, 4, 1, 2, 3, 4, 4, 1, 2, 3, 4, 1, 2, 3, 4, 1, 2, 3, 4, 1, 2, 3, 4, 1, 2, 3, 4, 2, 1, 2, 3, 4, 1, 2, 3, 4, 1, 2, 3, 4, 1, 2, 3, 4, 1, 2, 3, 4, 1, 2, 3, 4, 3, 4, 1, 2, 3, 4, 1, 3, 4, 1, 2, 3, 4, 2, 1, 2, 3, 4, 1, 2, 3, 4, 1, 2, 3, 4, 1, 2, 3, 4, 1, 2, 3, 1, 2, 3, 4, 1, 2, 3, 4, 1, 2, 3, 4, 1, 2, 3, 4, 1, 2, 3, 4, 1, 2, 3, 4, 2, 1, 2, 3, 4, 1, 2, 3, 4, 1, 2, 3, 4, 2, 1, 2, 3, 4, 1, 2, 3, 4, 1, 2, 3, 4, 1, 2, 3, 4, 1, 2, 3, 4, 1, 2, 3, 4, 1, 2, 3, 4, 2, 3, 4, 1, 2, 3, 4, 1, 2, 3, 4, 1, 2, 3, 4, 1, 2, 3, 4, 1, 2, 3, 4, 1, 2, 3, 4, 1, 2, 3, 4, 1, 2, 3, 4, 1, 2, 3, 4, 1, 2, 3, 4, 1, 2, 3, 4, 2, 3, 4, 1, 2, 3, 4, 1, 2, 3, 4, 1, 2, 3, 4, 1, 4, 1, 1, 2, 3, 4, 1, 2, 3, 4, 1, 2, 3, 4, 1, 2, 3, 4, 1, 2, 3, 4, 1, 2, 3, 4, 1, 2, 3, 4, 1, 2, 3, 4, 1, 2, 3, 4, 1, 2, 3, 4, 1, 2, 3, 4, 1, 2, 3, 4, 1, 2, 3, 4, 1, 2, 3, 4, 1, 2, 3, 4, 1, 2, 3, 4, 1, 2, 3, 4, 1, 2, 3, 4, 1, 2, 3, 4, 1, 2, 3, 4, 1, 2, 3, 4, 1, 2, 3, 4, 1, 2, 3, 4, 1, 2, 3, 4, 1, 2, 3, 4, 1, 2, 3, 4, 1, 2, 3, 4, 3, 4, 1, 2, 3, 4, 1, 3, 2, 3, 4, 1, 2, 3, 4, 1, 2, 3, 4, 1, 2, 3, 4, 1, 2, 3, 4, 1, 2, 3, 4, 1, 2, 3, 4, 1, 2, 3, 4, 1, 2, 3, 4, 1, 2, 3, 4, 1, 2, 3, 4, 1, 2, 3, 4, 1, 2, 3, 4, 3, 1, 2, 3, 4, 1, 2, 3, 4, 1, 2, 3, 4, 1, 2, 3, 4, 1, 2, 3, 1, 2, 3, 4, 1, 2, 3, 4, 1, 2, 3, 4, 1, 2, 3, 4, 1, 2, 3, 4, 1, 2, 3, 4, 1, 2, 3, 4, 1, 2, 3, 4, 1, 2, 3, 4, 1, 2, 3, 4, 1, 2, 3, 4, 1, 2, 3, 4, 2, 1, 2, 3, 4, 1, 2, 3, 4, 1, 2, 3, 4, 1, 2, 3, 4, 1, 2, 3, 4, 2, 3, 2, 1, 3, 4, 1, 2, 3, 4, 1, 2, 3, 4, 1, 2, 3, 4, 1, 2, 3, 4, 1, 2, 3, 4, 1, 2, 3, 4, 1, 2, 3, 4, 1, 2, 3, 4, 1, 2, 3, 4, 1, 2, 3, 4, 1, 2, 3, 4, 1, 2, 3, 4, 1, 2, 3, 4, 1, 2, 3, 4, 1, 2, 3, 4, 1, 2, 4, 1, 2, 3, 4, 4, 1, 2, 3, 4, 1, 2, 3, 4, 1, 2, 3, 4, 1, 2, 3, 4, 1, 2, 3, 4, 1, 2, 3, 4, 1, 2, 3, 4, 1, 2, 3, 4, 1, 2, 3, 3, 1, 2, 3, 4, 1, 2, 3, 4, 1, 2, 3, 4, 1, 2, 3, 4, 1, 2, 3, 4, 1, 2, 3, 4, 1, 2, 3, 4, 1, 2, 3, 4, 1, 2, 3, 4, 1, 2, 3, 4, 1, 2, 3, 4, 4, 1, 2, 3, 4, 1, 2, 3, 4, 1, 2, 3, 4, 1, 2, 3, 4, 4, 4, 2, 3, 1, 2, 3, 4, 1, 2, 3, 4, 1, 2, 3, 4, 1, 2, 3, 4, 1, 2, 3, 4, 2, 2, 1, 2, 3, 4, 1, 2, 3, 4, 1, 2, 3, 4, 4, 1, 2, 3, 4, 2, 1, 2, 3, 4, 1, 2], \"Freq\": [0.21454904015246368, 0.3452866596532009, 0.1720285761298885, 0.26813507071585363, 0.21056796943371278, 0.6317039083011383, 0.21056796943371278, 0.1516099106851169, 0.6064396427404676, 0.1516099106851169, 0.1516099106851169, 0.24956676972387754, 0.3400758642462933, 0.19702042393844993, 0.2133631319149112, 0.1958292401793335, 0.35239538626932826, 0.2519280572760203, 0.19984063988505543, 0.6746572322483017, 0.10379342034589258, 0.12109232373687466, 0.10379342034589258, 0.6997219527219223, 0.10598725249219393, 0.6359235149531636, 0.21197450498438786, 0.10598725249219393, 0.22564909990374496, 0.33317410362796457, 0.19761728959431804, 0.24350020298636507, 0.6461788809703896, 0.13846690306508347, 0.13846690306508347, 0.09231126871005566, 0.27697972376130986, 0.27697972376130986, 0.5539594475226197, 0.19185803787388833, 0.5185352374969955, 0.19185803787388833, 0.10370704749939909, 0.11328262076645816, 0.22656524153291632, 0.22656524153291632, 0.5097717934490618, 0.733878191612724, 0.183469547903181, 0.183469547903181, 0.20822839570340385, 0.20822839570340385, 0.6246851871102116, 0.20822839570340385, 0.2741503362079249, 0.13707516810396245, 0.13707516810396245, 0.5483006724158498, 0.12977998305540642, 0.12977998305540642, 0.6488999152770322, 0.12977998305540642, 0.6042028547646643, 0.1922463628796659, 0.08239129837699967, 0.10985506450266623, 0.13540047851823606, 0.5686820097765914, 0.2437208613328249, 0.08124028711094163, 0.1230929376100731, 0.1230929376100731, 0.4923717504402924, 0.2461858752201462, 0.7105135983085871, 0.10150194261551244, 0.2030038852310249, 0.10150194261551244, 0.1599142575248388, 0.1599142575248388, 0.1599142575248388, 0.47974277257451636, 0.3162429994823303, 0.1791560111746229, 0.1573961717607011, 0.3474321026422849, 0.34805227722893567, 0.20632356608658523, 0.17003645639732393, 0.27547805785041307, 0.49863077949895246, 0.20037356959080307, 0.1508559633126161, 0.14970439107358852, 0.17395928510890218, 0.32418206963285134, 0.2721568628713105, 0.22956122483529898, 0.14396375174087728, 0.19274881047034398, 0.35249596356487223, 0.3104068932884696, 0.5189696388751687, 0.17635410659399453, 0.5290623197819836, 0.17635410659399453, 0.17635410659399453, 0.17427430585945372, 0.08713715292972686, 0.609960070508088, 0.17427430585945372, 0.36508908472734874, 0.36508908472734874, 0.34554247976100816, 0.6910849595220163, 0.473675675298978, 0.20542698384982205, 0.19663194478591528, 0.12438698104668124, 0.08224054999386243, 0.2467216499815873, 0.575683849957037, 0.16448109998772487, 0.16346183511510012, 0.23188771958188623, 0.19387333932256062, 0.4105553068007166, 0.25059968816441114, 0.43017379626083413, 0.21106658227751207, 0.10787847538628395, 0.26266215789879577, 0.5004778954558136, 0.12423210170888989, 0.1171331244683819, 0.7045470005878188, 0.11008546884184668, 0.11008546884184668, 0.06605128130510801, 0.556970009076589, 0.18565666969219635, 0.18565666969219635, 0.22570369046176905, 0.3147298339753499, 0.2575993879220304, 0.20187798874446541, 0.3190502128652591, 0.16514595749820876, 0.2683287234877703, 0.24745127667276173, 0.08843980839445724, 0.7959582755501151, 0.029479936131485744, 0.05895987226297149, 0.2473214084309852, 0.5528360894339669, 0.10183822700099392, 0.11638654514399305, 0.44203775011231244, 0.16066584059568464, 0.194562750361155, 0.20283028932834288, 0.4364053728323486, 0.23503747566832767, 0.15925385845606171, 0.16932225331426276, 0.1634796634409733, 0.2288715288173626, 0.4904389903229199, 0.13078373075277863, 0.2761548612771088, 0.2039724551952152, 0.30555041126521026, 0.21442420630209572, 0.17390746245536734, 0.6956298498214694, 0.17390746245536734, 0.35675872869808023, 0.16783440812667022, 0.14173011090485949, 0.3336040695804289, 0.36032644965494814, 0.178198522266651, 0.1821279273882971, 0.2793807041490383, 0.5491479311220506, 0.12965992818159527, 0.1983034195718516, 0.12584640088213658, 0.6813601594207246, 0.11356002657012076, 0.11356002657012076, 0.11356002657012076, 0.6899970244460442, 0.2299990081486814, 0.2299990081486814, 0.11881538474147245, 0.2376307694829449, 0.5940769237073623, 0.11881538474147245, 0.22369423213797504, 0.22369423213797504, 0.22369423213797504, 0.4473884642759501, 0.6625684340597413, 0.14723742979105364, 0.14723742979105364, 0.07361871489552682, 0.10332576849651454, 0.6199546109790872, 0.10332576849651454, 0.1549886527447718, 0.26603346759584673, 0.178177687451216, 0.24753751388118767, 0.3085741611395627, 0.19313163524470123, 0.12875442349646748, 0.5150176939858699, 0.12875442349646748, 0.6508537454992027, 0.13017074909984055, 0.13017074909984055, 0.13017074909984055, 0.14195851769205228, 0.14195851769205228, 0.14195851769205228, 0.5678340707682091, 0.3465056253539439, 0.6930112507078878, 0.5548671437395167, 0.18495571457983892, 0.18495571457983892, 0.18495571457983892, 0.6131468964043547, 0.30657344820217736, 0.15345527672128537, 0.39656145364349804, 0.20034438905278923, 0.24960163837073268, 0.4515722954205907, 0.12122360602257587, 0.17580295470572616, 0.2513522636724026, 0.7668900285586324, 0.27604448562317513, 0.22666685190863783, 0.2440665895032843, 0.25323672147884124, 0.3871075080877284, 0.2522825790607156, 0.21046399937945567, 0.14990703973172956, 0.15081995703039902, 0.25381895207554955, 0.434067193404563, 0.16185556364237944, 0.25523853517462036, 0.2416882268400604, 0.18674788577448093, 0.31633810730136347, 0.7007614498344183, 0.07007614498344183, 0.14015228996688367, 0.07007614498344183, 0.2736636115231514, 0.17966611017389506, 0.38431889792164303, 0.16181848333542864, 0.4818554815852642, 0.18909468102051205, 0.15933866522540607, 0.16941731573665164, 0.35342087887295703, 0.16804656035217383, 0.19747105535547277, 0.2810039272815047, 0.3592704333386283, 0.19227816447008697, 0.19596569091197905, 0.2525077630209909, 0.7319902300651334, 0.18299755751628335, 0.18299755751628335, 0.19335545015067845, 0.16548439427310319, 0.42503360213302294, 0.21600068305120837, 0.4108651823875756, 0.17874966951287966, 0.18455255733474707, 0.22579451006873322, 0.4856354868057546, 0.14813814584260418, 0.18871511622557838, 0.17776577501112503, 0.2083936552546383, 0.3033994906585635, 0.2323869823220247, 0.25579982567003884, 0.26598107114251207, 0.14637884452138247, 0.21064272748198942, 0.3775503123935658, 0.14157767647139427, 0.4398346482377982, 0.17744402117748084, 0.2397381988248943, 0.7025046119507558, 0.2993085823921334, 0.250608603902949, 0.23395087705588594, 0.21612604832781843, 0.7125534421796113, 0.06477758565269193, 0.12955517130538385, 0.12955517130538385, 0.23207763156179778, 0.11523299067130932, 0.45851448735646855, 0.19420385141108773, 0.18482385597439888, 0.3740011646591155, 0.20481016159903945, 0.23647163585589578, 0.4464559010516297, 0.21469827114877998, 0.13980352539920557, 0.19888715815720318, 0.6616626127526003, 0.13233252255052005, 0.13233252255052005, 0.13233252255052005, 0.18393138354292426, 0.446086458937437, 0.1479907683678701, 0.22198615255180515, 0.26340559228665067, 0.21599258567505356, 0.12819072157950334, 0.393352351148065, 0.23859613280545278, 0.3003611911539401, 0.12799092646658758, 0.3330737961311019, 0.3247232247591137, 0.2392958851161532, 0.21356834910740116, 0.22240908541928894, 0.24587734465613553, 0.2433508142579875, 0.2627591614073975, 0.24805934818180886, 0.240800236649923, 0.36375370169303217, 0.18934047971494763, 0.20583902773990156, 0.6093345351582726, 0.17921603975243314, 0.10752962385145988, 0.10752962385145988, 0.21795408481371395, 0.31478609538607183, 0.3092059456242749, 0.15788541384848856, 0.5208661379945735, 0.19915469982145456, 0.15830245370423313, 0.12255673835166435, 0.5547086790144965, 0.554177219343296, 0.2427252139140519, 0.24712772686291623, 0.15320745062047775, 0.3571905505845238, 0.31534061803550584, 0.17810340515738435, 0.30009203882682567, 0.20646576248552945, 0.26294880495817013, 0.48332494625644606, 0.2053504953006662, 0.05008548665869907, 0.3715706496329376, 0.15901573018393564, 0.15901573018393564, 0.15901573018393564, 0.47704719055180694, 0.2259482564973674, 0.3884340487000747, 0.23798424110497535, 0.147167266338479, 0.18023801718091065, 0.15019834765075887, 0.1201586781206071, 0.540714051542732, 0.5535418021256157, 0.2802475418034558, 0.12215918488868585, 0.4886367395547434, 0.11497335048346903, 0.1325138319208572, 0.1325138319208572, 0.1325138319208572, 0.5963122436438574, 0.3620462616231164, 0.21485265849451235, 0.25126041807940064, 0.17172587031670478, 0.6391710621458503, 0.1162129203901546, 0.14526615048769326, 0.1162129203901546, 0.216532692326015, 0.34103259924782053, 0.13677094497570014, 0.3054977182167508, 0.5190946430915286, 0.08896061576952201, 0.7116849261561761, 0.17792123153904402, 0.08896061576952201, 0.6593573795106833, 0.13187147590213666, 0.13187147590213666, 0.13187147590213666, 0.3873013172189287, 0.18399059095261172, 0.20937635014387562, 0.2192610705369341, 0.2097883515587744, 0.2097883515587744, 0.6293650546763232, 0.2097883515587744, 0.29660226563792996, 0.1694603767849644, 0.2669606815798339, 0.2669606815798339, 0.2569768866365684, 0.08565896221218947, 0.5139537732731368, 0.17131792442437893, 0.3553933704961897, 0.3553933704961897, 0.20493692640800804, 0.08197477056320322, 0.6148107792240242, 0.09836972467584386, 0.25853988752696255, 0.5170797750539251, 0.25853988752696255, 0.6048299090435374, 0.153557852555095, 0.08774734431719715, 0.15669168628070917, 0.5234426086809181, 0.3534488798189784, 0.19061756520198891, 0.3004024014294341, 0.15544755572027638, 0.15953890844243862, 0.10635927229495908, 0.15953890844243862, 0.5317963614747954, 0.10303483422976854, 0.25758708557442134, 0.1545522513446528, 0.5151741711488427, 0.09250404739322227, 0.23126011848305567, 0.1387560710898334, 0.5365234748806892, 0.6486626624813256, 0.19459879874439767, 0.06486626624813256, 0.5084218139051875, 0.1622351014220071, 0.1532930092176445, 0.17628696060029114, 0.11757261856237822, 0.23514523712475643, 0.5878630928118911, 0.11757261856237822, 0.6079958002638892, 0.13248157515477743, 0.13957880239521192, 0.12065286308738658, 0.16639493660743343, 0.40420716901540243, 0.16418615426308697, 0.26505388132157537, 0.22291494512815946, 0.2164250163459472, 0.25056768515671596, 0.3101057274630978, 0.6498744204019477, 0.09283920291456395, 0.09283920291456395, 0.1856784058291279, 0.7968975528383309, 0.3385857265457779, 0.1198365211931686, 0.4279875756898878, 0.11603218718703626, 0.1341962482824909, 0.1341962482824909, 0.5367849931299636, 0.2683924965649818, 0.6227222341668811, 0.17605759500006063, 0.11737173000004042, 0.08476847166669586, 0.5189430792478692, 0.13872083303882318, 0.7282843734538217, 0.08092048593931352, 0.04624027767960772, 0.16631559794038686, 0.5613151430488056, 0.12473669845529015, 0.1455261481978385, 0.2902733726759398, 0.2759849716262594, 0.2398134338338252, 0.19385884667404227, 0.35485560937356697, 0.19755879591622122, 0.2950878217482798, 0.15254539937834805, 0.11154181636728577, 0.5577090818364289, 0.22308363273457155, 0.05577090818364289, 0.16928073600446727, 0.16037122358317954, 0.15591646737253564, 0.5167517204346895, 0.44152306941321695, 0.18909342068982302, 0.14296414478097944, 0.22643616785412493, 0.7173807383767788, 0.1793451845941947, 0.1793451845941947, 0.21258394797967664, 0.2300088617485026, 0.42865287871311847, 0.12894436188931208, 0.21972214909247528, 0.172638831429802, 0.43944429818495057, 0.16740735168950496, 0.18398418312195003, 0.18398418312195003, 0.09199209156097501, 0.55195254936585, 0.22796379336801414, 0.42838833653049635, 0.15529077199230493, 0.18818487640446804, 0.32681389608863454, 0.27340329752591874, 0.1832516502703794, 0.21647735171172913, 0.2769060431569636, 0.26615051181965216, 0.16524407236414848, 0.2917682319139758, 0.42976610903481754, 0.1932758101056029, 0.18138191409910426, 0.19545635770679431, 0.10869037032196066, 0.35308291897488997, 0.1627139863399766, 0.37494962069646787, 0.29697594289333895, 0.23811216343478311, 0.27837662368942023, 0.18660635640854675, 0.1553367567060437, 0.4133386112350472, 0.20265197570271215, 0.22943417513478864, 0.39644753672503336, 0.183896236256886, 0.22525189669365148, 0.19439259677383156, 0.15283920901438025, 0.611356836057521, 0.15283920901438025, 0.1862524936360068, 0.0931262468180034, 0.5587574809080205, 0.0931262468180034, 0.13578580530736312, 0.611036123883134, 0.06789290265368156, 0.20367870796104467, 0.6472050246153312, 0.1618012561538328, 0.10786750410255522, 0.10786750410255522, 0.2731283849102778, 0.5462567698205556, 0.460900835807866, 0.6159277800517464, 0.09934319033092684, 0.1788177425956683, 0.09934319033092684, 0.33092892706507837, 0.21578780923288823, 0.28907423501009555, 0.16432445246489374, 0.18609183803158147, 0.2719803786615422, 0.057259027086640456, 0.48670173023644386, 0.09329733381838086, 0.17104511200036493, 0.18659466763676172, 0.5442344472738884, 0.5167941998784588, 0.1689897383632983, 0.11593482050505349, 0.1964996957712771, 0.5222752293003602, 0.19169652611024457, 0.13692609007874612, 0.15061869908662073, 0.4361337013696763, 0.14381469722584306, 0.2013405761161803, 0.21884845230019598, 0.14906865112185402, 0.14906865112185402, 0.5962746044874161, 0.14906865112185402, 0.23211000773605542, 0.10370872686079072, 0.07901617284631673, 0.582744274741586, 0.20028962972123482, 0.10014481486061741, 0.10014481486061741, 0.5007240743030871, 0.5236116508132768, 0.10908576058609933, 0.21145855128997715, 0.1543983072910944, 0.6158235229377005, 0.1026372538229501, 0.2052745076459002, 0.1026372538229501, 0.20296580689782107, 0.291929216288509, 0.2531591701727228, 0.2520052997526101, 0.16260141733851416, 0.23228773905502023, 0.16260141733851416, 0.44908962883970577, 0.2921767906356348, 0.142841986532977, 0.4544972298776541, 0.10388508111489236, 0.22924738890608923, 0.21182458734922643, 0.35395796847100175, 0.20540566045985595, 0.4781791739377873, 0.19613049141686195, 0.11436007505575335, 0.21153651189069403, 0.31361134248178435, 0.24658432133413447, 0.21104844374292353, 0.22867192775157286, 0.5350312533125862, 0.15413151999402316, 0.13641525332804347, 0.17539103999319877, 0.4292948208495477, 0.24540334095075417, 0.17777249895645184, 0.14749964587328795, 0.5456648036113307, 0.11623628952667402, 0.10332114624593246, 0.23247257905334803, 0.47218352703528715, 0.16403075778769372, 0.13027244879708655, 0.23371136993497257, 0.2108879849615821, 0.26026534704983234, 0.2552483958216144, 0.2735558669701991, 0.16326911542480188, 0.5204203054165559, 0.173473435138852, 0.14286047599670162, 0.4005586208117186, 0.2065422030133612, 0.23345931592219926, 0.1596371349741979, 0.13479204718998586, 0.15725738838831682, 0.5391681887599434, 0.15725738838831682, 0.3756100807774336, 0.26627935746797776, 0.15866287894908832, 0.19942381063588893, 0.2838750589837001, 0.5677501179674002, 0.27736919601449983, 0.24865377775060535, 0.24276999494374948, 0.23125824597381403, 0.7336694575190712, 0.1834173643797678, 0.7114283959811359, 0.17785709899528399, 0.17785709899528399, 0.17485906153756406, 0.17485906153756406, 0.5245771846126922, 0.17485906153756406, 0.09931446681012802, 0.17380031691772402, 0.12414308351266003, 0.6207154175633001, 0.30729191164614356, 0.19645278928621615, 0.16893411063133762, 0.3275487167670958, 0.2348434861603298, 0.3800925738334653, 0.18272753443707854, 0.20235144218472254, 0.1778679832985416, 0.3989220201551653, 0.16030077507152513, 0.2627761563957878, 0.33509853498412184, 0.2611744245156721, 0.11784479223821329, 0.2859362903694071, 0.2616012419118145, 0.2616012419118145, 0.523202483823629, 0.2616012419118145, 0.364754304645912, 0.3007169559153328, 0.17720548995516577, 0.15727937906750336, 0.35155959763974043, 0.17546831660105178, 0.3332859741357256, 0.13975168884320455, 0.19558843137774465, 0.2432691932559013, 0.40090763048572536, 0.16153074432191847, 0.41204677344600416, 0.2294631732363975, 0.18104150899162008, 0.17703207182485506, 0.27889842348675453, 0.40140520763514204, 0.1689029704854364, 0.1511785846937548, 0.6867611727603029, 0.4088527821709269, 0.2111048628261041, 0.16907935772646301, 0.21077908371680457, 0.2711581603920899, 0.2552596363300129, 0.15832280211818275, 0.3150999143969969, 0.41533179558224914, 0.24491092576111337, 0.1346125936719477, 0.2053449910036772, 0.24544147357319068, 0.2631132596704604, 0.38485223056276296, 0.1079942483722039, 0.25615160193015046, 0.25615160193015046, 0.5123032038603009, 0.4723495954772281, 0.2133746806527369, 0.12664819754872125, 0.18756322734797035, 0.6949337352147886, 0.12559043407496182, 0.13396312967995927, 0.05023617362998472, 0.21038885900760934, 0.274757621403064, 0.2809299684820802, 0.2338437779078709, 0.4512504520897336, 0.19547441108461103, 0.12788802050256126, 0.22582758050768728, 0.3028953962948533, 0.14253901002110742, 0.4632517825685991, 0.08908688126319214, 0.09085307056908296, 0.2271326764227074, 0.13627960585362445, 0.5451184234144978, 0.4159805321639997, 0.21552430502432707, 0.1603311208625591, 0.20807491820494733, 0.11775913664213515, 0.5887956832106758, 0.15701218218951354, 0.11775913664213515, 0.6467853405804195, 0.14373007568453766, 0.07186503784226883, 0.14373007568453766, 0.5237796626908788, 0.08827747124003575, 0.11966501656982624, 0.26679413530321916, 0.27654672956993265, 0.15802670261139007, 0.1862457566491383, 0.37907595924041787, 0.2842842033224404, 0.1868153336118894, 0.40612029046062914, 0.1233128881944092, 0.7014492149386015, 0.2340525047012006, 0.21604846587803134, 0.0720161552926771, 0.4861090482255705, 0.6976679769311112, 0.06976679769311112, 0.13953359538622223, 0.06976679769311112, 0.6150921160409808, 0.0768865145051226, 0.1537730290102452, 0.0768865145051226, 0.1883867125679319, 0.1883867125679319, 0.1883867125679319, 0.5651601377037957, 0.2854511597961928, 0.2618416140196364, 0.19026516302283658, 0.2623757666390155, 0.8035578351232064, 0.13392630585386775, 0.7023985877858864, 0.6108620550385035, 0.1527155137596259, 0.1527155137596259, 0.14672889555167257, 0.5659543114135942, 0.1257676247585765, 0.16769016634476866, 0.32593602896352186, 0.1405370237244399, 0.19272341038432964, 0.3410426145755952, 0.2030758582872362, 0.1665678388198679, 0.21676636558749932, 0.4152787214413145, 0.28095562237194455, 0.3053702152251216, 0.2109045213393675, 0.2026411206813691, 0.1872806857172189, 0.1872806857172189, 0.47370996975531837, 0.15423115294359202, 0.2708444834713653, 0.17914894147684285, 0.23919157395724192, 0.31098167800989296, 0.18482741496229366, 0.5852868140472632, 0.1232182766415291, 0.1232182766415291, 0.2412381507265065, 0.2133053122213321, 0.17775442685111006, 0.36820559847729945, 0.277022628024174, 0.23927745242963935, 0.13952234550122633, 0.34442472730012874, 0.30668845057860644, 0.35871447623051483, 0.11333057817167305, 0.22119345301050222, 0.6161688695572094, 0.14083859875593358, 0.14083859875593358, 0.08802412422245849, 0.2731202285150251, 0.27861259142848993, 0.22780823447894002, 0.22044347511770307, 0.6909912905324038, 0.07677681005915599, 0.15355362011831197, 0.07677681005915599, 0.2364117410052622, 0.2531968455004474, 0.17908415334478353, 0.3313121394972708, 0.333915646631172, 0.18724241867168526, 0.17248998568543125, 0.3063966850991213, 0.2765838821439357, 0.2765838821439357, 0.5531677642878714, 0.2597426127283427, 0.3185000899922393, 0.19830648576565088, 0.22336482165760674, 0.5523469973352444, 0.4497930562446317, 0.2465383567213879, 0.1294047483243484, 0.17425018696778638, 0.20283959174780228, 0.25492242141929033, 0.3218860595683465, 0.22037768745350744, 0.09665013605645192, 0.19330027211290385, 0.5799008163387116, 0.09665013605645192, 0.35001753852328155, 0.23161910093601765, 0.21615481521033422, 0.2021403062714336, 0.3289091574233279, 0.26120839028739207, 0.1800571396145154, 0.22982392870119667, 0.15843359878724747, 0.052811199595749155, 0.5809231955532407, 0.21124479838299662, 0.23511418367727718, 0.4525948035787586, 0.17192724681400895, 0.1410685102063663, 0.5099698724714896, 0.09713711856599802, 0.19299611715086448, 0.19938671705652225, 0.2045013422461828, 0.2045013422461828, 0.6135040267385484, 0.51100897357319, 0.23094060626616694, 0.21169555574398635, 0.40294324530815584, 0.1539604041774446, 0.2123876100620355, 0.2123876100620355, 0.6371628301861064, 0.2123876100620355, 0.19966435750225478, 0.20719886155894365, 0.429466731231265, 0.16199183721881047, 0.5726678444753944, 0.10827753361929726, 0.22617973689364318, 0.09384052913672429, 0.2614057371069075, 0.24210611076244606, 0.21782301282669175, 0.2786213662404647, 0.23094558208000165, 0.11547279104000083, 0.5773639552000042, 0.11547279104000083, 0.2899233627295517, 0.28488637022428615, 0.18414652011897434, 0.24103490606079747, 0.11142450823847239, 0.11142450823847239, 0.6128347953115981, 0.16713676235770858, 0.38804233080501527, 0.21404716897720077, 0.23977288126161425, 0.1581284051494038, 0.20914877873020113, 0.3800690389640211, 0.18421713623256125, 0.22660092847854904, 0.08484421148934802, 0.5939094804254361, 0.08484421148934802, 0.25453263446804403, 0.5523261913815456, 0.2647804100729078, 0.17652027338193857, 0.09708615036006621, 0.4677787244621372, 0.18548212225790578, 0.18548212225790578, 0.09274106112895289, 0.5564463667737173, 0.3001493340896838, 0.3838615038574713, 0.17306298309506335, 0.1427010562362803, 0.04371486419113733, 0.6120080986759225, 0.1748594567645493, 0.1748594567645493, 0.5537569371929011, 0.5546190759796211, 0.14981971324202786, 0.7490985662101394, 0.28887374421999834, 0.1935454086273989, 0.37986897364929784, 0.1372150285044992, 0.1765895243390814, 0.6180633351867849, 0.0882947621695407, 0.1765895243390814, 0.3955437589100959, 0.24412271159517607, 0.22625702696973585, 0.13405510211956187, 0.3003636449359678, 0.2530025514341189, 0.3024139087239266, 0.14433857067230124, 0.3701592997528124, 0.20969873537883382, 0.20376221830732646, 0.2163336662234597, 0.7938078614311538, 0.7951414616690637, 0.14231734238811639, 0.2934115500561365, 0.24433660440506189, 0.3199308956868134, 0.3582985860501709, 0.25957384123795985, 0.20066005043132332, 0.18139668558991628, 0.13112499976579436, 0.5052169108623253, 0.15040808796664648, 0.21597058784954368, 0.5542251497208163, 0.16088201920261008, 0.5183976174306325, 0.16088201920261008, 0.16088201920261008, 0.7048113602870987, 0.15168815804048694, 0.483154873758588, 0.13258668628724044, 0.23371212498089838, 0.6921968176225565, 0.23073227254085213], \"Term\": [\"0\", \"0\", \"0\", \"0\", \"00286\", \"00286\", \"00286\", \"046\", \"046\", \"046\", \"046\", \"1\", \"1\", \"1\", \"1\", \"2\", \"2\", \"2\", \"2\", \"21d\", \"21d\", \"21d\", \"21d\", \"2709\", \"2pq\", \"2pq\", \"2pq\", \"2pq\", \"3\", \"3\", \"3\", \"3\", \"31t\", \"31t\", \"31t\", \"31t\", \"4640\", \"4640\", \"4640\", \"aa\", \"aa\", \"aa\", \"aa\", \"acyclicity\", \"acyclicity\", \"acyclicity\", \"acyclicity\", \"allais\", \"allais\", \"allais\", \"andrej\", \"andrej\", \"andrej\", \"andrej\", \"antimuon\", \"antimuon\", \"antimuon\", \"antimuon\", \"antp\", \"antp\", \"antp\", \"antp\", \"appliance\", \"appliance\", \"appliance\", \"appliance\", \"ap\\u00e9ry\", \"ap\\u00e9ry\", \"ap\\u00e9ry\", \"ap\\u00e9ry\", \"arity\", \"arity\", \"arity\", \"arity\", \"arnone\", \"arnone\", \"arnone\", \"arnone\", \"astrophys\", \"astrophys\", \"astrophys\", \"astrophys\", \"atmosphere\", \"atmosphere\", \"atmosphere\", \"atmosphere\", \"atom\", \"atom\", \"atom\", \"atom\", \"atp\", \"atp\", \"atp\", \"atp\", \"b\", \"b\", \"b\", \"b\", \"base\", \"base\", \"base\", \"base\", \"berntsen\", \"beukers\", \"beukers\", \"beukers\", \"beukers\", \"bifurcating\", \"bifurcating\", \"bifurcating\", \"bifurcating\", \"bitmap\", \"bitmap\", \"bj\\u00f6rner\", \"bj\\u00f6rner\", \"black\", \"black\", \"black\", \"black\", \"bool\", \"bool\", \"bool\", \"bool\", \"boolean\", \"boolean\", \"boolean\", \"boolean\", \"born\", \"born\", \"born\", \"born\", \"bose\", \"bose\", \"bose\", \"bose\", \"bqp\", \"bqp\", \"bqp\", \"bqp\", \"busch\", \"busch\", \"busch\", \"c\", \"c\", \"c\", \"c\", \"called\", \"called\", \"called\", \"called\", \"calorimetric\", \"calorimetric\", \"calorimetric\", \"calorimetric\", \"calorimetry\", \"calorimetry\", \"calorimetry\", \"calorimetry\", \"carbon\", \"carbon\", \"carbon\", \"carbon\", \"cell\", \"cell\", \"cell\", \"cell\", \"cengage\", \"cengage\", \"cengage\", \"cengage\", \"century\", \"century\", \"century\", \"century\", \"cheeger\", \"cheeger\", \"cheeger\", \"chemical\", \"chemical\", \"chemical\", \"chemical\", \"chemistry\", \"chemistry\", \"chemistry\", \"chemistry\", \"chlorophyll\", \"chlorophyll\", \"chlorophyll\", \"chlorophyll\", \"chlorophyllide\", \"chlorophyllide\", \"chlorophyllide\", \"chlorophyllide\", \"chuang\", \"chuang\", \"chuang\", \"cloudflare\", \"cloudflare\", \"cloudflare\", \"cloudflare\", \"cnh2n\", \"cnh2n\", \"cnh2n\", \"cnh2n\", \"cnot\", \"cnot\", \"cnot\", \"cnot\", \"colinvaux\", \"colinvaux\", \"colinvaux\", \"colinvaux\", \"compound\", \"compound\", \"compound\", \"compound\", \"cot\", \"cot\", \"cot\", \"cot\", \"cryochemistry\", \"cryochemistry\", \"cryochemistry\", \"cryochemistry\", \"cuperman\", \"cuperman\", \"cuperman\", \"cuperman\", \"dahlgrenogram\", \"dahlgrenogram\", \"deferment\", \"deferment\", \"deferment\", \"deferment\", \"dillinger\", \"dillinger\", \"displaystyle\", \"displaystyle\", \"displaystyle\", \"displaystyle\", \"dna\", \"dna\", \"dna\", \"dna\", \"dywity\", \"e\", \"e\", \"e\", \"e\", \"early\", \"early\", \"early\", \"early\", \"eclipse\", \"eclipse\", \"eclipse\", \"eclipse\", \"effect\", \"effect\", \"effect\", \"effect\", \"efus\", \"efus\", \"efus\", \"efus\", \"egypt\", \"egypt\", \"egypt\", \"egypt\", \"einstein\", \"einstein\", \"einstein\", \"einstein\", \"electron\", \"electron\", \"electron\", \"electron\", \"element\", \"element\", \"element\", \"element\", \"ellsberg\", \"ellsberg\", \"ellsberg\", \"emperor\", \"emperor\", \"emperor\", \"emperor\", \"energy\", \"energy\", \"energy\", \"energy\", \"enzyme\", \"enzyme\", \"enzyme\", \"enzyme\", \"equation\", \"equation\", \"equation\", \"equation\", \"euclidean\", \"euclidean\", \"euclidean\", \"euclidean\", \"euler\", \"euler\", \"euler\", \"euler\", \"ew\", \"example\", \"example\", \"example\", \"example\", \"experimentalism\", \"experimentalism\", \"experimentalism\", \"experimentalism\", \"extinction\", \"extinction\", \"extinction\", \"extinction\", \"f\", \"f\", \"f\", \"f\", \"factor\", \"factor\", \"factor\", \"factor\", \"fcic\", \"fcic\", \"fcic\", \"fcic\", \"fermi\", \"fermi\", \"fermi\", \"fermi\", \"feynman\", \"feynman\", \"feynman\", \"feynman\", \"field\", \"field\", \"field\", \"field\", \"first\", \"first\", \"first\", \"first\", \"form\", \"form\", \"form\", \"form\", \"frac\", \"frac\", \"frac\", \"frac\", \"fuming\", \"fuming\", \"fuming\", \"fuming\", \"function\", \"function\", \"function\", \"function\", \"fusion\", \"fusion\", \"fusion\", \"fusion\", \"g60\", \"g75\", \"gas\", \"gas\", \"gas\", \"gas\", \"gene\", \"gene\", \"gene\", \"gene\", \"geneticist\", \"geneticist\", \"geneticist\", \"geneticist\", \"geoethics\", \"geostatistics\", \"geostatistics\", \"geostatistics\", \"geostatistics\", \"german\", \"german\", \"german\", \"german\", \"glyph\", \"glyph\", \"glyph\", \"glyph\", \"gmina\", \"gospel\", \"gospel\", \"gospel\", \"gospel\", \"grapheme\", \"grapheme\", \"grapheme\", \"grapheme\", \"group\", \"group\", \"group\", \"group\", \"grover\", \"grover\", \"grover\", \"grover\", \"h\", \"h\", \"h\", \"h\", \"hargreeves\", \"hawkins\", \"hawkins\", \"hawkins\", \"hawkins\", \"helion\", \"helion\", \"helion\", \"helion\", \"high\", \"high\", \"high\", \"high\", \"hirst\", \"hirst\", \"hirst\", \"hirst\", \"history\", \"history\", \"history\", \"history\", \"homeodomain\", \"homeodomain\", \"homeodomain\", \"homeodomain\", \"hoskinson\", \"hoskinson\", \"hox\", \"hox\", \"hox\", \"hox\", \"hox10\", \"hox10\", \"hox10\", \"hubble\", \"hubble\", \"hubble\", \"hubble\", \"huffingtonpost\", \"human\", \"human\", \"human\", \"human\", \"hydrogeology\", \"hydrogeology\", \"hydrogeology\", \"hydrogeology\", \"hyperedges\", \"hyperedges\", \"hyperedges\", \"hyperedges\", \"hypergraph\", \"hypergraph\", \"hypergraph\", \"hypergraph\", \"ihc\", \"ihc\", \"ihc\", \"industrial\", \"industrial\", \"industrial\", \"industrial\", \"inhabitation\", \"inhabitation\", \"inhabitation\", \"inhabitation\", \"insulin\", \"insulin\", \"insulin\", \"insulin\", \"integer\", \"integer\", \"integer\", \"integer\", \"ion\", \"ion\", \"ion\", \"ion\", \"iyc\", \"iyc\", \"iyc\", \"iyc\", \"jerusalempost\", \"jesus\", \"jesus\", \"jesus\", \"jesus\", \"kaminsky\", \"kaminsky\", \"kaminsky\", \"kaminsky\", \"kinase\", \"kinase\", \"kinase\", \"kinase\", \"kinski\", \"klaus\", \"klaus\", \"klaus\", \"klaus\", \"knoll\", \"knoll\", \"knoll\", \"knoll\", \"known\", \"known\", \"known\", \"known\", \"large\", \"large\", \"large\", \"large\", \"leveque\", \"leveque\", \"leveque\", \"leveque\", \"liberal\", \"liberal\", \"liberal\", \"liberal\", \"light\", \"light\", \"light\", \"light\", \"limh\", \"limh\", \"limh\", \"linnaeus\", \"linnaeus\", \"linnaeus\", \"linnaeus\", \"lyell\", \"lyell\", \"lyell\", \"lyell\", \"mammalogy\", \"mammalogy\", \"mammalogy\", \"mammalogy\", \"manifold\", \"manifold\", \"manifold\", \"manifold\", \"many\", \"many\", \"many\", \"many\", \"mass\", \"mass\", \"mass\", \"mass\", \"material\", \"material\", \"material\", \"material\", \"mathbf\", \"mathbf\", \"mathbf\", \"mathbf\", \"mathematical\", \"mathematical\", \"mathematical\", \"mathematical\", \"mathrm\", \"mathrm\", \"mathrm\", \"mathrm\", \"may\", \"may\", \"may\", \"may\", \"me3b\", \"me3b\", \"me3b\", \"megafaunal\", \"megafaunal\", \"megafaunal\", \"megafaunal\", \"mehrshad\", \"mehrshad\", \"mehrshad\", \"mehrshad\", \"meristematic\", \"meristematic\", \"meristematic\", \"meristematic\", \"mesotron\", \"mesotron\", \"metalloenzymes\", \"methanobacterium\", \"methanobacterium\", \"methanobacterium\", \"methanobacterium\", \"method\", \"method\", \"method\", \"method\", \"metroid\", \"metroid\", \"metroid\", \"metroid\", \"mhd\", \"mhd\", \"mhd\", \"mhd\", \"microscope\", \"microscope\", \"microscope\", \"microscope\", \"microscopic\", \"microscopic\", \"microscopic\", \"microscopic\", \"much\", \"much\", \"much\", \"much\", \"multifurcating\", \"multifurcating\", \"multifurcating\", \"multifurcating\", \"muon\", \"muon\", \"muon\", \"muon\", \"muonic\", \"muonic\", \"muonic\", \"muonic\", \"muscle\", \"muscle\", \"muscle\", \"muscle\", \"myoblasts\", \"myoblasts\", \"myoblasts\", \"myoblasts\", \"n\", \"n\", \"n\", \"n\", \"nabla\", \"nabla\", \"nabla\", \"nabla\", \"napier\", \"napier\", \"napier\", \"napier\", \"network\", \"network\", \"network\", \"network\", \"neutron\", \"neutron\", \"neutron\", \"neutron\", \"new\", \"new\", \"new\", \"new\", \"nm\", \"nm\", \"nm\", \"nm\", \"nuclear\", \"nuclear\", \"nuclear\", \"nuclear\", \"nucleon\", \"nucleon\", \"nucleon\", \"nucleon\", \"nucleus\", \"nucleus\", \"nucleus\", \"nucleus\", \"number\", \"number\", \"number\", \"number\", \"numerator\", \"numerator\", \"numerator\", \"numerator\", \"object\", \"object\", \"object\", \"object\", \"odoacer\", \"odoacer\", \"odoacer\", \"odoacer\", \"often\", \"often\", \"often\", \"often\", \"olsztyn\", \"olsztyn\", \"one\", \"one\", \"one\", \"one\", \"orthologues\", \"orthologues\", \"othello\", \"othello\", \"othello\", \"outgroup\", \"outgroup\", \"outgroup\", \"outgroup\", \"overrightarrow\", \"overrightarrow\", \"overrightarrow\", \"overrightarrow\", \"oxygen\", \"oxygen\", \"oxygen\", \"oxygen\", \"p\", \"p\", \"p\", \"p\", \"partial\", \"partial\", \"partial\", \"partial\", \"particle\", \"particle\", \"particle\", \"particle\", \"phylogram\", \"phylogram\", \"phylogram\", \"phylogram\", \"physic\", \"physic\", \"physic\", \"physic\", \"plant\", \"plant\", \"plant\", \"plant\", \"polynomial\", \"polynomial\", \"polynomial\", \"polynomial\", \"principle\", \"principle\", \"principle\", \"principle\", \"prize\", \"prize\", \"prize\", \"prize\", \"probabilists\", \"process\", \"process\", \"process\", \"process\", \"property\", \"property\", \"property\", \"property\", \"protein\", \"protein\", \"protein\", \"protein\", \"pythagorean\", \"pythagorean\", \"pythagorean\", \"pythagorean\", \"quadrat\", \"quadrat\", \"quadrat\", \"quantum\", \"quantum\", \"quantum\", \"quantum\", \"qubit\", \"qubit\", \"qubit\", \"qubit\", \"r\", \"r\", \"r\", \"r\", \"radiation\", \"radiation\", \"radiation\", \"radiation\", \"rayon\", \"rayon\", \"rayon\", \"rayon\", \"rbrace\", \"rbrace\", \"rbrace\", \"rbrace\", \"reaction\", \"reaction\", \"reaction\", \"reaction\", \"recapture\", \"recapture\", \"recapture\", \"recapture\", \"recessional\", \"recessional\", \"recessional\", \"recessional\", \"replication\", \"replication\", \"replication\", \"replication\", \"rock\", \"rock\", \"rock\", \"rock\", \"roman\", \"roman\", \"roman\", \"roman\", \"rowed\", \"samus\", \"samus\", \"samus\", \"samus\", \"sarcomere\", \"sarcomere\", \"sarcomere\", \"sarcomere\", \"sarcoplasmic\", \"sarcoplasmic\", \"sarcoplasmic\", \"sarcoplasmic\", \"schoolgirl\", \"schoolgirl\", \"schoolgirl\", \"schoolgirl\", \"science\", \"science\", \"science\", \"science\", \"scull\", \"scull\", \"sculler\", \"seipel\", \"seipel\", \"seipel\", \"semifinite\", \"semifinite\", \"semifinite\", \"semifinite\", \"sequence\", \"sequence\", \"sequence\", \"sequence\", \"sequencing\", \"sequencing\", \"sequencing\", \"sequencing\", \"set\", \"set\", \"set\", \"set\", \"simulator\", \"simulator\", \"simulator\", \"simulator\", \"small\", \"small\", \"small\", \"small\", \"snapper\", \"snapper\", \"snapper\", \"snapper\", \"sodium\", \"sodium\", \"sodium\", \"sodium\", \"solar\", \"solar\", \"solar\", \"solar\", \"space\", \"space\", \"space\", \"space\", \"speedup\", \"speedup\", \"speedup\", \"speedup\", \"state\", \"state\", \"state\", \"state\", \"steinmetz\", \"steinmetz\", \"steinmetz\", \"steinmetz\", \"study\", \"study\", \"study\", \"study\", \"surface\", \"surface\", \"surface\", \"surface\", \"switchbacks\", \"switchbacks\", \"switchbacks\", \"system\", \"system\", \"system\", \"system\", \"s\\u0119tal\", \"temperature\", \"temperature\", \"temperature\", \"temperature\", \"term\", \"term\", \"term\", \"term\", \"textsf\", \"textsf\", \"textsf\", \"textsf\", \"theory\", \"theory\", \"theory\", \"theory\", \"time\", \"time\", \"time\", \"time\", \"todhunter\", \"todhunter\", \"todhunter\", \"todhunter\", \"topological\", \"topological\", \"topological\", \"topological\", \"transcription\", \"transcription\", \"transcription\", \"transcription\", \"transect\", \"transect\", \"transect\", \"transects\", \"tree\", \"tree\", \"tree\", \"tree\", \"triacidic\", \"triacidic\", \"triacidic\", \"triacidic\", \"triangle\", \"triangle\", \"triangle\", \"triangle\", \"tropical\", \"tropical\", \"tropical\", \"tropical\", \"two\", \"two\", \"two\", \"two\", \"ubx\", \"ubx\", \"ubx\", \"ubx\", \"university\", \"university\", \"university\", \"university\", \"unrooted\", \"unrooted\", \"unrooted\", \"unrooted\", \"used\", \"used\", \"used\", \"used\", \"v\", \"v\", \"v\", \"v\", \"varrho\", \"varrho\", \"varrho\", \"varrho\", \"voivodeship\", \"voyager\", \"voyager\", \"voyager\", \"voyager\", \"vphantom\", \"vphantom\", \"vphantom\", \"vphantom\", \"w\", \"w\", \"w\", \"w\", \"waltershausen\", \"waltershausen\", \"waltershausen\", \"waltershausen\", \"warmia\", \"warmian\", \"watoc\", \"watoc\", \"weapon\", \"weapon\", \"weapon\", \"weapon\", \"wolchover\", \"wolchover\", \"wolchover\", \"wolchover\", \"work\", \"work\", \"work\", \"work\", \"world\", \"world\", \"world\", \"world\", \"would\", \"would\", \"would\", \"would\", \"wwv\", \"wwvv\", \"x\", \"x\", \"x\", \"x\", \"year\", \"year\", \"year\", \"year\", \"zeta\", \"zeta\", \"zeta\", \"zeta\", \"\\u02c8s\\u025bntal\", \"\\u03b6\", \"\\u03b6\", \"\\u03b6\", \"\\u03b6\", \"\\u03b8w\", \"\\u03bc\", \"\\u03bc\", \"\\u03bc\", \"\\u03bc\", \"\\u03bcci\", \"\\u03bcci\"]}, \"R\": 30, \"lambda.step\": 0.01, \"plot.opts\": {\"xlab\": \"PC1\", \"ylab\": \"PC2\"}, \"topic.order\": [1, 2, 3, 4]};\n",
       "\n",
       "function LDAvis_load_lib(url, callback){\n",
       "  var s = document.createElement('script');\n",
       "  s.src = url;\n",
       "  s.async = true;\n",
       "  s.onreadystatechange = s.onload = callback;\n",
       "  s.onerror = function(){console.warn(\"failed to load library \" + url);};\n",
       "  document.getElementsByTagName(\"head\")[0].appendChild(s);\n",
       "}\n",
       "\n",
       "if(typeof(LDAvis) !== \"undefined\"){\n",
       "   // already loaded: just create the visualization\n",
       "   !function(LDAvis){\n",
       "       new LDAvis(\"#\" + \"ldavis_el635361403582969977763946181799\", ldavis_el635361403582969977763946181799_data);\n",
       "   }(LDAvis);\n",
       "}else if(typeof define === \"function\" && define.amd){\n",
       "   // require.js is available: use it to load d3/LDAvis\n",
       "   require.config({paths: {d3: \"https://d3js.org/d3.v5\"}});\n",
       "   require([\"d3\"], function(d3){\n",
       "      window.d3 = d3;\n",
       "      LDAvis_load_lib(\"https://cdn.jsdelivr.net/gh/bmabey/pyLDAvis@3.4.0/pyLDAvis/js/ldavis.v3.0.0.js\", function(){\n",
       "        new LDAvis(\"#\" + \"ldavis_el635361403582969977763946181799\", ldavis_el635361403582969977763946181799_data);\n",
       "      });\n",
       "    });\n",
       "}else{\n",
       "    // require.js not available: dynamically load d3 & LDAvis\n",
       "    LDAvis_load_lib(\"https://d3js.org/d3.v5.js\", function(){\n",
       "         LDAvis_load_lib(\"https://cdn.jsdelivr.net/gh/bmabey/pyLDAvis@3.4.0/pyLDAvis/js/ldavis.v3.0.0.js\", function(){\n",
       "                 new LDAvis(\"#\" + \"ldavis_el635361403582969977763946181799\", ldavis_el635361403582969977763946181799_data);\n",
       "            })\n",
       "         });\n",
       "}\n",
       "</script>"
      ],
      "text/plain": [
       "<IPython.core.display.HTML object>"
      ]
     },
     "execution_count": 14,
     "metadata": {},
     "output_type": "execute_result"
    }
   ],
   "source": [
    "import pyLDAvis.gensim as gensimvis\n",
    "import pyLDAvis\n",
    "\n",
    "c_vis_data = gensimvis.prepare(c_lda_model, c_bow_corpus, c_dictionary)\n",
    "pyLDAvis.display(c_vis_data)"
   ]
  },
  {
   "cell_type": "code",
   "execution_count": null,
   "metadata": {},
   "outputs": [],
   "source": [
    "s_word2vec_model = models.Word2Vec(s_processed_corpus, vector_size=100, window=5, min_count=1, workers=4)\n"
   ]
  },
  {
   "cell_type": "code",
   "execution_count": null,
   "metadata": {},
   "outputs": [],
   "source": [
    "c_word2vec_model = models.Word2Vec(c_processed_corpus, vector_size=100, window=5, min_count=1, workers=4)\n"
   ]
  },
  {
   "cell_type": "code",
   "execution_count": null,
   "metadata": {},
   "outputs": [],
   "source": [
    "from gensim.models.doc2vec import Doc2Vec, TaggedDocument\n",
    "s_tagged_data = [TaggedDocument(words=doc, tags=[str(i)]) for i, doc in enumerate(s_processed_corpus)]\n",
    "s_doc2vec_model = models.Doc2Vec(s_tagged_data, vector_size=100, window=5, min_count=1, workers=4)"
   ]
  },
  {
   "cell_type": "code",
   "execution_count": null,
   "metadata": {},
   "outputs": [],
   "source": [
    "c_tagged_data = [TaggedDocument(words=doc, tags=[str(i)]) for i, doc in enumerate(c_processed_corpus)]\n",
    "c_doc2vec_model = models.Doc2Vec(c_tagged_data, vector_size=100, window=5, min_count=1, workers=4)"
   ]
  },
  {
   "cell_type": "markdown",
   "metadata": {},
   "source": [
    "**The Blobs**"
   ]
  },
  {
   "cell_type": "code",
   "execution_count": null,
   "metadata": {},
   "outputs": [],
   "source": [
    "# from sklearn.manifold import TSNE\n",
    "# import numpy as np\n",
    "# import matplotlib.pyplot as plt\n",
    "# from mpl_toolkits.mplot3d import Axes3D\n",
    "\n",
    "# word_vectors = s_word2vec_model.wv\n",
    "# words = list(word_vectors.key_to_index.keys())\n",
    "# word_vectors_matrix = np.array([word_vectors[word] for word in words])\n",
    "\n",
    "# tsne = TSNE(n_components=3, random_state=42)\n",
    "# word_vectors_tsne = tsne.fit_transform(word_vectors_matrix)\n",
    "\n",
    "# fig = plt.figure(figsize=(10, 8))\n",
    "# ax = fig.add_subplot(111, projection='3d')\n",
    "# ax.scatter(word_vectors_tsne[:, 0], word_vectors_tsne[:, 1], word_vectors_tsne[:, 2], marker='.')\n",
    "# for i, word in enumerate(words):\n",
    "#     ax.text(word_vectors_tsne[i, 0], word_vectors_tsne[i, 1], word_vectors_tsne[i, 2], word, fontsize=8)\n",
    "# plt.show()\n"
   ]
  },
  {
   "cell_type": "code",
   "execution_count": null,
   "metadata": {},
   "outputs": [],
   "source": [
    "# word_vectors = s_word2vec_model.wv\n",
    "# words = list(word_vectors.key_to_index.keys())\n",
    "# word_vectors_matrix = np.array([word_vectors[word] for word in words])\n",
    "# tsne = TSNE(n_components=2, random_state=42)\n",
    "# word_vectors_tsne = tsne.fit_transform(word_vectors_matrix)\n",
    "\n",
    "# plt.figure(figsize=(10, 8))\n",
    "# plt.scatter(word_vectors_tsne[:, 0], word_vectors_tsne[:, 1], marker='.')\n",
    "# for i, word in enumerate(words):\n",
    "#     plt.annotate(word, xy=(word_vectors_tsne[i, 0], word_vectors_tsne[i, 1]), fontsize=8)\n",
    "# plt.show()\n"
   ]
  },
  {
   "cell_type": "markdown",
   "metadata": {},
   "source": [
    "**Dumb/fun idea**"
   ]
  },
  {
   "cell_type": "code",
   "execution_count": null,
   "metadata": {},
   "outputs": [],
   "source": [
    "# this is dumb but i couldn't think of better tbh\n",
    "import numpy as np\n",
    "s_word2vec_corpus = []\n",
    "for doc in s_processed_corpus:\n",
    "    doc_vector = np.zeros((100,))\n",
    "    num_words = 0\n",
    "    for word in doc:\n",
    "        if word in s_word2vec_model.wv:\n",
    "            doc_vector += s_word2vec_model.wv[word]\n",
    "            num_words += 1\n",
    "    if num_words > 0:\n",
    "        doc_vector /= num_words\n",
    "    s_word2vec_corpus.append(doc_vector)"
   ]
  },
  {
   "cell_type": "code",
   "execution_count": null,
   "metadata": {},
   "outputs": [],
   "source": [
    "# this is dumb but i couldn't think of better tbh x2\n",
    "\n",
    "c_word2vec_corpus = []\n",
    "for doc in c_processed_corpus:\n",
    "    doc_vector = np.zeros((100,))\n",
    "    num_words = 0\n",
    "    for word in doc:\n",
    "        if word in c_word2vec_model.wv:\n",
    "            doc_vector += c_word2vec_model.wv[word]\n",
    "            num_words += 1\n",
    "    if num_words > 0:\n",
    "        doc_vector /= num_words\n",
    "    c_word2vec_corpus.append(doc_vector)"
   ]
  },
  {
   "cell_type": "code",
   "execution_count": null,
   "metadata": {},
   "outputs": [
    {
     "data": {
      "text/html": [
       "\n",
       "        <iframe\n",
       "            width=\"100%\"\n",
       "            height=\"650\"\n",
       "            src=\"http://127.0.0.1:8050/\"\n",
       "            frameborder=\"0\"\n",
       "            allowfullscreen\n",
       "            \n",
       "        ></iframe>\n",
       "        "
      ],
      "text/plain": [
       "<IPython.lib.display.IFrame at 0x7fa73484fbe0>"
      ]
     },
     "metadata": {},
     "output_type": "display_data"
    }
   ],
   "source": [
    "## enter word, recieve the top 10 similarities\n",
    "\n",
    "import dash\n",
    "from dash import html\n",
    "from dash import dcc\n",
    "from dash.dependencies import Input, Output\n",
    "from gensim.models import Word2Vec\n",
    "\n",
    "def get_similar_words(word, topn=10):\n",
    "    similar_words = c_word2vec_model.wv.most_similar(positive=[word], topn=topn)\n",
    "    return [word[0] for word in similar_words]\n",
    "\n",
    "app = dash.Dash(__name__)\n",
    "\n",
    "app.layout = html.Div([\n",
    "    dcc.Input(id='input-word', type='text', value='enter word'),\n",
    "    html.Button('Submit', id='submit-val', n_clicks=0),\n",
    "    html.Div(id='output-container-button', children='Enter a word and press submit')\n",
    "])\n",
    "\n",
    "@app.callback(\n",
    "    Output('output-container-button', 'children'),\n",
    "    [Input('submit-val', 'n_clicks')],\n",
    "    [Input('input-word', 'value')]\n",
    ")\n",
    "def update_output(n_clicks, value):\n",
    "    if n_clicks > 0:\n",
    "        similar_words = get_similar_words(value, topn=10)\n",
    "        return html.Div([\n",
    "            html.P(f\"Similar words to '{value}':\"),\n",
    "            html.Ul([html.Li(word) for word in similar_words])\n",
    "        ])\n",
    "\n",
    "if __name__ == '__main__':\n",
    "    app.run_server(debug=True)\n"
   ]
  },
  {
   "cell_type": "code",
   "execution_count": null,
   "metadata": {},
   "outputs": [
    {
     "data": {
      "text/html": [
       "\n",
       "        <iframe\n",
       "            width=\"100%\"\n",
       "            height=\"650\"\n",
       "            src=\"http://127.0.0.1:8050/\"\n",
       "            frameborder=\"0\"\n",
       "            allowfullscreen\n",
       "            \n",
       "        ></iframe>\n",
       "        "
      ],
      "text/plain": [
       "<IPython.lib.display.IFrame at 0x7fa720d30df0>"
      ]
     },
     "metadata": {},
     "output_type": "display_data"
    }
   ],
   "source": [
    "# graph visualization of top 10 words\n",
    "\n",
    "# not working yet\n",
    "\n",
    "import dash\n",
    "from dash import html\n",
    "from dash import dcc\n",
    "from dash.dependencies import Input, Output\n",
    "import plotly.graph_objs as go\n",
    "from gensim.models import Word2Vec\n",
    "import networkx as nx\n",
    "\n",
    "\n",
    "# Get top 50 similar words for a given word\n",
    "def get_similar_words(word, topn=50):\n",
    "    similar_words = c_word2vec_model.wv.most_similar(positive=[word], topn=topn)\n",
    "    return similar_words\n",
    "\n",
    "app = dash.Dash(__name__)\n",
    "\n",
    "app.layout = html.Div([\n",
    "    dcc.Input(id='input-word', type='text', value='enter word'),\n",
    "    html.Button('Submit', id='submit-val', n_clicks=0),\n",
    "    dcc.Graph(id='word-similarity-graph'),\n",
    "])\n",
    "\n",
    "@app.callback(\n",
    "    Output('word-similarity-graph', 'figure'),\n",
    "    [Input('submit-val', 'n_clicks')],\n",
    "    [Input('input-word', 'value')]\n",
    ")\n",
    "def update_graph(n_clicks, value):\n",
    "    if n_clicks > 0:\n",
    "        similar_words = get_similar_words(value, topn=10)\n",
    "        \n",
    "        # Create a network graph\n",
    "        G = nx.Graph()\n",
    "        G.add_node(value)\n",
    "        for word, sim in similar_words:\n",
    "            G.add_node(word)\n",
    "            G.add_edge(value, word, weight=sim)\n",
    "        \n",
    "        # Position nodes using spring layout\n",
    "        pos = nx.spring_layout(G)\n",
    "        \n",
    "        # Create edge trace\n",
    "        edge_trace = go.Scatter(\n",
    "            x=[],\n",
    "            y=[],\n",
    "            line=dict(width=0.5, color='#888'),\n",
    "            hoverinfo='none',\n",
    "            mode='lines')\n",
    "        \n",
    "        # Add edges to edge trace\n",
    "        for edge in G.edges():\n",
    "            x0, y0 = pos[edge[0]]\n",
    "            x1, y1 = pos[edge[1]]\n",
    "            edge_trace['x'] += tuple([x0, x1, None])\n",
    "            edge_trace['y'] += tuple([y0, y1, None])\n",
    "        \n",
    "        # Create node trace\n",
    "        node_trace = go.Scatter(\n",
    "            x=[],\n",
    "            y=[],\n",
    "            text=[],\n",
    "            mode='markers',\n",
    "            hoverinfo='text',\n",
    "            marker=dict(\n",
    "                showscale=True,\n",
    "                colorscale='YlGnBu',\n",
    "                reversescale=True,\n",
    "                color=[],\n",
    "                size=10,\n",
    "                colorbar=dict(\n",
    "                    thickness=15,\n",
    "                    title='Node Connections',\n",
    "                    xanchor='left',\n",
    "                    titleside='right'\n",
    "                ),\n",
    "                line=dict(width=2)))\n",
    "        \n",
    "        # Add nodes to node trace\n",
    "        for node in G.nodes():\n",
    "            x, y = pos[node]\n",
    "            node_trace['x'] += tuple([x])\n",
    "            node_trace['y'] += tuple([y])\n",
    "            node_trace['text'] += tuple([node])\n",
    "        \n",
    "        # Color nodes by their degree\n",
    "        node_adjacencies = []\n",
    "        node_text = []\n",
    "        for node, adjacencies in enumerate(G.adjacency()):\n",
    "            node_adjacencies.append(len(adjacencies[1]))\n",
    "            node_text.append('# of connections: '+str(len(adjacencies[1])))\n",
    "        node_trace['marker']['color'] = node_adjacencies\n",
    "        node_trace['text'] = node_text\n",
    "        \n",
    "        # Create figure\n",
    "        fig = go.Figure(data=[edge_trace, node_trace],\n",
    "                        layout=go.Layout(\n",
    "                            title='Word Similarity Graph',\n",
    "                            titlefont=dict(size=16),\n",
    "                            showlegend=False,\n",
    "                            hovermode='closest',\n",
    "                            margin=dict(b=20, l=5, r=5, t=40),\n",
    "                            annotations=[dict(\n",
    "                                text=\"\",\n",
    "                                showarrow=False,\n",
    "                                xref=\"paper\", yref=\"paper\",\n",
    "                                x=0.005, y=-0.002)],\n",
    "                            xaxis=dict(showgrid=False, zeroline=False, showticklabels=False),\n",
    "                            yaxis=dict(showgrid=False, zeroline=False, showticklabels=False)))\n",
    "        \n",
    "        return fig\n",
    "\n",
    "if __name__ == '__main__':\n",
    "    app.run_server(debug=True)\n"
   ]
  },
  {
   "cell_type": "markdown",
   "metadata": {},
   "source": [
    "**Nearest words graphing**"
   ]
  },
  {
   "cell_type": "code",
   "execution_count": null,
   "metadata": {},
   "outputs": [],
   "source": [
    "# # CLEAN working tsne simmilarity plot\n",
    "# import numpy as np\n",
    "# import matplotlib.pyplot as plt\n",
    "# import pandas as pd\n",
    "# import seaborn as sns\n",
    "# from sklearn.decomposition import PCA\n",
    "# from sklearn.manifold import TSNE\n",
    "\n",
    "# def tsnescatterplot(model, word, list_names):\n",
    "#     arrays = np.empty((0, model.vector_size), dtype='f')\n",
    "#     word_labels = [word]\n",
    "#     color_list  = ['red']\n",
    "\n",
    "#     # adds the vector of the query word\n",
    "#     arrays = np.append(arrays, model.wv.__getitem__([word]), axis=0)\n",
    "    \n",
    "#     # gets list of most similar words\n",
    "#     close_words = model.wv.most_similar([word])\n",
    "    \n",
    "#     # adds the vector for each of the closest words to the array\n",
    "#     for wrd_score in close_words:\n",
    "#         wrd_vector = model.wv.__getitem__([wrd_score[0]])\n",
    "#         word_labels.append(wrd_score[0])\n",
    "#         color_list.append('blue')\n",
    "#         arrays = np.append(arrays, wrd_vector, axis=0)\n",
    "    \n",
    "#     # adds the vector for each of the words from list_names to the array\n",
    "#     for wrd in list_names:\n",
    "#         wrd_vector = model.wv.__getitem__([wrd])\n",
    "#         word_labels.append(wrd)\n",
    "#         color_list.append('green')\n",
    "#         arrays = np.append(arrays, wrd_vector, axis=0)\n",
    "        \n",
    "#     # Reduces the dimensionality using PCA\n",
    "#     pca = PCA(n_components=min(model.vector_size, arrays.shape[0]), svd_solver='full')\n",
    "#     arrays_pca = pca.fit_transform(arrays)\n",
    "    \n",
    "#     # Finds t-SNE coordinates for 2 dimensions\n",
    "#     tsne = TSNE(n_components=2, random_state=0, perplexity=min(15, arrays.shape[0]-1))\n",
    "#     Y = tsne.fit_transform(arrays_pca)\n",
    "    \n",
    "#     # Sets everything up to plot\n",
    "#     df = pd.DataFrame({'x': [x for x in Y[:, 0]],\n",
    "#                        'y': [y for y in Y[:, 1]],\n",
    "#                        'words': word_labels,\n",
    "#                        'color': color_list})\n",
    "    \n",
    "#     fig, _ = plt.subplots()\n",
    "#     fig.set_size_inches(9, 9)\n",
    "    \n",
    "#     # Basic plot\n",
    "#     p1 = sns.regplot(data=df,\n",
    "#                      x=\"x\",\n",
    "#                      y=\"y\",\n",
    "#                      fit_reg=False,\n",
    "#                      marker=\"o\",\n",
    "#                      scatter_kws={'s': 40,\n",
    "#                                   'facecolors': df['color']\n",
    "#                                  }\n",
    "#                     )\n",
    "    \n",
    "#     # Adds annotations one by one with a loop\n",
    "#     for line in range(0, df.shape[0]):\n",
    "#          p1.text(df[\"x\"][line],\n",
    "#                  df['y'][line],\n",
    "#                  '  ' + df[\"words\"][line].title(),\n",
    "#                  horizontalalignment='left',\n",
    "#                  verticalalignment='bottom', size='medium',\n",
    "#                  color=df['color'][line],\n",
    "#                  weight='normal'\n",
    "#                 ).set_size(15)\n",
    "\n",
    "    \n",
    "#     plt.xlim(Y[:, 0].min()-50, Y[:, 0].max()+50)\n",
    "#     plt.ylim(Y[:, 1].min()-50, Y[:, 1].max()+50)\n",
    "            \n",
    "#     plt.title('t-SNE visualization for {}'.format(word.title()))\n",
    "\n",
    "# # you can add random words to graph, or set other_words_to_plot to [] so nothing else than simmillar words show up\n",
    "# # num_of_random_words = 5\n",
    "# # randoms = np.random.choice(list(model.wv.key_to_index.keys()), size=num_of_random_words, replace=False)\n",
    "# # other_words_to_plot = ['jesus', 'pig', 'solution']\n",
    "# other_words_to_plot = []\n",
    "# tsnescatterplot(c_word2vec_model, 'lemma', other_words_to_plot)\n",
    "# tsnescatterplot(c_word2vec_model, 'hydrogen', other_words_to_plot)\n"
   ]
  },
  {
   "cell_type": "code",
   "execution_count": null,
   "metadata": {},
   "outputs": [],
   "source": [
    "from gensim.matutils import corpus2dense, corpus2csc\n",
    "from scipy.sparse import csr_matrix\n",
    "from sklearn.decomposition import TruncatedSVD\n",
    "\n",
    "s_corpus_tfidf_sparse = corpus2csc(s_corpus_tfidf).T\n",
    "s_corpus_bow_sparse = corpus2csc(s_bow_corpus).T\n",
    "s_corpus_word2vec_sparse = csr_matrix(s_word2vec_corpus)\n",
    "s_corpus_doc2vec = [s_doc2vec_model.dv[tag] for tag in s_doc2vec_model.dv.index_to_key]\n",
    "\n",
    "svd = TruncatedSVD(n_components=10, random_state=42)\n",
    "s_corpus_tfidf_svd = svd.fit_transform(s_corpus_tfidf_sparse)\n",
    "s_corpus_bow_svd = svd.fit_transform(s_corpus_bow_sparse)\n",
    "s_corpus_word2vec_svd = svd.fit_transform(s_word2vec_corpus)\n",
    "s_corpus_doc2vec_svd = svd.fit_transform(s_corpus_doc2vec)\n",
    "\n",
    "Y = random_dataset['category']"
   ]
  },
  {
   "cell_type": "code",
   "execution_count": null,
   "metadata": {},
   "outputs": [],
   "source": [
    "from gensim.matutils import corpus2dense, corpus2csc\n",
    "from scipy.sparse import csr_matrix\n",
    "from sklearn.decomposition import TruncatedSVD\n",
    "\n",
    "c_corpus_tfidf_sparse = corpus2csc(c_corpus_tfidf).T\n",
    "c_corpus_bow_sparse = corpus2csc(c_bow_corpus).T\n",
    "c_corpus_word2vec_sparse = csr_matrix(c_word2vec_corpus)\n",
    "c_corpus_doc2vec = [c_doc2vec_model.dv[tag] for tag in c_doc2vec_model.dv.index_to_key]\n",
    "\n",
    "svd = TruncatedSVD(n_components=10, random_state=42)\n",
    "c_corpus_tfidf_svd = svd.fit_transform(c_corpus_tfidf_sparse)\n",
    "c_corpus_bow_svd = svd.fit_transform(c_corpus_bow_sparse)\n",
    "c_corpus_word2vec_svd = svd.fit_transform(c_word2vec_corpus)\n",
    "c_corpus_doc2vec_svd = svd.fit_transform(c_corpus_doc2vec)\n",
    "\n",
    "Y = random_dataset['category']\n"
   ]
  },
  {
   "cell_type": "markdown",
   "metadata": {},
   "source": [
    "***MACHINE LEARNING SECTION***"
   ]
  },
  {
   "cell_type": "markdown",
   "metadata": {},
   "source": [
    "*word2vec*"
   ]
  },
  {
   "cell_type": "code",
   "execution_count": null,
   "metadata": {},
   "outputs": [
    {
     "name": "stdout",
     "output_type": "stream",
     "text": [
      "Best hyperparameters: {'C': 10, 'degree': 2, 'kernel': 'linear'}\n",
      "Accuracy: 0.7169179229480737\n"
     ]
    }
   ],
   "source": [
    "# Using word2vec normal summary\n",
    "\n",
    "from sklearn.model_selection import train_test_split, GridSearchCV\n",
    "from sklearn.svm import SVC\n",
    "from sklearn.metrics import accuracy_score, classification_report\n",
    "\n",
    "X_train, X_test, y_train, y_test = train_test_split(s_corpus_word2vec_sparse, Y, test_size=0.3, random_state=42)\n",
    "\n",
    "\n",
    "param_grid = {'C': [0.1, 1, 10], 'kernel': ['linear', 'poly', 'rbf'], 'degree': [1, 2, 3]}\n",
    "\n",
    "svm = SVC()\n",
    "\n",
    "grid_search = GridSearchCV(svm, param_grid, cv=5, scoring='accuracy')\n",
    "grid_search.fit(X_train, y_train)\n",
    "\n",
    "best_params = grid_search.best_params_\n",
    "print(\"Best hyperparameters:\", best_params)\n",
    "\n",
    "s_best_svm = SVC(**best_params)\n",
    "s_best_svm.fit(X_train, y_train)\n",
    "\n",
    "y_pred = s_best_svm.predict(X_test)\n",
    "\n",
    "accuracy = accuracy_score(y_test, y_pred)\n",
    "print(\"Accuracy:\", accuracy)\n",
    "\n",
    "s_class_report_word2vec_normal = classification_report(y_test, y_pred, output_dict=True)\n"
   ]
  },
  {
   "cell_type": "code",
   "execution_count": null,
   "metadata": {},
   "outputs": [
    {
     "name": "stdout",
     "output_type": "stream",
     "text": [
      "Best hyperparameters: {'C': 10, 'degree': 2, 'kernel': 'linear'}\n",
      "Accuracy: 0.7085427135678392\n"
     ]
    }
   ],
   "source": [
    "# using word2vec extracted summary\n",
    "\n",
    "X_train, X_test, y_train, y_test = train_test_split(s_corpus_word2vec_svd, Y, test_size=0.3, random_state=42)\n",
    "svm = SVC()\n",
    "\n",
    "grid_search = GridSearchCV(svm, param_grid, cv=5, scoring='accuracy')\n",
    "grid_search.fit(X_train, y_train)\n",
    "\n",
    "best_params = grid_search.best_params_\n",
    "print(\"Best hyperparameters:\", best_params)\n",
    "\n",
    "s_best_svm = SVC(**best_params)\n",
    "s_best_svm.fit(X_train, y_train)\n",
    "\n",
    "y_pred = s_best_svm.predict(X_test)\n",
    "\n",
    "accuracy = accuracy_score(y_test, y_pred)\n",
    "print(\"Accuracy:\", accuracy)\n",
    "\n",
    "\n",
    "s_class_report_word2vec_extracted = classification_report(y_test, y_pred, output_dict=True)\n"
   ]
  },
  {
   "cell_type": "code",
   "execution_count": null,
   "metadata": {},
   "outputs": [
    {
     "name": "stdout",
     "output_type": "stream",
     "text": [
      "Best hyperparameters: {'C': 10, 'degree': 2, 'kernel': 'poly'}\n",
      "Accuracy: 0.7621440536013401\n"
     ]
    }
   ],
   "source": [
    "# Using word2vec normal content\n",
    "\n",
    "from sklearn.model_selection import train_test_split, GridSearchCV\n",
    "from sklearn.svm import SVC\n",
    "from sklearn.metrics import accuracy_score\n",
    "\n",
    "X_train, X_test, y_train, y_test = train_test_split(c_corpus_word2vec_sparse, Y, test_size=0.3, random_state=42)\n",
    "svm = SVC()\n",
    "\n",
    "grid_search = GridSearchCV(svm, param_grid, cv=5, scoring='accuracy')\n",
    "grid_search.fit(X_train, y_train)\n",
    "\n",
    "best_params = grid_search.best_params_\n",
    "print(\"Best hyperparameters:\", best_params)\n",
    "\n",
    "c_best_svm = SVC(**best_params)\n",
    "c_best_svm.fit(X_train, y_train)\n",
    "\n",
    "y_pred = c_best_svm.predict(X_test)\n",
    "\n",
    "accuracy = accuracy_score(y_test, y_pred)\n",
    "print(\"Accuracy:\", accuracy)\n",
    "\n",
    "\n",
    "c_class_report_word2vec_normal = classification_report(y_test, y_pred, output_dict=True)"
   ]
  },
  {
   "cell_type": "code",
   "execution_count": null,
   "metadata": {},
   "outputs": [
    {
     "name": "stdout",
     "output_type": "stream",
     "text": [
      "Best hyperparameters: {'C': 10, 'degree': 2, 'kernel': 'poly'}\n",
      "Accuracy: 0.7504187604690117\n"
     ]
    }
   ],
   "source": [
    "# using word2vec extracted content \n",
    "\n",
    "X_train, X_test, y_train, y_test = train_test_split(c_corpus_word2vec_svd, Y, test_size=0.3, random_state=42)\n",
    "svm = SVC()\n",
    "\n",
    "grid_search = GridSearchCV(svm, param_grid, cv=5, scoring='accuracy')\n",
    "grid_search.fit(X_train, y_train)\n",
    "\n",
    "best_params = grid_search.best_params_\n",
    "print(\"Best hyperparameters:\", best_params)\n",
    "\n",
    "c_best_svm = SVC(**best_params)\n",
    "c_best_svm.fit(X_train, y_train)\n",
    "\n",
    "y_pred = c_best_svm.predict(X_test)\n",
    "\n",
    "accuracy = accuracy_score(y_test, y_pred)\n",
    "print(\"Accuracy:\", accuracy)\n",
    "\n",
    "c_class_report_word2vec_extracted = classification_report(y_test, y_pred, output_dict=True)\n"
   ]
  },
  {
   "cell_type": "markdown",
   "metadata": {},
   "source": [
    "*LDA*"
   ]
  },
  {
   "cell_type": "code",
   "execution_count": null,
   "metadata": {},
   "outputs": [
    {
     "name": "stdout",
     "output_type": "stream",
     "text": [
      "Best hyperparameters: {'C': 1, 'degree': 2, 'kernel': 'poly'}\n",
      "Accuracy: 0.34840871021775544\n"
     ]
    }
   ],
   "source": [
    "# using LDA summary\n",
    "\n",
    "X_train, X_test, y_train, y_test = train_test_split(s_document_vectors, Y, test_size=0.3, random_state=42)\n",
    "svm = SVC()\n",
    "\n",
    "grid_search = GridSearchCV(svm, param_grid, cv=5, scoring='accuracy')\n",
    "grid_search.fit(X_train, y_train)\n",
    "\n",
    "best_params = grid_search.best_params_\n",
    "print(\"Best hyperparameters:\", best_params)\n",
    "\n",
    "s_best_svm = SVC(**best_params)\n",
    "s_best_svm.fit(X_train, y_train)\n",
    "\n",
    "y_pred = s_best_svm.predict(X_test)\n",
    "\n",
    "accuracy = accuracy_score(y_test, y_pred)\n",
    "print(\"Accuracy:\", accuracy)\n",
    "\n",
    "\n",
    "s_class_report_LDA = classification_report(y_test, y_pred, output_dict=True)\n"
   ]
  },
  {
   "cell_type": "code",
   "execution_count": null,
   "metadata": {},
   "outputs": [
    {
     "name": "stdout",
     "output_type": "stream",
     "text": [
      "Best hyperparameters: {'C': 0.1, 'degree': 3, 'kernel': 'poly'}\n",
      "Accuracy: 0.4824120603015075\n"
     ]
    }
   ],
   "source": [
    "# using LDA content\n",
    "\n",
    "X_train, X_test, y_train, y_test = train_test_split(c_document_vectors, Y, test_size=0.3, random_state=42)\n",
    "svm = SVC()\n",
    "\n",
    "grid_search = GridSearchCV(svm, param_grid, cv=5, scoring='accuracy')\n",
    "grid_search.fit(X_train, y_train)\n",
    "\n",
    "best_params = grid_search.best_params_\n",
    "print(\"Best hyperparameters:\", best_params)\n",
    "\n",
    "c_best_svm = SVC(**best_params)\n",
    "c_best_svm.fit(X_train, y_train)\n",
    "\n",
    "y_pred = c_best_svm.predict(X_test)\n",
    "\n",
    "accuracy = accuracy_score(y_test, y_pred)\n",
    "print(\"Accuracy:\", accuracy)\n",
    "\n",
    "\n",
    "c_class_report_LDA = classification_report(y_test, y_pred, output_dict=True)\n"
   ]
  },
  {
   "cell_type": "markdown",
   "metadata": {},
   "source": [
    "*doc2vec*"
   ]
  },
  {
   "cell_type": "code",
   "execution_count": null,
   "metadata": {},
   "outputs": [
    {
     "name": "stdout",
     "output_type": "stream",
     "text": [
      "Best hyperparameters: {'C': 10, 'degree': 2, 'kernel': 'linear'}\n",
      "Accuracy: 0.6934673366834171\n"
     ]
    }
   ],
   "source": [
    "# using doc2vec normal summary\n",
    "\n",
    "X_train, X_test, y_train, y_test = train_test_split(s_corpus_doc2vec, Y, test_size=0.3, random_state=42)\n",
    "svm = SVC()\n",
    "\n",
    "grid_search = GridSearchCV(svm, param_grid, cv=5, scoring='accuracy')\n",
    "grid_search.fit(X_train, y_train)\n",
    "\n",
    "best_params = grid_search.best_params_\n",
    "print(\"Best hyperparameters:\", best_params)\n",
    "\n",
    "s_best_svm = SVC(**best_params)\n",
    "s_best_svm.fit(X_train, y_train)\n",
    "\n",
    "y_pred = s_best_svm.predict(X_test)\n",
    "\n",
    "accuracy = accuracy_score(y_test, y_pred)\n",
    "print(\"Accuracy:\", accuracy)\n",
    "\n",
    "\n",
    "s_class_report_doc2vec_normal = classification_report(y_test, y_pred, output_dict=True)"
   ]
  },
  {
   "cell_type": "code",
   "execution_count": null,
   "metadata": {},
   "outputs": [
    {
     "name": "stdout",
     "output_type": "stream",
     "text": [
      "Best hyperparameters: {'C': 10, 'degree': 2, 'kernel': 'linear'}\n",
      "Accuracy: 0.6850921273031826\n"
     ]
    }
   ],
   "source": [
    "# using doc2vec extracted summary\n",
    "\n",
    "X_train, X_test, y_train, y_test = train_test_split(s_corpus_doc2vec_svd, Y, test_size=0.3, random_state=42)\n",
    "svm = SVC()\n",
    "\n",
    "grid_search = GridSearchCV(svm, param_grid, cv=5, scoring='accuracy')\n",
    "grid_search.fit(X_train, y_train)\n",
    "\n",
    "best_params = grid_search.best_params_\n",
    "print(\"Best hyperparameters:\", best_params)\n",
    "\n",
    "s_best_svm = SVC(**best_params)\n",
    "s_best_svm.fit(X_train, y_train)\n",
    "\n",
    "y_pred = s_best_svm.predict(X_test)\n",
    "\n",
    "accuracy = accuracy_score(y_test, y_pred)\n",
    "print(\"Accuracy:\", accuracy)\n",
    "\n",
    "\n",
    "s_class_report_doc2vec_extracted = classification_report(y_test, y_pred, output_dict=True)"
   ]
  },
  {
   "cell_type": "code",
   "execution_count": null,
   "metadata": {},
   "outputs": [
    {
     "name": "stdout",
     "output_type": "stream",
     "text": [
      "Best hyperparameters: {'C': 1, 'degree': 2, 'kernel': 'poly'}\n",
      "Accuracy: 0.6917922948073701\n"
     ]
    }
   ],
   "source": [
    "# using doc2vec normal content\n",
    "\n",
    "X_train, X_test, y_train, y_test = train_test_split(c_corpus_doc2vec, Y, test_size=0.3, random_state=42)\n",
    "svm = SVC()\n",
    "\n",
    "grid_search = GridSearchCV(svm, param_grid, cv=5, scoring='accuracy')\n",
    "grid_search.fit(X_train, y_train)\n",
    "\n",
    "best_params = grid_search.best_params_\n",
    "print(\"Best hyperparameters:\", best_params)\n",
    "\n",
    "c_best_svm = SVC(**best_params)\n",
    "c_best_svm.fit(X_train, y_train)\n",
    "\n",
    "y_pred = c_best_svm.predict(X_test)\n",
    "\n",
    "accuracy = accuracy_score(y_test, y_pred)\n",
    "print(\"Accuracy:\", accuracy)\n",
    "\n",
    "\n",
    "c_class_report_doc2vec_normal = classification_report(y_test, y_pred, output_dict=True)"
   ]
  },
  {
   "cell_type": "code",
   "execution_count": null,
   "metadata": {},
   "outputs": [
    {
     "name": "stdout",
     "output_type": "stream",
     "text": [
      "Best hyperparameters: {'C': 0.1, 'degree': 2, 'kernel': 'linear'}\n",
      "Accuracy: 0.6666666666666666\n"
     ]
    }
   ],
   "source": [
    "# using doc2vec extracted content\n",
    "\n",
    "X_train, X_test, y_train, y_test = train_test_split(c_corpus_doc2vec_svd, Y, test_size=0.3, random_state=42)\n",
    "svm = SVC()\n",
    "\n",
    "grid_search = GridSearchCV(svm, param_grid, cv=5, scoring='accuracy')\n",
    "grid_search.fit(X_train, y_train)\n",
    "\n",
    "best_params = grid_search.best_params_\n",
    "print(\"Best hyperparameters:\", best_params)\n",
    "\n",
    "c_best_svm = SVC(**best_params)\n",
    "c_best_svm.fit(X_train, y_train)\n",
    "\n",
    "y_pred = c_best_svm.predict(X_test)\n",
    "\n",
    "accuracy = accuracy_score(y_test, y_pred)\n",
    "print(\"Accuracy:\", accuracy)\n",
    "\n",
    "\n",
    "c_class_report_doc2vec_extracted = classification_report(y_test, y_pred, output_dict=True)"
   ]
  },
  {
   "cell_type": "markdown",
   "metadata": {},
   "source": [
    "*TFIDF*"
   ]
  },
  {
   "cell_type": "code",
   "execution_count": null,
   "metadata": {},
   "outputs": [
    {
     "name": "stdout",
     "output_type": "stream",
     "text": [
      "Best hyperparameters: {'C': 1, 'kernel': 'rbf'}\n",
      "Accuracy: 0.7470686767169179\n"
     ]
    }
   ],
   "source": [
    "# using summary, # TF_IDF\n",
    "\n",
    "from sklearn.model_selection import train_test_split, GridSearchCV\n",
    "from sklearn.svm import SVC\n",
    "from scipy.sparse import csr_matrix\n",
    "from sklearn.metrics import accuracy_score, classification_report, confusion_matrix\n",
    "\n",
    "\n",
    "# Added a label encoder, because the r2 didn't seem to work when training\n",
    "from sklearn.preprocessing import LabelEncoder\n",
    "lb = LabelEncoder()\n",
    "y = lb.fit_transform(Y)\n",
    "\n",
    "X_train, X_test, y_train, y_test = train_test_split(csr_matrix(s_corpus_tfidf_sparse), y, test_size=0.3, random_state=42)\n",
    "# print(len(y_test))\n",
    "# print(len(y_train))\n",
    "svm = SVC()\n",
    "\n",
    "grid_search = GridSearchCV(svm, param_grid, cv=5, scoring='r2')\n",
    "grid_search.fit(X_train, y_train)\n",
    "\n",
    "best_params = grid_search.best_params_\n",
    "print(\"Best hyperparameters:\", best_params)\n",
    "\n",
    "s_best_svm = SVC(**best_params)\n",
    "\n",
    "s_best_svm.fit(X_train, y_train)\n",
    "\n",
    "y_pred = s_best_svm.predict(X_test)\n",
    "\n",
    "accuracy = accuracy_score(y_test, y_pred)\n",
    "print(\"Accuracy:\", accuracy)\n",
    "\n",
    "\n",
    "s_class_report_tfidf_normal = classification_report(y_test, y_pred, output_dict=True)\n"
   ]
  },
  {
   "cell_type": "code",
   "execution_count": null,
   "metadata": {},
   "outputs": [
    {
     "name": "stdout",
     "output_type": "stream",
     "text": [
      "Best hyperparameters: {'C': 1, 'kernel': 'rbf'}\n",
      "Accuracy: 0.7604690117252931\n"
     ]
    }
   ],
   "source": [
    "# using summary, extracted TFIDF\n",
    "\n",
    "lb = LabelEncoder()\n",
    "y = lb.fit_transform(Y)\n",
    "\n",
    "X_train, X_test, y_train, y_test = train_test_split(csr_matrix(s_corpus_tfidf_svd), y, test_size=0.3, random_state=42)\n",
    "# print(len(y_test))\n",
    "# print(len(y_train))\n",
    "svm = SVC()\n",
    "\n",
    "grid_search = GridSearchCV(svm, param_grid, cv=5, scoring='r2')\n",
    "grid_search.fit(X_train, y_train)\n",
    "\n",
    "best_params = grid_search.best_params_\n",
    "print(\"Best hyperparameters:\", best_params)\n",
    "\n",
    "s_best_svm = SVC(**best_params)\n",
    "\n",
    "s_best_svm.fit(X_train, y_train)\n",
    "\n",
    "y_pred = s_best_svm.predict(X_test)\n",
    "\n",
    "accuracy = accuracy_score(y_test, y_pred)\n",
    "print(\"Accuracy:\", accuracy)\n",
    "# Calculate classification report\n",
    "\n",
    "\n",
    "s_class_report_tfidf_extracted = classification_report(y_test, y_pred, output_dict=True)\n"
   ]
  },
  {
   "cell_type": "code",
   "execution_count": null,
   "metadata": {},
   "outputs": [
    {
     "name": "stdout",
     "output_type": "stream",
     "text": [
      "Best hyperparameters: {'C': 1, 'kernel': 'rbf'}\n",
      "Accuracy: 0.7638190954773869\n"
     ]
    }
   ],
   "source": [
    "# using content, # TF_IDF normal\n",
    "\n",
    "from sklearn.model_selection import train_test_split, GridSearchCV\n",
    "from sklearn.svm import SVC\n",
    "from scipy.sparse import csr_matrix\n",
    "from sklearn.metrics import accuracy_score, classification_report, confusion_matrix\n",
    "\n",
    "\n",
    "# Added a label encoder, because the r2 didn't seem to work when training\n",
    "from sklearn.preprocessing import LabelEncoder\n",
    "lb = LabelEncoder()\n",
    "y = lb.fit_transform(Y)\n",
    "\n",
    "X_train, X_test, y_train, y_test = train_test_split(csr_matrix(c_corpus_tfidf_sparse), y, test_size=0.3, random_state=42)\n",
    "# print(len(y_test))\n",
    "# print(len(y_train))\n",
    "svm = SVC()\n",
    "\n",
    "grid_search = GridSearchCV(svm, param_grid, cv=5, scoring='r2')\n",
    "grid_search.fit(X_train, y_train)\n",
    "\n",
    "best_params = grid_search.best_params_\n",
    "print(\"Best hyperparameters:\", best_params)\n",
    "\n",
    "c_best_svm = SVC(**best_params)\n",
    "\n",
    "c_best_svm.fit(X_train, y_train)\n",
    "\n",
    "y_pred = c_best_svm.predict(X_test)\n",
    "\n",
    "accuracy = accuracy_score(y_test, y_pred)\n",
    "print(\"Accuracy:\", accuracy)\n",
    "\n",
    "\n",
    "# Calculate classification report\n",
    "c_class_report_tfidf_normal = classification_report(y_test, y_pred, output_dict=True)\n"
   ]
  },
  {
   "cell_type": "code",
   "execution_count": null,
   "metadata": {},
   "outputs": [
    {
     "name": "stdout",
     "output_type": "stream",
     "text": [
      "Best hyperparameters: {'C': 10, 'kernel': 'linear'}\n",
      "Accuracy: 0.7587939698492462\n"
     ]
    }
   ],
   "source": [
    "# using extracted TFIDF content\n",
    "\n",
    "lb = LabelEncoder()\n",
    "y = lb.fit_transform(Y)\n",
    "\n",
    "X_train, X_test, y_train, y_test = train_test_split(csr_matrix(c_corpus_tfidf_svd), y, test_size=0.3, random_state=42)\n",
    "# print(len(y_test))\n",
    "# print(len(y_train))\n",
    "svm = SVC()\n",
    "\n",
    "grid_search = GridSearchCV(svm, param_grid, cv=5, scoring='r2')\n",
    "grid_search.fit(X_train, y_train)\n",
    "\n",
    "best_params = grid_search.best_params_\n",
    "print(\"Best hyperparameters:\", best_params)\n",
    "\n",
    "c_best_svm = SVC(**best_params)\n",
    "\n",
    "c_best_svm.fit(X_train, y_train)\n",
    "\n",
    "y_pred = c_best_svm.predict(X_test)\n",
    "\n",
    "accuracy = accuracy_score(y_test, y_pred)\n",
    "print(\"Accuracy:\", accuracy)\n",
    "# Calculate classification report\n",
    "c_class_report_tfidf_extracted = classification_report(y_test, y_pred, output_dict=True)\n"
   ]
  },
  {
   "cell_type": "markdown",
   "metadata": {},
   "source": [
    "*BOW*"
   ]
  },
  {
   "cell_type": "code",
   "execution_count": null,
   "metadata": {},
   "outputs": [
    {
     "name": "stdout",
     "output_type": "stream",
     "text": [
      "Best hyperparameters: {'C': 10, 'kernel': 'rbf'}\n",
      "Accuracy: 0.7587939698492462\n"
     ]
    }
   ],
   "source": [
    "# using summary, # BOW\n",
    "from scipy.sparse import hstack\n",
    "\n",
    "X_train, X_test, y_train, y_test = train_test_split(csr_matrix(s_corpus_bow_sparse), y, test_size=0.3, random_state=42)\n",
    "# print(len(y_test))\n",
    "# print(len(y_train))\n",
    "svm = SVC()\n",
    "\n",
    "grid_search = GridSearchCV(svm, param_grid, cv=5, scoring='r2')\n",
    "grid_search.fit(X_train, y_train)\n",
    "\n",
    "best_params = grid_search.best_params_\n",
    "print(\"Best hyperparameters:\", best_params)\n",
    "\n",
    "s_best_svm = SVC(**best_params)\n",
    "\n",
    "s_best_svm.fit(X_train, y_train)\n",
    "\n",
    "y_pred_bow = s_best_svm.predict(X_test)\n",
    "\n",
    "s_accuracy = accuracy_score(y_test, y_pred_bow)\n",
    "print(\"Accuracy:\", accuracy)\n",
    "\n",
    "\n",
    "s_class_report_bow_normal= classification_report(y_test, y_pred_bow, output_dict=True)\n"
   ]
  },
  {
   "cell_type": "code",
   "execution_count": null,
   "metadata": {},
   "outputs": [
    {
     "name": "stdout",
     "output_type": "stream",
     "text": [
      "Best hyperparameters: {'C': 1, 'kernel': 'rbf'}\n",
      "Accuracy: 0.7587939698492462\n"
     ]
    }
   ],
   "source": [
    "# using summary, # extracted BOW\n",
    "\n",
    "X_train, X_test, y_train, y_test = train_test_split(csr_matrix(s_corpus_bow_svd), y, test_size=0.3, random_state=42)\n",
    "# print(len(y_test))\n",
    "# print(len(y_train))\n",
    "svm = SVC()\n",
    "\n",
    "grid_search = GridSearchCV(svm, param_grid, cv=5, scoring='r2')\n",
    "grid_search.fit(X_train, y_train)\n",
    "\n",
    "best_params = grid_search.best_params_\n",
    "print(\"Best hyperparameters:\", best_params)\n",
    "\n",
    "s_best_svm = SVC(**best_params)\n",
    "\n",
    "s_best_svm.fit(X_train, y_train)\n",
    "\n",
    "y_pred_bow = s_best_svm.predict(X_test)\n",
    "\n",
    "s_accuracy = accuracy_score(y_test, y_pred_bow)\n",
    "print(\"Accuracy:\", accuracy)\n",
    "\n",
    "\n",
    "s_class_report_bow_extracted = classification_report(y_test, y_pred_bow, output_dict=True)\n"
   ]
  },
  {
   "cell_type": "code",
   "execution_count": null,
   "metadata": {},
   "outputs": [
    {
     "name": "stdout",
     "output_type": "stream",
     "text": [
      "Best hyperparameters: {'C': 10, 'kernel': 'rbf'}\n",
      "Accuracy: 0.7370184254606366\n"
     ]
    }
   ],
   "source": [
    "# using normal, # BOW content\n",
    "from scipy.sparse import hstack\n",
    "\n",
    "X_train, X_test, y_train, y_test = train_test_split(csr_matrix(c_corpus_bow_sparse), y, test_size=0.3, random_state=42)\n",
    "# print(len(y_test))\n",
    "# print(len(y_train))\n",
    "svm = SVC()\n",
    "\n",
    "grid_search = GridSearchCV(svm, param_grid, cv=5, scoring='r2')\n",
    "grid_search.fit(X_train, y_train)\n",
    "\n",
    "best_params = grid_search.best_params_\n",
    "print(\"Best hyperparameters:\", best_params)\n",
    "\n",
    "c_best_svm = SVC(**best_params)\n",
    "\n",
    "c_best_svm.fit(X_train, y_train)\n",
    "\n",
    "y_pred_bow = c_best_svm.predict(X_test)\n",
    "\n",
    "c_accuracy = accuracy_score(y_test, y_pred_bow)\n",
    "print(\"Accuracy:\", c_accuracy)\n",
    "\n",
    "c_class_report_bow_normal = classification_report(y_test, y_pred_bow, output_dict=True)"
   ]
  },
  {
   "cell_type": "code",
   "execution_count": null,
   "metadata": {},
   "outputs": [
    {
     "name": "stdout",
     "output_type": "stream",
     "text": [
      "Best hyperparameters: {'C': 1, 'kernel': 'rbf'}\n",
      "Accuracy: 0.7587939698492462\n"
     ]
    }
   ],
   "source": [
    "# using # extracted BOW content\n",
    "\n",
    "X_train, X_test, y_train, y_test = train_test_split(csr_matrix(s_corpus_bow_svd), y, test_size=0.3, random_state=42)\n",
    "# print(len(y_test))\n",
    "# print(len(y_train))\n",
    "svm = SVC()\n",
    "\n",
    "grid_search = GridSearchCV(svm, param_grid, cv=5, scoring='r2')\n",
    "grid_search.fit(X_train, y_train)\n",
    "\n",
    "best_params = grid_search.best_params_\n",
    "print(\"Best hyperparameters:\", best_params)\n",
    "\n",
    "c_best_svm = SVC(**best_params)\n",
    "\n",
    "c_best_svm.fit(X_train, y_train)\n",
    "\n",
    "y_pred_bow = c_best_svm.predict(X_test)\n",
    "\n",
    "c_accuracy = accuracy_score(y_test, y_pred_bow)\n",
    "print(\"Accuracy:\", accuracy)\n",
    "\n",
    "\n",
    "c_class_report_bow_extracted = classification_report(y_test, y_pred_bow, output_dict=True)"
   ]
  },
  {
   "cell_type": "code",
   "execution_count": null,
   "metadata": {},
   "outputs": [
    {
     "name": "stdout",
     "output_type": "stream",
     "text": [
      "gottem\n"
     ]
    }
   ],
   "source": [
    "## get all the dfs\n",
    "df_s_class_report_word2vec = pd.DataFrame(s_class_report_word2vec_normal).transpose()\n",
    "df_s_class_report_word2vec_ex = pd.DataFrame(s_class_report_word2vec_extracted).transpose()\n",
    "\n",
    "df_s_class_report_LDA = pd.DataFrame(s_class_report_LDA).transpose()\n",
    "\n",
    "df_s_class_report_doc2vec = pd.DataFrame(s_class_report_doc2vec_normal).transpose()\n",
    "df_s_class_report_doc2vec_ex = pd.DataFrame(s_class_report_doc2vec_extracted).transpose()\n",
    "\n",
    "df_s_class_report_tfidf = pd.DataFrame(s_class_report_tfidf_normal).transpose()\n",
    "df_s_class_report_tfidf_ex = pd.DataFrame(s_class_report_tfidf_extracted).transpose()\n",
    "\n",
    "df_s_class_report_bow = pd.DataFrame(s_class_report_bow_normal).transpose()\n",
    "df_s_class_report_bow_ex = pd.DataFrame(s_class_report_bow_extracted).transpose()\n",
    "\n",
    "\n",
    "\n",
    "df_c_class_report_word2vec = pd.DataFrame(c_class_report_word2vec_normal).transpose()\n",
    "df_c_class_report_word2vec_ex = pd.DataFrame(c_class_report_word2vec_extracted).transpose()\n",
    "\n",
    "df_c_class_report_LDA = pd.DataFrame(c_class_report_LDA).transpose()\n",
    "\n",
    "df_c_class_report_doc2vec = pd.DataFrame(c_class_report_doc2vec_normal).transpose()\n",
    "df_c_class_report_doc2vec_ex = pd.DataFrame(c_class_report_doc2vec_extracted).transpose()\n",
    "\n",
    "df_c_class_report_tfidf = pd.DataFrame(c_class_report_tfidf_normal).transpose()\n",
    "df_c_class_report_tfidf_ex = pd.DataFrame(c_class_report_tfidf_extracted).transpose()\n",
    "\n",
    "df_c_class_report_bow = pd.DataFrame(c_class_report_bow_normal).transpose()\n",
    "df_c_class_report_bow_ex = pd.DataFrame(c_class_report_bow_extracted).transpose()\n",
    "print('gottem')\n"
   ]
  },
  {
   "cell_type": "code",
   "execution_count": null,
   "metadata": {},
   "outputs": [
    {
     "name": "stderr",
     "output_type": "stream",
     "text": [
      "/Users/adamousherovitch/opt/anaconda3/lib/python3.8/site-packages/dash/_jupyter.py:28: DeprecationWarning: The `ipykernel.comm.Comm` class has been deprecated. Please use the `comm` module instead.For creating comms, use the function `from comm import create_comm`.\n",
      "  _dash_comm = Comm(target_name=\"dash\")\n",
      "/Users/adamousherovitch/opt/anaconda3/lib/python3.8/site-packages/plotly/express/imshow_utils.py:24: DeprecationWarning: `np.bool8` is a deprecated alias for `np.bool_`.  (Deprecated NumPy 1.24)\n",
      "  np.bool8: (False, True),\n",
      "/var/folders/6j/b_0507411fbfr6xghch8pd1m0000gn/T/ipykernel_63536/675762345.py:24: UserWarning:\n",
      "\n",
      "\n",
      "The dash_table package is deprecated. Please replace\n",
      "`import dash_table` with `from dash import dash_table`\n",
      "\n",
      "Also, if you're using any of the table format helpers (e.g. Group), replace \n",
      "`from dash_table.Format import Group` with \n",
      "`from dash.dash_table.Format import Group`\n",
      "\n"
     ]
    },
    {
     "data": {
      "text/html": [
       "\n",
       "        <iframe\n",
       "            width=\"100%\"\n",
       "            height=\"650\"\n",
       "            src=\"http://127.0.0.1:8050/\"\n",
       "            frameborder=\"0\"\n",
       "            allowfullscreen\n",
       "            \n",
       "        ></iframe>\n",
       "        "
      ],
      "text/plain": [
       "<IPython.lib.display.IFrame at 0x7fa7347cf7f0>"
      ]
     },
     "metadata": {},
     "output_type": "display_data"
    }
   ],
   "source": [
    "import dash\n",
    "from dash import dcc, html, Input, Output\n",
    "import plotly.express as px\n",
    "import pandas as pd\n",
    "from sklearn.metrics import classification_report, confusion_matrix\n",
    "import numpy as np\n",
    "\n",
    "# Assuming y_pred contains the predicted labels and y_test contains the true labels\n",
    "\n",
    "# Calculate confusion matrix\n",
    "conf_matrix = confusion_matrix(y_test, y_pred)\n",
    "\n",
    "# Get unique category labels\n",
    "labels = np.unique(Y)\n",
    "\n",
    "class_report_df = df_s_class_report_bow\n",
    "# Dash app\n",
    "app = dash.Dash(__name__)\n",
    "\n",
    "# Confusion Matrix Figure\n",
    "fig_conf_matrix = px.imshow(conf_matrix, labels=dict(x=\"Predicted\", y=\"True\", color=\"Count\"),\n",
    "                             x=labels, y=labels)\n",
    "\n",
    "import dash_table\n",
    "\n",
    "# Classification Report Table\n",
    "fig_class_report = html.Div(\n",
    "    id='class-report-div',\n",
    "    children=[\n",
    "        html.H4(\"Classification Report\"),\n",
    "        dash_table.DataTable(\n",
    "            id='class-report-table',\n",
    "            columns=[{\"name\": i, \"id\": i} for i in class_report_df.columns],\n",
    "            data=class_report_df.to_dict('records'),\n",
    "            style_table={'height': '300px', 'overflowY': 'auto'}\n",
    "        )\n",
    "    ]\n",
    ")\n",
    "\n",
    "# Directions for navigating the figure\n",
    "directions = html.Div([\n",
    "    html.H4(\"Directions\"),\n",
    "    html.P(\"Use the mouse to hover over each cell to see the exact count of instances.\"),\n",
    "    html.P(\"Click and drag to select a portion of the matrix to zoom in.\"),\n",
    "    html.P(\"Double click to reset the zoom level.\"),\n",
    "], id='directions')\n",
    "\n",
    "# Button to hide/show directions\n",
    "directions_button = html.Button('Hide Directions', id='directions-button', n_clicks=0)\n",
    "\n",
    "# Dropdown options with category names and metrics\n",
    "dropdown_options = [{'label': f\"{col} ({label})\", 'value': col} for col, label in zip(class_report_df.columns, labels)]\n",
    "\n",
    "# Layout\n",
    "app.layout = html.Div([\n",
    "    html.H1(\"Document Classification Dashboard\"),\n",
    "    \n",
    "    html.Div([\n",
    "        html.Div([\n",
    "            dcc.Graph(id='confusion-matrix', figure=fig_conf_matrix),\n",
    "            directions,\n",
    "            directions_button\n",
    "        ], style={'width': '50%', 'display': 'inline-block'}),\n",
    "        \n",
    "        html.Div([\n",
    "            dcc.RadioItems(\n",
    "                id='report-type',\n",
    "                options=[\n",
    "                    {'label': 'Summary', 'value': 'summary'},\n",
    "                    {'label': 'Content', 'value': 'content'}\n",
    "                ],\n",
    "                value='summary',  # Default value\n",
    "                labelStyle={'display': 'block'}\n",
    "            ),\n",
    "            html.Div(id='report-container')\n",
    "        ], style={'width': '50%', 'display': 'inline-block'}),\n",
    "        \n",
    "        \n",
    "        html.Div([\n",
    "    dcc.RadioItems(\n",
    "        id='model-type',\n",
    "        options=[\n",
    "            {'label': 'TFIDF', 'value': 'tfidf'},\n",
    "            {'label': 'BOW', 'value': 'bow'}\n",
    "        ],\n",
    "        value='tfidf',  # Default value\n",
    "        labelStyle={'display': 'block'}\n",
    "    ),\n",
    "    dcc.Graph(id='model-performance')\n",
    "    ]),\n",
    "\n",
    "\n",
    "        \n",
    "        html.Div([\n",
    "            fig_class_report,\n",
    "            dcc.Dropdown(\n",
    "                id='class-dropdown',\n",
    "                options=dropdown_options,\n",
    "                value='precision',  # Default value\n",
    "                style={'width': '100%'}\n",
    "            )\n",
    "        ], style={'width': '50%', 'display': 'inline-block'})\n",
    "    ])\n",
    "])\n",
    "\n",
    "# Callback to update the classification report based on dropdown selection\n",
    "@app.callback(\n",
    "    Output('class-report-div', 'children'),\n",
    "    [Input('class-dropdown', 'value')]\n",
    ")\n",
    "def update_class_report(metric):\n",
    "    updated_class_report_df = class_report_df[[metric]]\n",
    "    updated_fig_class_report = html.Div(\n",
    "        id='class-report-div',\n",
    "        children=[\n",
    "            html.H4(\"Classification Report\"),\n",
    "            dash_table.DataTable(\n",
    "                id='class-report-table',\n",
    "                columns=[{\"name\": i, \"id\": i} for i in updated_class_report_df.columns],\n",
    "                data=updated_class_report_df.to_dict('records'),\n",
    "                style_table={'height': '300px', 'overflowY': 'auto'}\n",
    "            )\n",
    "        ]\n",
    "    )\n",
    "    return updated_fig_class_report\n",
    "\n",
    "# Callback to hide/show directions\n",
    "@app.callback(\n",
    "    Output('directions', 'style'),\n",
    "    [Input('directions-button', 'n_clicks')]\n",
    ")\n",
    "def toggle_directions(n_clicks):\n",
    "    if n_clicks % 2 == 0:\n",
    "        return {'display': 'block'}\n",
    "    else:\n",
    "        return {'display': 'none'}\n",
    "\n",
    "if __name__ == '__main__':\n",
    "    app.run_server(debug=True)"
   ]
  },
  {
   "cell_type": "code",
   "execution_count": null,
   "metadata": {},
   "outputs": [],
   "source": [
    "class_report_df_1 = df_s_class_report_bow\n",
    "\n",
    "class_report_df_2 = df_s_class_report_tfidf"
   ]
  },
  {
   "cell_type": "code",
   "execution_count": null,
   "metadata": {},
   "outputs": [
    {
     "data": {
      "text/html": [
       "\n",
       "        <iframe\n",
       "            width=\"100%\"\n",
       "            height=\"650\"\n",
       "            src=\"http://127.0.0.1:8050/\"\n",
       "            frameborder=\"0\"\n",
       "            allowfullscreen\n",
       "            \n",
       "        ></iframe>\n",
       "        "
      ],
      "text/plain": [
       "<IPython.lib.display.IFrame at 0x7fa712114730>"
      ]
     },
     "metadata": {},
     "output_type": "display_data"
    }
   ],
   "source": [
    "import dash\n",
    "from dash import dcc, html, Input, Output\n",
    "import plotly.graph_objs as go\n",
    "import pandas as pd\n",
    "\n",
    "# Define Dash app\n",
    "app = dash.Dash(__name__)\n",
    "\n",
    "# Layout\n",
    "app.layout = html.Div([\n",
    "    html.H1(\"Document Classification Dashboard\"),\n",
    "    \n",
    "    # Radio buttons for model type (TF-IDF or BOW)\n",
    "    html.Div([\n",
    "        dcc.RadioItems(\n",
    "            id='model-type',\n",
    "            options=[\n",
    "                {'label': 'TF-IDF', 'value': 'tfidf'},\n",
    "                {'label': 'BOW', 'value': 'bow'}\n",
    "            ],\n",
    "            value='tfidf',  # Default value\n",
    "            labelStyle={'display': 'block'}\n",
    "        ),\n",
    "    ]),\n",
    "    \n",
    "    # Graph to display model performance\n",
    "    html.Div([\n",
    "        dcc.Graph(id='model-performance-graph'),\n",
    "    ]),\n",
    "])\n",
    "\n",
    "# Callback to update the graph with model performance metrics\n",
    "@app.callback(\n",
    "    Output('model-performance-graph', 'figure'),\n",
    "    [Input('model-type', 'value')]\n",
    ")\n",
    "def update_model_performance(model_type):\n",
    "    # Filter the appropriate metrics based on the model type\n",
    "    if model_type == 'tfidf':\n",
    "        model_metrics = class_report_df_1.loc[['0', '1', '2', '3', 'accuracy', 'macro avg', 'weighted avg']]\n",
    "    else:\n",
    "        model_metrics = class_report_df_2.loc[['0', '1', '2', '3', 'accuracy', 'macro avg', 'weighted avg']] - .5\n",
    "    \n",
    "    # Create traces for precision, recall, and f1-score\n",
    "    precision_trace = go.Bar(\n",
    "        x=model_metrics.index,\n",
    "        y=model_metrics['precision'],\n",
    "        name='Precision'\n",
    "    )\n",
    "    recall_trace = go.Bar(\n",
    "        x=model_metrics.index,\n",
    "        y=model_metrics['recall'],\n",
    "        name='Recall'\n",
    "    )\n",
    "    f1_score_trace = go.Bar(\n",
    "        x=model_metrics.index,\n",
    "        y=model_metrics['f1-score'],\n",
    "        name='F1-Score'\n",
    "    )\n",
    "    \n",
    "    # Create layout for the graph\n",
    "    layout = go.Layout(\n",
    "        title='Model Performance Metrics',\n",
    "        barmode='group',\n",
    "        xaxis=dict(title='Category'),\n",
    "        yaxis=dict(title='Score'),\n",
    "    )\n",
    "    \n",
    "    # Return the figure\n",
    "    return {'data': [precision_trace, recall_trace, f1_score_trace], 'layout': layout}\n",
    "\n",
    "# Run the Dash app\n",
    "if __name__ == '__main__':\n",
    "    app.run_server(debug=True)\n",
    "\n"
   ]
  }
 ],
 "metadata": {
  "kernelspec": {
   "display_name": "Python 3 (ipykernel)",
   "language": "python",
   "name": "python3"
  },
  "language_info": {
   "codemirror_mode": {
    "name": "ipython",
    "version": 3
   },
   "file_extension": ".py",
   "mimetype": "text/x-python",
   "name": "python",
   "nbconvert_exporter": "python",
   "pygments_lexer": "ipython3",
   "version": "3.8.15"
  },
  "vscode": {
   "interpreter": {
    "hash": "c28b83a111f823c784db74d6c7d24d031e83eefbd1b207e5d0cb7b5facb0bacc"
   }
  }
 },
 "nbformat": 4,
 "nbformat_minor": 2
}
